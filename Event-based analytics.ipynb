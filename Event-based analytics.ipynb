{
 "cells": [
  {
   "cell_type": "markdown",
   "metadata": {},
   "source": [
    "# Event-based analytics"
   ]
  },
  {
   "cell_type": "markdown",
   "metadata": {},
   "source": [
    "In this project, I will investigate user behavior for a company's app - a startup that sells food products. I will use a dataset the information on actions users made on the app (events), throughout an A/B test that was conducted.\n",
    "in order to reach conclusions, I will do the following:\n",
    "1. Download and explore the data\n",
    "2. Prepare the data for analysis\n",
    "3. Study and check the data\n",
    "4. Study the event funnel\n",
    "5. Study the results of the experiment\n"
   ]
  },
  {
   "cell_type": "markdown",
   "metadata": {},
   "source": [
    "##  Download and explore the data\n"
   ]
  },
  {
   "cell_type": "code",
   "execution_count": 64,
   "metadata": {
    "scrolled": false
   },
   "outputs": [
    {
     "data": {
      "text/html": [
       "        <script type=\"text/javascript\">\n",
       "        window.PlotlyConfig = {MathJaxConfig: 'local'};\n",
       "        if (window.MathJax) {MathJax.Hub.Config({SVG: {font: \"STIX-Web\"}});}\n",
       "        if (typeof require !== 'undefined') {\n",
       "        require.undef(\"plotly\");\n",
       "        requirejs.config({\n",
       "            paths: {\n",
       "                'plotly': ['https://cdn.plot.ly/plotly-2.11.1.min']\n",
       "            }\n",
       "        });\n",
       "        require(['plotly'], function(Plotly) {\n",
       "            window._Plotly = Plotly;\n",
       "        });\n",
       "        }\n",
       "        </script>\n",
       "        "
      ]
     },
     "metadata": {},
     "output_type": "display_data"
    }
   ],
   "source": [
    "# Loading all the libraries i will use:\n",
    "\n",
    "import pandas as pd\n",
    "import pandas as pd\n",
    "import numpy as np\n",
    "import matplotlib.pyplot as plt\n",
    "import datetime\n",
    "import seaborn as sns\n",
    "import math \n",
    "from functools import reduce\n",
    "from scipy import stats as st\n",
    "import warnings\n",
    "import plotly.express as px\n",
    "import plotly.graph_objects as go\n",
    "import plotly.offline\n",
    "import nltk, re\n",
    "import string\n",
    "from collections import Counter\n",
    "from string import punctuation\n",
    "import requests \n",
    "import io\n",
    "plotly.offline.init_notebook_mode(connected=True)\n",
    "warnings.filterwarnings(\"ignore\")"
   ]
  },
  {
   "cell_type": "code",
   "execution_count": 65,
   "metadata": {
    "scrolled": true
   },
   "outputs": [
    {
     "data": {
      "text/html": [
       "<div>\n",
       "<style scoped>\n",
       "    .dataframe tbody tr th:only-of-type {\n",
       "        vertical-align: middle;\n",
       "    }\n",
       "\n",
       "    .dataframe tbody tr th {\n",
       "        vertical-align: top;\n",
       "    }\n",
       "\n",
       "    .dataframe thead th {\n",
       "        text-align: right;\n",
       "    }\n",
       "</style>\n",
       "<table border=\"1\" class=\"dataframe\">\n",
       "  <thead>\n",
       "    <tr style=\"text-align: right;\">\n",
       "      <th></th>\n",
       "      <th>EventName</th>\n",
       "      <th>DeviceIDHash</th>\n",
       "      <th>EventTimestamp</th>\n",
       "      <th>ExpId</th>\n",
       "    </tr>\n",
       "  </thead>\n",
       "  <tbody>\n",
       "    <tr>\n",
       "      <th>0</th>\n",
       "      <td>MainScreenAppear</td>\n",
       "      <td>4575588528974610257</td>\n",
       "      <td>1564029816</td>\n",
       "      <td>246</td>\n",
       "    </tr>\n",
       "    <tr>\n",
       "      <th>1</th>\n",
       "      <td>MainScreenAppear</td>\n",
       "      <td>7416695313311560658</td>\n",
       "      <td>1564053102</td>\n",
       "      <td>246</td>\n",
       "    </tr>\n",
       "    <tr>\n",
       "      <th>2</th>\n",
       "      <td>PaymentScreenSuccessful</td>\n",
       "      <td>3518123091307005509</td>\n",
       "      <td>1564054127</td>\n",
       "      <td>248</td>\n",
       "    </tr>\n",
       "    <tr>\n",
       "      <th>3</th>\n",
       "      <td>CartScreenAppear</td>\n",
       "      <td>3518123091307005509</td>\n",
       "      <td>1564054127</td>\n",
       "      <td>248</td>\n",
       "    </tr>\n",
       "    <tr>\n",
       "      <th>4</th>\n",
       "      <td>PaymentScreenSuccessful</td>\n",
       "      <td>6217807653094995999</td>\n",
       "      <td>1564055322</td>\n",
       "      <td>248</td>\n",
       "    </tr>\n",
       "  </tbody>\n",
       "</table>\n",
       "</div>"
      ],
      "text/plain": [
       "                 EventName         DeviceIDHash  EventTimestamp  ExpId\n",
       "0         MainScreenAppear  4575588528974610257      1564029816    246\n",
       "1         MainScreenAppear  7416695313311560658      1564053102    246\n",
       "2  PaymentScreenSuccessful  3518123091307005509      1564054127    248\n",
       "3         CartScreenAppear  3518123091307005509      1564054127    248\n",
       "4  PaymentScreenSuccessful  6217807653094995999      1564055322    248"
      ]
     },
     "execution_count": 65,
     "metadata": {},
     "output_type": "execute_result"
    }
   ],
   "source": [
    "# Downloading the csv file from my GitHub account\n",
    "\n",
    "url = \"https://raw.githubusercontent.com/yoav-karsenty/Event-based-analytics/main/logs_exp_us.csv\"\n",
    "download = requests.get(url).content\n",
    "\n",
    "# Reading the downloaded content and turning it into a pandas dataframe\n",
    "\n",
    "food = pd.read_csv(io.StringIO(download.decode('utf-8')),sep = \"\\t\")\n",
    "\n",
    "\n",
    "#exploring the data\n",
    "\n",
    "food.head()"
   ]
  },
  {
   "cell_type": "code",
   "execution_count": 66,
   "metadata": {
    "scrolled": false
   },
   "outputs": [
    {
     "name": "stdout",
     "output_type": "stream",
     "text": [
      "<class 'pandas.core.frame.DataFrame'>\n",
      "RangeIndex: 244126 entries, 0 to 244125\n",
      "Data columns (total 4 columns):\n",
      " #   Column          Non-Null Count   Dtype \n",
      "---  ------          --------------   ----- \n",
      " 0   EventName       244126 non-null  object\n",
      " 1   DeviceIDHash    244126 non-null  int64 \n",
      " 2   EventTimestamp  244126 non-null  int64 \n",
      " 3   ExpId           244126 non-null  int64 \n",
      "dtypes: int64(3), object(1)\n",
      "memory usage: 7.5+ MB\n"
     ]
    }
   ],
   "source": [
    "food.info()"
   ]
  },
  {
   "cell_type": "markdown",
   "metadata": {},
   "source": [
    "##  Preparing the data for analysis\n"
   ]
  },
  {
   "cell_type": "markdown",
   "metadata": {},
   "source": [
    "I can see there are no missing values, but i need to fix the data type on the eventtimstamp column and change the columns names."
   ]
  },
  {
   "cell_type": "code",
   "execution_count": 67,
   "metadata": {},
   "outputs": [],
   "source": [
    "#lowering the columns letter case for my convenient \n",
    "food.columns = food.columns.str.lower()\n"
   ]
  },
  {
   "cell_type": "code",
   "execution_count": 68,
   "metadata": {},
   "outputs": [
    {
     "data": {
      "text/html": [
       "<div>\n",
       "<style scoped>\n",
       "    .dataframe tbody tr th:only-of-type {\n",
       "        vertical-align: middle;\n",
       "    }\n",
       "\n",
       "    .dataframe tbody tr th {\n",
       "        vertical-align: top;\n",
       "    }\n",
       "\n",
       "    .dataframe thead th {\n",
       "        text-align: right;\n",
       "    }\n",
       "</style>\n",
       "<table border=\"1\" class=\"dataframe\">\n",
       "  <thead>\n",
       "    <tr style=\"text-align: right;\">\n",
       "      <th></th>\n",
       "      <th>eventname</th>\n",
       "      <th>deviceidhash</th>\n",
       "      <th>eventtimestamp</th>\n",
       "      <th>expid</th>\n",
       "    </tr>\n",
       "  </thead>\n",
       "  <tbody>\n",
       "    <tr>\n",
       "      <th>0</th>\n",
       "      <td>MainScreenAppear</td>\n",
       "      <td>4575588528974610257</td>\n",
       "      <td>1564029816</td>\n",
       "      <td>246</td>\n",
       "    </tr>\n",
       "    <tr>\n",
       "      <th>1</th>\n",
       "      <td>MainScreenAppear</td>\n",
       "      <td>7416695313311560658</td>\n",
       "      <td>1564053102</td>\n",
       "      <td>246</td>\n",
       "    </tr>\n",
       "    <tr>\n",
       "      <th>2</th>\n",
       "      <td>PaymentScreenSuccessful</td>\n",
       "      <td>3518123091307005509</td>\n",
       "      <td>1564054127</td>\n",
       "      <td>248</td>\n",
       "    </tr>\n",
       "    <tr>\n",
       "      <th>3</th>\n",
       "      <td>CartScreenAppear</td>\n",
       "      <td>3518123091307005509</td>\n",
       "      <td>1564054127</td>\n",
       "      <td>248</td>\n",
       "    </tr>\n",
       "    <tr>\n",
       "      <th>4</th>\n",
       "      <td>PaymentScreenSuccessful</td>\n",
       "      <td>6217807653094995999</td>\n",
       "      <td>1564055322</td>\n",
       "      <td>248</td>\n",
       "    </tr>\n",
       "  </tbody>\n",
       "</table>\n",
       "</div>"
      ],
      "text/plain": [
       "                 eventname         deviceidhash  eventtimestamp  expid\n",
       "0         MainScreenAppear  4575588528974610257      1564029816    246\n",
       "1         MainScreenAppear  7416695313311560658      1564053102    246\n",
       "2  PaymentScreenSuccessful  3518123091307005509      1564054127    248\n",
       "3         CartScreenAppear  3518123091307005509      1564054127    248\n",
       "4  PaymentScreenSuccessful  6217807653094995999      1564055322    248"
      ]
     },
     "execution_count": 68,
     "metadata": {},
     "output_type": "execute_result"
    }
   ],
   "source": [
    "food.head()"
   ]
  },
  {
   "cell_type": "code",
   "execution_count": 69,
   "metadata": {},
   "outputs": [
    {
     "data": {
      "text/html": [
       "<div>\n",
       "<style scoped>\n",
       "    .dataframe tbody tr th:only-of-type {\n",
       "        vertical-align: middle;\n",
       "    }\n",
       "\n",
       "    .dataframe tbody tr th {\n",
       "        vertical-align: top;\n",
       "    }\n",
       "\n",
       "    .dataframe thead th {\n",
       "        text-align: right;\n",
       "    }\n",
       "</style>\n",
       "<table border=\"1\" class=\"dataframe\">\n",
       "  <thead>\n",
       "    <tr style=\"text-align: right;\">\n",
       "      <th></th>\n",
       "      <th>event_name</th>\n",
       "      <th>device_id</th>\n",
       "      <th>event_timestamp</th>\n",
       "      <th>expid</th>\n",
       "    </tr>\n",
       "  </thead>\n",
       "  <tbody>\n",
       "    <tr>\n",
       "      <th>0</th>\n",
       "      <td>MainScreenAppear</td>\n",
       "      <td>4575588528974610257</td>\n",
       "      <td>1564029816</td>\n",
       "      <td>246</td>\n",
       "    </tr>\n",
       "    <tr>\n",
       "      <th>1</th>\n",
       "      <td>MainScreenAppear</td>\n",
       "      <td>7416695313311560658</td>\n",
       "      <td>1564053102</td>\n",
       "      <td>246</td>\n",
       "    </tr>\n",
       "    <tr>\n",
       "      <th>2</th>\n",
       "      <td>PaymentScreenSuccessful</td>\n",
       "      <td>3518123091307005509</td>\n",
       "      <td>1564054127</td>\n",
       "      <td>248</td>\n",
       "    </tr>\n",
       "    <tr>\n",
       "      <th>3</th>\n",
       "      <td>CartScreenAppear</td>\n",
       "      <td>3518123091307005509</td>\n",
       "      <td>1564054127</td>\n",
       "      <td>248</td>\n",
       "    </tr>\n",
       "    <tr>\n",
       "      <th>4</th>\n",
       "      <td>PaymentScreenSuccessful</td>\n",
       "      <td>6217807653094995999</td>\n",
       "      <td>1564055322</td>\n",
       "      <td>248</td>\n",
       "    </tr>\n",
       "  </tbody>\n",
       "</table>\n",
       "</div>"
      ],
      "text/plain": [
       "                event_name            device_id  event_timestamp  expid\n",
       "0         MainScreenAppear  4575588528974610257       1564029816    246\n",
       "1         MainScreenAppear  7416695313311560658       1564053102    246\n",
       "2  PaymentScreenSuccessful  3518123091307005509       1564054127    248\n",
       "3         CartScreenAppear  3518123091307005509       1564054127    248\n",
       "4  PaymentScreenSuccessful  6217807653094995999       1564055322    248"
      ]
     },
     "execution_count": 69,
     "metadata": {},
     "output_type": "execute_result"
    }
   ],
   "source": [
    "# changing the columns name for my convineiet\n",
    "food.columns = ['event_name','device_id','event_timestamp','expid']\n",
    "food.head()"
   ]
  },
  {
   "cell_type": "code",
   "execution_count": 70,
   "metadata": {},
   "outputs": [
    {
     "name": "stdout",
     "output_type": "stream",
     "text": [
      "413\n"
     ]
    }
   ],
   "source": [
    "#cheking for dupicates\n",
    "print(food.duplicated().sum()) \n"
   ]
  },
  {
   "cell_type": "code",
   "execution_count": 71,
   "metadata": {
    "scrolled": false
   },
   "outputs": [
    {
     "data": {
      "text/html": [
       "<div>\n",
       "<style scoped>\n",
       "    .dataframe tbody tr th:only-of-type {\n",
       "        vertical-align: middle;\n",
       "    }\n",
       "\n",
       "    .dataframe tbody tr th {\n",
       "        vertical-align: top;\n",
       "    }\n",
       "\n",
       "    .dataframe thead th {\n",
       "        text-align: right;\n",
       "    }\n",
       "</style>\n",
       "<table border=\"1\" class=\"dataframe\">\n",
       "  <thead>\n",
       "    <tr style=\"text-align: right;\">\n",
       "      <th></th>\n",
       "      <th>event_name</th>\n",
       "      <th>device_id</th>\n",
       "      <th>event_timestamp</th>\n",
       "      <th>expid</th>\n",
       "    </tr>\n",
       "  </thead>\n",
       "  <tbody>\n",
       "    <tr>\n",
       "      <th>453</th>\n",
       "      <td>MainScreenAppear</td>\n",
       "      <td>5613408041324010552</td>\n",
       "      <td>1564474784</td>\n",
       "      <td>248</td>\n",
       "    </tr>\n",
       "    <tr>\n",
       "      <th>2350</th>\n",
       "      <td>CartScreenAppear</td>\n",
       "      <td>1694940645335807244</td>\n",
       "      <td>1564609899</td>\n",
       "      <td>248</td>\n",
       "    </tr>\n",
       "    <tr>\n",
       "      <th>3573</th>\n",
       "      <td>MainScreenAppear</td>\n",
       "      <td>434103746454591587</td>\n",
       "      <td>1564628377</td>\n",
       "      <td>248</td>\n",
       "    </tr>\n",
       "    <tr>\n",
       "      <th>4076</th>\n",
       "      <td>MainScreenAppear</td>\n",
       "      <td>3761373764179762633</td>\n",
       "      <td>1564631266</td>\n",
       "      <td>247</td>\n",
       "    </tr>\n",
       "    <tr>\n",
       "      <th>4803</th>\n",
       "      <td>MainScreenAppear</td>\n",
       "      <td>2835328739789306622</td>\n",
       "      <td>1564634641</td>\n",
       "      <td>248</td>\n",
       "    </tr>\n",
       "    <tr>\n",
       "      <th>...</th>\n",
       "      <td>...</td>\n",
       "      <td>...</td>\n",
       "      <td>...</td>\n",
       "      <td>...</td>\n",
       "    </tr>\n",
       "    <tr>\n",
       "      <th>242329</th>\n",
       "      <td>MainScreenAppear</td>\n",
       "      <td>8870358373313968633</td>\n",
       "      <td>1565206004</td>\n",
       "      <td>247</td>\n",
       "    </tr>\n",
       "    <tr>\n",
       "      <th>242332</th>\n",
       "      <td>PaymentScreenSuccessful</td>\n",
       "      <td>4718002964983105693</td>\n",
       "      <td>1565206005</td>\n",
       "      <td>247</td>\n",
       "    </tr>\n",
       "    <tr>\n",
       "      <th>242360</th>\n",
       "      <td>PaymentScreenSuccessful</td>\n",
       "      <td>2382591782303281935</td>\n",
       "      <td>1565206049</td>\n",
       "      <td>246</td>\n",
       "    </tr>\n",
       "    <tr>\n",
       "      <th>242362</th>\n",
       "      <td>CartScreenAppear</td>\n",
       "      <td>2382591782303281935</td>\n",
       "      <td>1565206049</td>\n",
       "      <td>246</td>\n",
       "    </tr>\n",
       "    <tr>\n",
       "      <th>242635</th>\n",
       "      <td>MainScreenAppear</td>\n",
       "      <td>4097782667445790512</td>\n",
       "      <td>1565206618</td>\n",
       "      <td>246</td>\n",
       "    </tr>\n",
       "  </tbody>\n",
       "</table>\n",
       "<p>413 rows × 4 columns</p>\n",
       "</div>"
      ],
      "text/plain": [
       "                     event_name            device_id  event_timestamp  expid\n",
       "453            MainScreenAppear  5613408041324010552       1564474784    248\n",
       "2350           CartScreenAppear  1694940645335807244       1564609899    248\n",
       "3573           MainScreenAppear   434103746454591587       1564628377    248\n",
       "4076           MainScreenAppear  3761373764179762633       1564631266    247\n",
       "4803           MainScreenAppear  2835328739789306622       1564634641    248\n",
       "...                         ...                  ...              ...    ...\n",
       "242329         MainScreenAppear  8870358373313968633       1565206004    247\n",
       "242332  PaymentScreenSuccessful  4718002964983105693       1565206005    247\n",
       "242360  PaymentScreenSuccessful  2382591782303281935       1565206049    246\n",
       "242362         CartScreenAppear  2382591782303281935       1565206049    246\n",
       "242635         MainScreenAppear  4097782667445790512       1565206618    246\n",
       "\n",
       "[413 rows x 4 columns]"
      ]
     },
     "execution_count": 71,
     "metadata": {},
     "output_type": "execute_result"
    }
   ],
   "source": [
    "food[food.duplicated(['event_name','device_id','event_timestamp'])]\n"
   ]
  },
  {
   "cell_type": "code",
   "execution_count": 72,
   "metadata": {},
   "outputs": [
    {
     "name": "stdout",
     "output_type": "stream",
     "text": [
      "event_name : 5\n",
      "device_id : 237\n",
      "event_timestamp : 352\n",
      "expid : 3\n"
     ]
    }
   ],
   "source": [
    "# checking the distribution of duplicates \n",
    "for i in food[food.duplicated()].columns:\n",
    "    print(i,':',food[food.duplicated()][i].nunique())"
   ]
  },
  {
   "cell_type": "code",
   "execution_count": 73,
   "metadata": {},
   "outputs": [],
   "source": [
    "# dropping the duplicates from the dataFrame\n",
    "food = food.drop_duplicates(['event_name','device_id','event_timestamp'],keep= 'last')\n"
   ]
  },
  {
   "cell_type": "code",
   "execution_count": 74,
   "metadata": {},
   "outputs": [
    {
     "data": {
      "text/html": [
       "<div>\n",
       "<style scoped>\n",
       "    .dataframe tbody tr th:only-of-type {\n",
       "        vertical-align: middle;\n",
       "    }\n",
       "\n",
       "    .dataframe tbody tr th {\n",
       "        vertical-align: top;\n",
       "    }\n",
       "\n",
       "    .dataframe thead th {\n",
       "        text-align: right;\n",
       "    }\n",
       "</style>\n",
       "<table border=\"1\" class=\"dataframe\">\n",
       "  <thead>\n",
       "    <tr style=\"text-align: right;\">\n",
       "      <th></th>\n",
       "      <th>event_name</th>\n",
       "      <th>device_id</th>\n",
       "      <th>event_timestamp</th>\n",
       "      <th>expid</th>\n",
       "    </tr>\n",
       "  </thead>\n",
       "  <tbody>\n",
       "    <tr>\n",
       "      <th>0</th>\n",
       "      <td>MainScreenAppear</td>\n",
       "      <td>4575588528974610257</td>\n",
       "      <td>2019-07-25 04:43:36</td>\n",
       "      <td>246</td>\n",
       "    </tr>\n",
       "    <tr>\n",
       "      <th>1</th>\n",
       "      <td>MainScreenAppear</td>\n",
       "      <td>7416695313311560658</td>\n",
       "      <td>2019-07-25 11:11:42</td>\n",
       "      <td>246</td>\n",
       "    </tr>\n",
       "    <tr>\n",
       "      <th>2</th>\n",
       "      <td>PaymentScreenSuccessful</td>\n",
       "      <td>3518123091307005509</td>\n",
       "      <td>2019-07-25 11:28:47</td>\n",
       "      <td>248</td>\n",
       "    </tr>\n",
       "    <tr>\n",
       "      <th>3</th>\n",
       "      <td>CartScreenAppear</td>\n",
       "      <td>3518123091307005509</td>\n",
       "      <td>2019-07-25 11:28:47</td>\n",
       "      <td>248</td>\n",
       "    </tr>\n",
       "    <tr>\n",
       "      <th>4</th>\n",
       "      <td>PaymentScreenSuccessful</td>\n",
       "      <td>6217807653094995999</td>\n",
       "      <td>2019-07-25 11:48:42</td>\n",
       "      <td>248</td>\n",
       "    </tr>\n",
       "    <tr>\n",
       "      <th>...</th>\n",
       "      <td>...</td>\n",
       "      <td>...</td>\n",
       "      <td>...</td>\n",
       "      <td>...</td>\n",
       "    </tr>\n",
       "    <tr>\n",
       "      <th>75</th>\n",
       "      <td>MainScreenAppear</td>\n",
       "      <td>8039133903955652950</td>\n",
       "      <td>2019-07-27 15:48:41</td>\n",
       "      <td>247</td>\n",
       "    </tr>\n",
       "    <tr>\n",
       "      <th>76</th>\n",
       "      <td>MainScreenAppear</td>\n",
       "      <td>8039133903955652950</td>\n",
       "      <td>2019-07-27 15:48:48</td>\n",
       "      <td>247</td>\n",
       "    </tr>\n",
       "    <tr>\n",
       "      <th>77</th>\n",
       "      <td>OffersScreenAppear</td>\n",
       "      <td>7851137947039862735</td>\n",
       "      <td>2019-07-27 16:21:24</td>\n",
       "      <td>246</td>\n",
       "    </tr>\n",
       "    <tr>\n",
       "      <th>78</th>\n",
       "      <td>OffersScreenAppear</td>\n",
       "      <td>2862153300066037949</td>\n",
       "      <td>2019-07-27 16:26:51</td>\n",
       "      <td>247</td>\n",
       "    </tr>\n",
       "    <tr>\n",
       "      <th>79</th>\n",
       "      <td>MainScreenAppear</td>\n",
       "      <td>3459903299997081409</td>\n",
       "      <td>2019-07-27 16:40:43</td>\n",
       "      <td>248</td>\n",
       "    </tr>\n",
       "  </tbody>\n",
       "</table>\n",
       "<p>80 rows × 4 columns</p>\n",
       "</div>"
      ],
      "text/plain": [
       "                 event_name            device_id     event_timestamp  expid\n",
       "0          MainScreenAppear  4575588528974610257 2019-07-25 04:43:36    246\n",
       "1          MainScreenAppear  7416695313311560658 2019-07-25 11:11:42    246\n",
       "2   PaymentScreenSuccessful  3518123091307005509 2019-07-25 11:28:47    248\n",
       "3          CartScreenAppear  3518123091307005509 2019-07-25 11:28:47    248\n",
       "4   PaymentScreenSuccessful  6217807653094995999 2019-07-25 11:48:42    248\n",
       "..                      ...                  ...                 ...    ...\n",
       "75         MainScreenAppear  8039133903955652950 2019-07-27 15:48:41    247\n",
       "76         MainScreenAppear  8039133903955652950 2019-07-27 15:48:48    247\n",
       "77       OffersScreenAppear  7851137947039862735 2019-07-27 16:21:24    246\n",
       "78       OffersScreenAppear  2862153300066037949 2019-07-27 16:26:51    247\n",
       "79         MainScreenAppear  3459903299997081409 2019-07-27 16:40:43    248\n",
       "\n",
       "[80 rows x 4 columns]"
      ]
     },
     "execution_count": 74,
     "metadata": {},
     "output_type": "execute_result"
    }
   ],
   "source": [
    "#converting the 'event_timestamp' column into date time format using the seconds format.\n",
    "food['event_timestamp'] = pd.to_datetime(food['event_timestamp'], unit='s')\n",
    "food.head(80)"
   ]
  },
  {
   "cell_type": "code",
   "execution_count": 75,
   "metadata": {},
   "outputs": [],
   "source": [
    "#Adding a date column\n",
    "food['date'] = food.event_timestamp.dt.date"
   ]
  },
  {
   "cell_type": "code",
   "execution_count": 76,
   "metadata": {},
   "outputs": [],
   "source": [
    "food['date'] = pd.to_datetime(food['date'])"
   ]
  },
  {
   "cell_type": "code",
   "execution_count": 77,
   "metadata": {
    "scrolled": false
   },
   "outputs": [
    {
     "data": {
      "text/html": [
       "<div>\n",
       "<style scoped>\n",
       "    .dataframe tbody tr th:only-of-type {\n",
       "        vertical-align: middle;\n",
       "    }\n",
       "\n",
       "    .dataframe tbody tr th {\n",
       "        vertical-align: top;\n",
       "    }\n",
       "\n",
       "    .dataframe thead th {\n",
       "        text-align: right;\n",
       "    }\n",
       "</style>\n",
       "<table border=\"1\" class=\"dataframe\">\n",
       "  <thead>\n",
       "    <tr style=\"text-align: right;\">\n",
       "      <th></th>\n",
       "      <th>event_name</th>\n",
       "      <th>device_id</th>\n",
       "      <th>event_timestamp</th>\n",
       "      <th>expid</th>\n",
       "      <th>date</th>\n",
       "    </tr>\n",
       "  </thead>\n",
       "  <tbody>\n",
       "    <tr>\n",
       "      <th>0</th>\n",
       "      <td>MainScreenAppear</td>\n",
       "      <td>4575588528974610257</td>\n",
       "      <td>2019-07-25 04:43:36</td>\n",
       "      <td>246</td>\n",
       "      <td>2019-07-25</td>\n",
       "    </tr>\n",
       "    <tr>\n",
       "      <th>1</th>\n",
       "      <td>MainScreenAppear</td>\n",
       "      <td>7416695313311560658</td>\n",
       "      <td>2019-07-25 11:11:42</td>\n",
       "      <td>246</td>\n",
       "      <td>2019-07-25</td>\n",
       "    </tr>\n",
       "    <tr>\n",
       "      <th>2</th>\n",
       "      <td>PaymentScreenSuccessful</td>\n",
       "      <td>3518123091307005509</td>\n",
       "      <td>2019-07-25 11:28:47</td>\n",
       "      <td>248</td>\n",
       "      <td>2019-07-25</td>\n",
       "    </tr>\n",
       "    <tr>\n",
       "      <th>3</th>\n",
       "      <td>CartScreenAppear</td>\n",
       "      <td>3518123091307005509</td>\n",
       "      <td>2019-07-25 11:28:47</td>\n",
       "      <td>248</td>\n",
       "      <td>2019-07-25</td>\n",
       "    </tr>\n",
       "    <tr>\n",
       "      <th>4</th>\n",
       "      <td>PaymentScreenSuccessful</td>\n",
       "      <td>6217807653094995999</td>\n",
       "      <td>2019-07-25 11:48:42</td>\n",
       "      <td>248</td>\n",
       "      <td>2019-07-25</td>\n",
       "    </tr>\n",
       "  </tbody>\n",
       "</table>\n",
       "</div>"
      ],
      "text/plain": [
       "                event_name            device_id     event_timestamp  expid  \\\n",
       "0         MainScreenAppear  4575588528974610257 2019-07-25 04:43:36    246   \n",
       "1         MainScreenAppear  7416695313311560658 2019-07-25 11:11:42    246   \n",
       "2  PaymentScreenSuccessful  3518123091307005509 2019-07-25 11:28:47    248   \n",
       "3         CartScreenAppear  3518123091307005509 2019-07-25 11:28:47    248   \n",
       "4  PaymentScreenSuccessful  6217807653094995999 2019-07-25 11:48:42    248   \n",
       "\n",
       "        date  \n",
       "0 2019-07-25  \n",
       "1 2019-07-25  \n",
       "2 2019-07-25  \n",
       "3 2019-07-25  \n",
       "4 2019-07-25  "
      ]
     },
     "execution_count": 77,
     "metadata": {},
     "output_type": "execute_result"
    }
   ],
   "source": [
    "food.head()"
   ]
  },
  {
   "cell_type": "markdown",
   "metadata": {},
   "source": [
    "##  Studying and checking the data"
   ]
  },
  {
   "cell_type": "code",
   "execution_count": 78,
   "metadata": {},
   "outputs": [
    {
     "data": {
      "text/plain": [
       "32.27559263673685"
      ]
     },
     "execution_count": 78,
     "metadata": {},
     "output_type": "execute_result"
    }
   ],
   "source": [
    "# Grouping by average number of events per user using mean \n",
    "food.groupby('device_id')['event_name'].count().mean()"
   ]
  },
  {
   "cell_type": "code",
   "execution_count": 79,
   "metadata": {},
   "outputs": [
    {
     "data": {
      "text/html": [
       "<div>\n",
       "<style scoped>\n",
       "    .dataframe tbody tr th:only-of-type {\n",
       "        vertical-align: middle;\n",
       "    }\n",
       "\n",
       "    .dataframe tbody tr th {\n",
       "        vertical-align: top;\n",
       "    }\n",
       "\n",
       "    .dataframe thead th {\n",
       "        text-align: right;\n",
       "    }\n",
       "</style>\n",
       "<table border=\"1\" class=\"dataframe\">\n",
       "  <thead>\n",
       "    <tr style=\"text-align: right;\">\n",
       "      <th></th>\n",
       "      <th>device_id</th>\n",
       "      <th>event_name</th>\n",
       "    </tr>\n",
       "  </thead>\n",
       "  <tbody>\n",
       "    <tr>\n",
       "      <th>0</th>\n",
       "      <td>6888746892508752</td>\n",
       "      <td>1</td>\n",
       "    </tr>\n",
       "    <tr>\n",
       "      <th>1</th>\n",
       "      <td>6909561520679493</td>\n",
       "      <td>4</td>\n",
       "    </tr>\n",
       "    <tr>\n",
       "      <th>2</th>\n",
       "      <td>6922444491712477</td>\n",
       "      <td>4</td>\n",
       "    </tr>\n",
       "    <tr>\n",
       "      <th>3</th>\n",
       "      <td>7435777799948366</td>\n",
       "      <td>1</td>\n",
       "    </tr>\n",
       "    <tr>\n",
       "      <th>4</th>\n",
       "      <td>7702139951469979</td>\n",
       "      <td>4</td>\n",
       "    </tr>\n",
       "    <tr>\n",
       "      <th>...</th>\n",
       "      <td>...</td>\n",
       "      <td>...</td>\n",
       "    </tr>\n",
       "    <tr>\n",
       "      <th>7546</th>\n",
       "      <td>9217594193087726423</td>\n",
       "      <td>3</td>\n",
       "    </tr>\n",
       "    <tr>\n",
       "      <th>7547</th>\n",
       "      <td>9219463515465815368</td>\n",
       "      <td>4</td>\n",
       "    </tr>\n",
       "    <tr>\n",
       "      <th>7548</th>\n",
       "      <td>9220879493065341500</td>\n",
       "      <td>3</td>\n",
       "    </tr>\n",
       "    <tr>\n",
       "      <th>7549</th>\n",
       "      <td>9221926045299980007</td>\n",
       "      <td>1</td>\n",
       "    </tr>\n",
       "    <tr>\n",
       "      <th>7550</th>\n",
       "      <td>9222603179720523844</td>\n",
       "      <td>1</td>\n",
       "    </tr>\n",
       "  </tbody>\n",
       "</table>\n",
       "<p>7551 rows × 2 columns</p>\n",
       "</div>"
      ],
      "text/plain": [
       "                device_id  event_name\n",
       "0        6888746892508752           1\n",
       "1        6909561520679493           4\n",
       "2        6922444491712477           4\n",
       "3        7435777799948366           1\n",
       "4        7702139951469979           4\n",
       "...                   ...         ...\n",
       "7546  9217594193087726423           3\n",
       "7547  9219463515465815368           4\n",
       "7548  9220879493065341500           3\n",
       "7549  9221926045299980007           1\n",
       "7550  9222603179720523844           1\n",
       "\n",
       "[7551 rows x 2 columns]"
      ]
     },
     "execution_count": 79,
     "metadata": {},
     "output_type": "execute_result"
    }
   ],
   "source": [
    "#grouping by unique events per user\n",
    "food.groupby('device_id')['event_name'].nunique().reset_index()"
   ]
  },
  {
   "cell_type": "code",
   "execution_count": 80,
   "metadata": {},
   "outputs": [
    {
     "data": {
      "text/plain": [
       "4    3035\n",
       "1    2707\n",
       "2    1021\n",
       "5     471\n",
       "3     317\n",
       "Name: event_name, dtype: int64"
      ]
     },
     "execution_count": 80,
     "metadata": {},
     "output_type": "execute_result"
    }
   ],
   "source": [
    "#getting the number of unique users per event\n",
    "food.groupby('device_id')['event_name'].nunique().reset_index()['event_name'].value_counts()"
   ]
  },
  {
   "cell_type": "code",
   "execution_count": 81,
   "metadata": {
    "scrolled": true
   },
   "outputs": [
    {
     "name": "stdout",
     "output_type": "stream",
     "text": [
      "There are 243713 events in the logs \n"
     ]
    }
   ],
   "source": [
    "##getting the number of events\n",
    "\n",
    "print('There are {} events in the logs '.format(food.shape[0]))"
   ]
  },
  {
   "cell_type": "code",
   "execution_count": 82,
   "metadata": {},
   "outputs": [
    {
     "name": "stdout",
     "output_type": "stream",
     "text": [
      "There are 7551 users in the logs \n"
     ]
    }
   ],
   "source": [
    "#getting the number of unique users per event\n",
    "\n",
    "print('There are {} users in the logs '.format(food.device_id.nunique()))"
   ]
  },
  {
   "cell_type": "code",
   "execution_count": 83,
   "metadata": {},
   "outputs": [
    {
     "name": "stdout",
     "output_type": "stream",
     "text": [
      "The average number for events per user is 32.27559263673685 \n"
     ]
    }
   ],
   "source": [
    "#getting the average of events per user\n",
    "print('The average number for events per user is {} '.format(food.shape[0]/food.device_id.nunique()))"
   ]
  },
  {
   "cell_type": "code",
   "execution_count": 84,
   "metadata": {},
   "outputs": [
    {
     "data": {
      "text/plain": [
       "20.0"
      ]
     },
     "execution_count": 84,
     "metadata": {},
     "output_type": "execute_result"
    }
   ],
   "source": [
    "# Grouping by average number of events per user using median \n",
    "\n",
    "food.groupby('device_id')['event_name'].count().median()"
   ]
  },
  {
   "cell_type": "markdown",
   "metadata": {},
   "source": [
    "We can see that when we use the mean to get the average, we get a lot more from the median result. that probably due to oultliers - clients that order for many employees in thier office for example"
   ]
  },
  {
   "cell_type": "markdown",
   "metadata": {},
   "source": [
    "Next, i want to check what period of time does the data cover, so i could be sure that i have equally complete data for the entire period.\n",
    "Older events could end up in some users' logs for technical reasons, and this could skew the overall picture. \n",
    "I want to  Find the moment at which the data starts to be complete and ignore the earlier section."
   ]
  },
  {
   "cell_type": "code",
   "execution_count": 85,
   "metadata": {},
   "outputs": [
    {
     "data": {
      "text/html": [
       "<div>\n",
       "<style scoped>\n",
       "    .dataframe tbody tr th:only-of-type {\n",
       "        vertical-align: middle;\n",
       "    }\n",
       "\n",
       "    .dataframe tbody tr th {\n",
       "        vertical-align: top;\n",
       "    }\n",
       "\n",
       "    .dataframe thead th {\n",
       "        text-align: right;\n",
       "    }\n",
       "</style>\n",
       "<table border=\"1\" class=\"dataframe\">\n",
       "  <thead>\n",
       "    <tr style=\"text-align: right;\">\n",
       "      <th></th>\n",
       "      <th>event_name</th>\n",
       "      <th>device_id</th>\n",
       "      <th>event_timestamp</th>\n",
       "      <th>expid</th>\n",
       "      <th>date</th>\n",
       "    </tr>\n",
       "  </thead>\n",
       "  <tbody>\n",
       "    <tr>\n",
       "      <th>count</th>\n",
       "      <td>243713</td>\n",
       "      <td>2.437130e+05</td>\n",
       "      <td>243713</td>\n",
       "      <td>243713.000000</td>\n",
       "      <td>243713</td>\n",
       "    </tr>\n",
       "    <tr>\n",
       "      <th>unique</th>\n",
       "      <td>5</td>\n",
       "      <td>NaN</td>\n",
       "      <td>176654</td>\n",
       "      <td>NaN</td>\n",
       "      <td>14</td>\n",
       "    </tr>\n",
       "    <tr>\n",
       "      <th>top</th>\n",
       "      <td>MainScreenAppear</td>\n",
       "      <td>NaN</td>\n",
       "      <td>2019-08-01 14:40:35</td>\n",
       "      <td>NaN</td>\n",
       "      <td>2019-08-01 00:00:00</td>\n",
       "    </tr>\n",
       "    <tr>\n",
       "      <th>freq</th>\n",
       "      <td>119101</td>\n",
       "      <td>NaN</td>\n",
       "      <td>9</td>\n",
       "      <td>NaN</td>\n",
       "      <td>36141</td>\n",
       "    </tr>\n",
       "    <tr>\n",
       "      <th>first</th>\n",
       "      <td>NaN</td>\n",
       "      <td>NaN</td>\n",
       "      <td>2019-07-25 04:43:36</td>\n",
       "      <td>NaN</td>\n",
       "      <td>2019-07-25 00:00:00</td>\n",
       "    </tr>\n",
       "    <tr>\n",
       "      <th>last</th>\n",
       "      <td>NaN</td>\n",
       "      <td>NaN</td>\n",
       "      <td>2019-08-07 21:15:17</td>\n",
       "      <td>NaN</td>\n",
       "      <td>2019-08-07 00:00:00</td>\n",
       "    </tr>\n",
       "    <tr>\n",
       "      <th>mean</th>\n",
       "      <td>NaN</td>\n",
       "      <td>4.627963e+18</td>\n",
       "      <td>NaN</td>\n",
       "      <td>247.022161</td>\n",
       "      <td>NaN</td>\n",
       "    </tr>\n",
       "    <tr>\n",
       "      <th>std</th>\n",
       "      <td>NaN</td>\n",
       "      <td>2.642723e+18</td>\n",
       "      <td>NaN</td>\n",
       "      <td>0.824420</td>\n",
       "      <td>NaN</td>\n",
       "    </tr>\n",
       "    <tr>\n",
       "      <th>min</th>\n",
       "      <td>NaN</td>\n",
       "      <td>6.888747e+15</td>\n",
       "      <td>NaN</td>\n",
       "      <td>246.000000</td>\n",
       "      <td>NaN</td>\n",
       "    </tr>\n",
       "    <tr>\n",
       "      <th>25%</th>\n",
       "      <td>NaN</td>\n",
       "      <td>2.372212e+18</td>\n",
       "      <td>NaN</td>\n",
       "      <td>246.000000</td>\n",
       "      <td>NaN</td>\n",
       "    </tr>\n",
       "    <tr>\n",
       "      <th>50%</th>\n",
       "      <td>NaN</td>\n",
       "      <td>4.623192e+18</td>\n",
       "      <td>NaN</td>\n",
       "      <td>247.000000</td>\n",
       "      <td>NaN</td>\n",
       "    </tr>\n",
       "    <tr>\n",
       "      <th>75%</th>\n",
       "      <td>NaN</td>\n",
       "      <td>6.932517e+18</td>\n",
       "      <td>NaN</td>\n",
       "      <td>248.000000</td>\n",
       "      <td>NaN</td>\n",
       "    </tr>\n",
       "    <tr>\n",
       "      <th>max</th>\n",
       "      <td>NaN</td>\n",
       "      <td>9.222603e+18</td>\n",
       "      <td>NaN</td>\n",
       "      <td>248.000000</td>\n",
       "      <td>NaN</td>\n",
       "    </tr>\n",
       "  </tbody>\n",
       "</table>\n",
       "</div>"
      ],
      "text/plain": [
       "              event_name     device_id      event_timestamp          expid  \\\n",
       "count             243713  2.437130e+05               243713  243713.000000   \n",
       "unique                 5           NaN               176654            NaN   \n",
       "top     MainScreenAppear           NaN  2019-08-01 14:40:35            NaN   \n",
       "freq              119101           NaN                    9            NaN   \n",
       "first                NaN           NaN  2019-07-25 04:43:36            NaN   \n",
       "last                 NaN           NaN  2019-08-07 21:15:17            NaN   \n",
       "mean                 NaN  4.627963e+18                  NaN     247.022161   \n",
       "std                  NaN  2.642723e+18                  NaN       0.824420   \n",
       "min                  NaN  6.888747e+15                  NaN     246.000000   \n",
       "25%                  NaN  2.372212e+18                  NaN     246.000000   \n",
       "50%                  NaN  4.623192e+18                  NaN     247.000000   \n",
       "75%                  NaN  6.932517e+18                  NaN     248.000000   \n",
       "max                  NaN  9.222603e+18                  NaN     248.000000   \n",
       "\n",
       "                       date  \n",
       "count                243713  \n",
       "unique                   14  \n",
       "top     2019-08-01 00:00:00  \n",
       "freq                  36141  \n",
       "first   2019-07-25 00:00:00  \n",
       "last    2019-08-07 00:00:00  \n",
       "mean                    NaN  \n",
       "std                     NaN  \n",
       "min                     NaN  \n",
       "25%                     NaN  \n",
       "50%                     NaN  \n",
       "75%                     NaN  \n",
       "max                     NaN  "
      ]
     },
     "execution_count": 85,
     "metadata": {},
     "output_type": "execute_result"
    }
   ],
   "source": [
    "#Using the describe method to get more information on the dataset\n",
    "food.describe(include = 'all')"
   ]
  },
  {
   "cell_type": "code",
   "execution_count": 86,
   "metadata": {},
   "outputs": [
    {
     "data": {
      "text/plain": [
       "1    7551\n",
       "Name: expid, dtype: int64"
      ]
     },
     "execution_count": 86,
     "metadata": {},
     "output_type": "execute_result"
    }
   ],
   "source": [
    "group_check = food.groupby('device_id')['expid'].nunique().reset_index()\n",
    "group_check.expid.value_counts()"
   ]
  },
  {
   "cell_type": "code",
   "execution_count": 87,
   "metadata": {},
   "outputs": [
    {
     "data": {
      "text/plain": [
       "248    85582\n",
       "246    80181\n",
       "247    77950\n",
       "Name: expid, dtype: int64"
      ]
     },
     "execution_count": 87,
     "metadata": {},
     "output_type": "execute_result"
    }
   ],
   "source": [
    "food.expid.value_counts()"
   ]
  },
  {
   "cell_type": "code",
   "execution_count": null,
   "metadata": {
    "scrolled": false
   },
   "outputs": [],
   "source": [
    "#Visualising the event_timestamp column data so i could see what period i should consider\n",
    "fig = px.histogram(food, x = 'event_timestamp')\n",
    "fig.show()"
   ]
  },
  {
   "cell_type": "markdown",
   "metadata": {},
   "source": [
    "As we can sclearly see, the graph indicates that the expiriment started on 01.08.2019, only then we start getting real number of actions that reflects the number of participants we know we have on this data (7551). The data from before 01.08 is probably due to technical issues, and i will filter it from out dataswt."
   ]
  },
  {
   "cell_type": "code",
   "execution_count": 89,
   "metadata": {},
   "outputs": [],
   "source": [
    "#Filtering the data\n",
    "food = food[food['date'] >='2019-08-01']"
   ]
  },
  {
   "cell_type": "code",
   "execution_count": null,
   "metadata": {},
   "outputs": [],
   "source": [
    "#checking if it worked\n",
    "fig = px.histogram(food, x = 'event_timestamp')\n",
    "fig.show()"
   ]
  },
  {
   "cell_type": "markdown",
   "metadata": {},
   "source": [
    "## Study the event funnel"
   ]
  },
  {
   "cell_type": "markdown",
   "metadata": {},
   "source": [
    "Next, i want to see what events are in the logs and their frequency of occurrence."
   ]
  },
  {
   "cell_type": "code",
   "execution_count": 91,
   "metadata": {
    "scrolled": false
   },
   "outputs": [
    {
     "data": {
      "text/html": [
       "<div>\n",
       "<style scoped>\n",
       "    .dataframe tbody tr th:only-of-type {\n",
       "        vertical-align: middle;\n",
       "    }\n",
       "\n",
       "    .dataframe tbody tr th {\n",
       "        vertical-align: top;\n",
       "    }\n",
       "\n",
       "    .dataframe thead th {\n",
       "        text-align: right;\n",
       "    }\n",
       "</style>\n",
       "<table border=\"1\" class=\"dataframe\">\n",
       "  <thead>\n",
       "    <tr style=\"text-align: right;\">\n",
       "      <th></th>\n",
       "      <th>event</th>\n",
       "      <th>total</th>\n",
       "    </tr>\n",
       "  </thead>\n",
       "  <tbody>\n",
       "    <tr>\n",
       "      <th>1</th>\n",
       "      <td>MainScreenAppear</td>\n",
       "      <td>117328</td>\n",
       "    </tr>\n",
       "    <tr>\n",
       "      <th>2</th>\n",
       "      <td>OffersScreenAppear</td>\n",
       "      <td>46333</td>\n",
       "    </tr>\n",
       "    <tr>\n",
       "      <th>0</th>\n",
       "      <td>CartScreenAppear</td>\n",
       "      <td>42303</td>\n",
       "    </tr>\n",
       "    <tr>\n",
       "      <th>3</th>\n",
       "      <td>PaymentScreenSuccessful</td>\n",
       "      <td>33918</td>\n",
       "    </tr>\n",
       "    <tr>\n",
       "      <th>4</th>\n",
       "      <td>Tutorial</td>\n",
       "      <td>1005</td>\n",
       "    </tr>\n",
       "  </tbody>\n",
       "</table>\n",
       "</div>"
      ],
      "text/plain": [
       "                     event   total\n",
       "1         MainScreenAppear  117328\n",
       "2       OffersScreenAppear   46333\n",
       "0         CartScreenAppear   42303\n",
       "3  PaymentScreenSuccessful   33918\n",
       "4                 Tutorial    1005"
      ]
     },
     "execution_count": 91,
     "metadata": {},
     "output_type": "execute_result"
    }
   ],
   "source": [
    "#Grouping the data by events and calculating their frequency of occurrence.\n",
    "events = food.groupby('event_name')['event_timestamp'].count().reset_index()\n",
    "events.columns = ['event','total']\n",
    "events.sort_values(by = 'total',ascending = False)"
   ]
  },
  {
   "cell_type": "markdown",
   "metadata": {},
   "source": [
    "Next, I want to find the number of users who performed each of these actions."
   ]
  },
  {
   "cell_type": "code",
   "execution_count": 92,
   "metadata": {},
   "outputs": [
    {
     "data": {
      "text/html": [
       "<div>\n",
       "<style scoped>\n",
       "    .dataframe tbody tr th:only-of-type {\n",
       "        vertical-align: middle;\n",
       "    }\n",
       "\n",
       "    .dataframe tbody tr th {\n",
       "        vertical-align: top;\n",
       "    }\n",
       "\n",
       "    .dataframe thead th {\n",
       "        text-align: right;\n",
       "    }\n",
       "</style>\n",
       "<table border=\"1\" class=\"dataframe\">\n",
       "  <thead>\n",
       "    <tr style=\"text-align: right;\">\n",
       "      <th></th>\n",
       "      <th>event</th>\n",
       "      <th>users_num</th>\n",
       "    </tr>\n",
       "  </thead>\n",
       "  <tbody>\n",
       "    <tr>\n",
       "      <th>0</th>\n",
       "      <td>MainScreenAppear</td>\n",
       "      <td>7419</td>\n",
       "    </tr>\n",
       "    <tr>\n",
       "      <th>1</th>\n",
       "      <td>OffersScreenAppear</td>\n",
       "      <td>4593</td>\n",
       "    </tr>\n",
       "    <tr>\n",
       "      <th>2</th>\n",
       "      <td>CartScreenAppear</td>\n",
       "      <td>3734</td>\n",
       "    </tr>\n",
       "    <tr>\n",
       "      <th>3</th>\n",
       "      <td>PaymentScreenSuccessful</td>\n",
       "      <td>3539</td>\n",
       "    </tr>\n",
       "    <tr>\n",
       "      <th>4</th>\n",
       "      <td>Tutorial</td>\n",
       "      <td>840</td>\n",
       "    </tr>\n",
       "  </tbody>\n",
       "</table>\n",
       "</div>"
      ],
      "text/plain": [
       "                     event  users_num\n",
       "0         MainScreenAppear       7419\n",
       "1       OffersScreenAppear       4593\n",
       "2         CartScreenAppear       3734\n",
       "3  PaymentScreenSuccessful       3539\n",
       "4                 Tutorial        840"
      ]
     },
     "execution_count": 92,
     "metadata": {},
     "output_type": "execute_result"
    }
   ],
   "source": [
    "#Grouping the data by events and calculating the number of unique users that performed that action.\n",
    "\n",
    "event_users = food.groupby('event_name')['device_id'].nunique()\n",
    "event_users = event_users.sort_values(ascending = False).reset_index()\n",
    "event_users.columns = ['event','users_num']\n",
    "\n",
    "event_users"
   ]
  },
  {
   "cell_type": "markdown",
   "metadata": {},
   "source": [
    "We can see that the number of users that performed the Tutorial action are a lot less than the other actions number. I indicate from that that the Tutorial action is probably not mandatory and you can skip it, which most users do."
   ]
  },
  {
   "cell_type": "code",
   "execution_count": 93,
   "metadata": {
    "scrolled": true
   },
   "outputs": [
    {
     "data": {
      "text/html": [
       "<div>\n",
       "<style scoped>\n",
       "    .dataframe tbody tr th:only-of-type {\n",
       "        vertical-align: middle;\n",
       "    }\n",
       "\n",
       "    .dataframe tbody tr th {\n",
       "        vertical-align: top;\n",
       "    }\n",
       "\n",
       "    .dataframe thead th {\n",
       "        text-align: right;\n",
       "    }\n",
       "</style>\n",
       "<table border=\"1\" class=\"dataframe\">\n",
       "  <thead>\n",
       "    <tr style=\"text-align: right;\">\n",
       "      <th></th>\n",
       "      <th>event_name</th>\n",
       "      <th>device_id</th>\n",
       "    </tr>\n",
       "  </thead>\n",
       "  <tbody>\n",
       "    <tr>\n",
       "      <th>0</th>\n",
       "      <td>MainScreenAppear</td>\n",
       "      <td>0.984736</td>\n",
       "    </tr>\n",
       "    <tr>\n",
       "      <th>1</th>\n",
       "      <td>OffersScreenAppear</td>\n",
       "      <td>0.609636</td>\n",
       "    </tr>\n",
       "    <tr>\n",
       "      <th>2</th>\n",
       "      <td>CartScreenAppear</td>\n",
       "      <td>0.495620</td>\n",
       "    </tr>\n",
       "    <tr>\n",
       "      <th>3</th>\n",
       "      <td>PaymentScreenSuccessful</td>\n",
       "      <td>0.469737</td>\n",
       "    </tr>\n",
       "    <tr>\n",
       "      <th>4</th>\n",
       "      <td>Tutorial</td>\n",
       "      <td>0.111495</td>\n",
       "    </tr>\n",
       "  </tbody>\n",
       "</table>\n",
       "</div>"
      ],
      "text/plain": [
       "                event_name  device_id\n",
       "0         MainScreenAppear   0.984736\n",
       "1       OffersScreenAppear   0.609636\n",
       "2         CartScreenAppear   0.495620\n",
       "3  PaymentScreenSuccessful   0.469737\n",
       "4                 Tutorial   0.111495"
      ]
     },
     "execution_count": 93,
     "metadata": {},
     "output_type": "execute_result"
    }
   ],
   "source": [
    "#calculating the percent of users that made the actions from all users\n",
    "event_perc = food.groupby('event_name')['device_id'].nunique().sort_values(ascending = False)/food.device_id.nunique()\n",
    "event_perc = event_perc.reset_index()\n",
    "event_perc"
   ]
  },
  {
   "cell_type": "markdown",
   "metadata": {},
   "source": [
    "Next, i want to determine in what order  the actions took place. Are all of them part of a single sequence? "
   ]
  },
  {
   "cell_type": "code",
   "execution_count": 94,
   "metadata": {
    "scrolled": true
   },
   "outputs": [],
   "source": [
    "#getting a time sorted data df without the Tutorial action.\n",
    "sorted_data = food[food['event_name']!= 'Tutorial'].sort_values(by=['device_id','event_timestamp'])\n"
   ]
  },
  {
   "cell_type": "code",
   "execution_count": 95,
   "metadata": {},
   "outputs": [],
   "source": [
    "# A functions that returns the users unique action in the order they acured. \n",
    "def sequence(user):\n",
    "    sorted_user = sorted_data[sorted_data['device_id']==user].sort_values(by = ['device_id','event_timestamp'])\n",
    "    return sorted_user['event_name'].drop_duplicates().to_list()"
   ]
  },
  {
   "cell_type": "code",
   "execution_count": 96,
   "metadata": {},
   "outputs": [],
   "source": [
    "#getting a list of action dor each user\n",
    "sequence_list = []\n",
    "for i in sorted_data.device_id.unique():\n",
    "    sequence_list.append([i,sequence(i)])\n",
    "    \n",
    "\n",
    "    "
   ]
  },
  {
   "cell_type": "code",
   "execution_count": 97,
   "metadata": {
    "scrolled": true
   },
   "outputs": [
    {
     "data": {
      "text/html": [
       "<div>\n",
       "<style scoped>\n",
       "    .dataframe tbody tr th:only-of-type {\n",
       "        vertical-align: middle;\n",
       "    }\n",
       "\n",
       "    .dataframe tbody tr th {\n",
       "        vertical-align: top;\n",
       "    }\n",
       "\n",
       "    .dataframe thead th {\n",
       "        text-align: right;\n",
       "    }\n",
       "</style>\n",
       "<table border=\"1\" class=\"dataframe\">\n",
       "  <thead>\n",
       "    <tr style=\"text-align: right;\">\n",
       "      <th></th>\n",
       "      <th>user</th>\n",
       "      <th>path</th>\n",
       "    </tr>\n",
       "  </thead>\n",
       "  <tbody>\n",
       "    <tr>\n",
       "      <th>0</th>\n",
       "      <td>6888746892508752</td>\n",
       "      <td>[MainScreenAppear]</td>\n",
       "    </tr>\n",
       "    <tr>\n",
       "      <th>1</th>\n",
       "      <td>6909561520679493</td>\n",
       "      <td>[MainScreenAppear, PaymentScreenSuccessful, Ca...</td>\n",
       "    </tr>\n",
       "    <tr>\n",
       "      <th>2</th>\n",
       "      <td>6922444491712477</td>\n",
       "      <td>[MainScreenAppear, PaymentScreenSuccessful, Ca...</td>\n",
       "    </tr>\n",
       "    <tr>\n",
       "      <th>3</th>\n",
       "      <td>7435777799948366</td>\n",
       "      <td>[MainScreenAppear]</td>\n",
       "    </tr>\n",
       "    <tr>\n",
       "      <th>4</th>\n",
       "      <td>7702139951469979</td>\n",
       "      <td>[MainScreenAppear, OffersScreenAppear, CartScr...</td>\n",
       "    </tr>\n",
       "    <tr>\n",
       "      <th>...</th>\n",
       "      <td>...</td>\n",
       "      <td>...</td>\n",
       "    </tr>\n",
       "    <tr>\n",
       "      <th>7525</th>\n",
       "      <td>9217594193087726423</td>\n",
       "      <td>[PaymentScreenSuccessful, CartScreenAppear, Of...</td>\n",
       "    </tr>\n",
       "    <tr>\n",
       "      <th>7526</th>\n",
       "      <td>9219463515465815368</td>\n",
       "      <td>[MainScreenAppear, OffersScreenAppear, CartScr...</td>\n",
       "    </tr>\n",
       "    <tr>\n",
       "      <th>7527</th>\n",
       "      <td>9220879493065341500</td>\n",
       "      <td>[MainScreenAppear, OffersScreenAppear, CartScr...</td>\n",
       "    </tr>\n",
       "    <tr>\n",
       "      <th>7528</th>\n",
       "      <td>9221926045299980007</td>\n",
       "      <td>[MainScreenAppear]</td>\n",
       "    </tr>\n",
       "    <tr>\n",
       "      <th>7529</th>\n",
       "      <td>9222603179720523844</td>\n",
       "      <td>[MainScreenAppear]</td>\n",
       "    </tr>\n",
       "  </tbody>\n",
       "</table>\n",
       "<p>7530 rows × 2 columns</p>\n",
       "</div>"
      ],
      "text/plain": [
       "                     user                                               path\n",
       "0        6888746892508752                                 [MainScreenAppear]\n",
       "1        6909561520679493  [MainScreenAppear, PaymentScreenSuccessful, Ca...\n",
       "2        6922444491712477  [MainScreenAppear, PaymentScreenSuccessful, Ca...\n",
       "3        7435777799948366                                 [MainScreenAppear]\n",
       "4        7702139951469979  [MainScreenAppear, OffersScreenAppear, CartScr...\n",
       "...                   ...                                                ...\n",
       "7525  9217594193087726423  [PaymentScreenSuccessful, CartScreenAppear, Of...\n",
       "7526  9219463515465815368  [MainScreenAppear, OffersScreenAppear, CartScr...\n",
       "7527  9220879493065341500  [MainScreenAppear, OffersScreenAppear, CartScr...\n",
       "7528  9221926045299980007                                 [MainScreenAppear]\n",
       "7529  9222603179720523844                                 [MainScreenAppear]\n",
       "\n",
       "[7530 rows x 2 columns]"
      ]
     },
     "execution_count": 97,
     "metadata": {},
     "output_type": "execute_result"
    }
   ],
   "source": [
    "#creating a dataframe with users and their actions\n",
    "path_data = pd.DataFrame(sequence_list,columns = ['user','path'])\n",
    "path_data"
   ]
  },
  {
   "cell_type": "code",
   "execution_count": 98,
   "metadata": {},
   "outputs": [
    {
     "ename": "TypeError",
     "evalue": "unhashable type: 'list'",
     "output_type": "error",
     "traceback": [
      "\u001b[0;31m---------------------------------------------------------------------------\u001b[0m",
      "\u001b[0;31mTypeError\u001b[0m                                 Traceback (most recent call last)",
      "\u001b[0;32mpandas/_libs/hashtable_class_helper.pxi\u001b[0m in \u001b[0;36mpandas._libs.hashtable.PyObjectHashTable.map_locations\u001b[0;34m()\u001b[0m\n",
      "\u001b[0;31mTypeError\u001b[0m: unhashable type: 'list'"
     ]
    },
    {
     "name": "stderr",
     "output_type": "stream",
     "text": [
      "Exception ignored in: 'pandas._libs.index.IndexEngine._call_map_locations'\n",
      "Traceback (most recent call last):\n",
      "  File \"pandas/_libs/hashtable_class_helper.pxi\", line 4588, in pandas._libs.hashtable.PyObjectHashTable.map_locations\n",
      "TypeError: unhashable type: 'list'\n"
     ]
    },
    {
     "data": {
      "text/plain": [
       "[MainScreenAppear]                                                                   2882\n",
       "[MainScreenAppear, OffersScreenAppear, CartScreenAppear, PaymentScreenSuccessful]     905\n",
       "[MainScreenAppear, OffersScreenAppear]                                                872\n",
       "[MainScreenAppear, OffersScreenAppear, PaymentScreenSuccessful, CartScreenAppear]     771\n",
       "[MainScreenAppear, PaymentScreenSuccessful, CartScreenAppear, OffersScreenAppear]     668\n",
       "[MainScreenAppear, CartScreenAppear, PaymentScreenSuccessful, OffersScreenAppear]     510\n",
       "[MainScreenAppear, CartScreenAppear, OffersScreenAppear, PaymentScreenSuccessful]     259\n",
       "[MainScreenAppear, OffersScreenAppear, CartScreenAppear]                               92\n",
       "[OffersScreenAppear, MainScreenAppear, PaymentScreenSuccessful, CartScreenAppear]      65\n",
       "[OffersScreenAppear, PaymentScreenSuccessful, CartScreenAppear, MainScreenAppear]      63\n",
       "[MainScreenAppear, CartScreenAppear, OffersScreenAppear]                               52\n",
       "[MainScreenAppear, CartScreenAppear]                                                   48\n",
       "[PaymentScreenSuccessful, CartScreenAppear, OffersScreenAppear, MainScreenAppear]      41\n",
       "[OffersScreenAppear, PaymentScreenSuccessful, CartScreenAppear]                        37\n",
       "[OffersScreenAppear, MainScreenAppear, CartScreenAppear, PaymentScreenSuccessful]      29\n",
       "[PaymentScreenSuccessful, CartScreenAppear, OffersScreenAppear]                        29\n",
       "[OffersScreenAppear, CartScreenAppear, PaymentScreenSuccessful, MainScreenAppear]      26\n",
       "[OffersScreenAppear, MainScreenAppear]                                                 25\n",
       "[PaymentScreenSuccessful, CartScreenAppear, MainScreenAppear, OffersScreenAppear]      17\n",
       "[OffersScreenAppear, CartScreenAppear, PaymentScreenSuccessful]                        14\n",
       "[MainScreenAppear, PaymentScreenSuccessful, OffersScreenAppear, CartScreenAppear]      14\n",
       "[CartScreenAppear, MainScreenAppear, PaymentScreenSuccessful, OffersScreenAppear]      13\n",
       "[OffersScreenAppear]                                                                   12\n",
       "[CartScreenAppear, PaymentScreenSuccessful, MainScreenAppear, OffersScreenAppear]      11\n",
       "[OffersScreenAppear, CartScreenAppear, MainScreenAppear, PaymentScreenSuccessful]      11\n",
       "[CartScreenAppear, PaymentScreenSuccessful, OffersScreenAppear]                        10\n",
       "[CartScreenAppear, MainScreenAppear, OffersScreenAppear, PaymentScreenSuccessful]      10\n",
       "[CartScreenAppear, PaymentScreenSuccessful, OffersScreenAppear, MainScreenAppear]       8\n",
       "[PaymentScreenSuccessful, OffersScreenAppear, CartScreenAppear]                         5\n",
       "[MainScreenAppear, CartScreenAppear, PaymentScreenSuccessful]                           4\n",
       "[MainScreenAppear, PaymentScreenSuccessful, OffersScreenAppear]                         4\n",
       "[OffersScreenAppear, MainScreenAppear, CartScreenAppear]                                3\n",
       "[CartScreenAppear, OffersScreenAppear, PaymentScreenSuccessful, MainScreenAppear]       3\n",
       "[MainScreenAppear, PaymentScreenSuccessful, CartScreenAppear]                           3\n",
       "[CartScreenAppear, OffersScreenAppear, PaymentScreenSuccessful]                         3\n",
       "[OffersScreenAppear, CartScreenAppear, MainScreenAppear]                                2\n",
       "[CartScreenAppear, OffersScreenAppear, MainScreenAppear, PaymentScreenSuccessful]       2\n",
       "[PaymentScreenSuccessful, MainScreenAppear, OffersScreenAppear]                         1\n",
       "[CartScreenAppear, MainScreenAppear, OffersScreenAppear]                                1\n",
       "[PaymentScreenSuccessful, MainScreenAppear, OffersScreenAppear, CartScreenAppear]       1\n",
       "[PaymentScreenSuccessful, OffersScreenAppear, CartScreenAppear, MainScreenAppear]       1\n",
       "[OffersScreenAppear, CartScreenAppear]                                                  1\n",
       "[PaymentScreenSuccessful, MainScreenAppear, CartScreenAppear, OffersScreenAppear]       1\n",
       "[CartScreenAppear, OffersScreenAppear, MainScreenAppear]                                1\n",
       "Name: path, dtype: int64"
      ]
     },
     "execution_count": 98,
     "metadata": {},
     "output_type": "execute_result"
    }
   ],
   "source": [
    "#Getting the most common action order.\n",
    "## We are going to get an error here, but afterwords well get the answer we were searching for\n",
    "path_data['path'].value_counts()"
   ]
  },
  {
   "cell_type": "markdown",
   "metadata": {},
   "source": [
    "Looks like [MainScreenAppear, OffersScreenAppear, CartScreenAppear, PaymentScreenSuccessful] is the most common sequence (after only MainScreenAppear) with 905 times that was the users unique action order."
   ]
  },
  {
   "cell_type": "markdown",
   "metadata": {},
   "source": [
    "Next, i want to check at what stage do we lose the most users and what is the share of users that make the entire journey from their first event to payment. \n",
    "in order to do that i will use a funne chart. \n",
    "\n"
   ]
  },
  {
   "cell_type": "code",
   "execution_count": 99,
   "metadata": {},
   "outputs": [],
   "source": [
    "# Filtering out the Tutorial event as it is not part of the sequence due to the fact that it is skipable.\n",
    "clean_events = event_users[event_users['event'] != 'Tutorial']"
   ]
  },
  {
   "cell_type": "code",
   "execution_count": 100,
   "metadata": {},
   "outputs": [
    {
     "data": {
      "application/vnd.plotly.v1+json": {
       "config": {
        "plotlyServerURL": "https://plot.ly"
       },
       "data": [
        {
         "textinfo": "value+percent previous",
         "type": "funnel",
         "x": [
          7419,
          4593,
          3734,
          3539
         ],
         "y": [
          "MainScreenAppear",
          "OffersScreenAppear",
          "CartScreenAppear",
          "PaymentScreenSuccessful"
         ]
        }
       ],
       "layout": {
        "template": {
         "data": {
          "bar": [
           {
            "error_x": {
             "color": "#2a3f5f"
            },
            "error_y": {
             "color": "#2a3f5f"
            },
            "marker": {
             "line": {
              "color": "#E5ECF6",
              "width": 0.5
             },
             "pattern": {
              "fillmode": "overlay",
              "size": 10,
              "solidity": 0.2
             }
            },
            "type": "bar"
           }
          ],
          "barpolar": [
           {
            "marker": {
             "line": {
              "color": "#E5ECF6",
              "width": 0.5
             },
             "pattern": {
              "fillmode": "overlay",
              "size": 10,
              "solidity": 0.2
             }
            },
            "type": "barpolar"
           }
          ],
          "carpet": [
           {
            "aaxis": {
             "endlinecolor": "#2a3f5f",
             "gridcolor": "white",
             "linecolor": "white",
             "minorgridcolor": "white",
             "startlinecolor": "#2a3f5f"
            },
            "baxis": {
             "endlinecolor": "#2a3f5f",
             "gridcolor": "white",
             "linecolor": "white",
             "minorgridcolor": "white",
             "startlinecolor": "#2a3f5f"
            },
            "type": "carpet"
           }
          ],
          "choropleth": [
           {
            "colorbar": {
             "outlinewidth": 0,
             "ticks": ""
            },
            "type": "choropleth"
           }
          ],
          "contour": [
           {
            "colorbar": {
             "outlinewidth": 0,
             "ticks": ""
            },
            "colorscale": [
             [
              0,
              "#0d0887"
             ],
             [
              0.1111111111111111,
              "#46039f"
             ],
             [
              0.2222222222222222,
              "#7201a8"
             ],
             [
              0.3333333333333333,
              "#9c179e"
             ],
             [
              0.4444444444444444,
              "#bd3786"
             ],
             [
              0.5555555555555556,
              "#d8576b"
             ],
             [
              0.6666666666666666,
              "#ed7953"
             ],
             [
              0.7777777777777778,
              "#fb9f3a"
             ],
             [
              0.8888888888888888,
              "#fdca26"
             ],
             [
              1,
              "#f0f921"
             ]
            ],
            "type": "contour"
           }
          ],
          "contourcarpet": [
           {
            "colorbar": {
             "outlinewidth": 0,
             "ticks": ""
            },
            "type": "contourcarpet"
           }
          ],
          "heatmap": [
           {
            "colorbar": {
             "outlinewidth": 0,
             "ticks": ""
            },
            "colorscale": [
             [
              0,
              "#0d0887"
             ],
             [
              0.1111111111111111,
              "#46039f"
             ],
             [
              0.2222222222222222,
              "#7201a8"
             ],
             [
              0.3333333333333333,
              "#9c179e"
             ],
             [
              0.4444444444444444,
              "#bd3786"
             ],
             [
              0.5555555555555556,
              "#d8576b"
             ],
             [
              0.6666666666666666,
              "#ed7953"
             ],
             [
              0.7777777777777778,
              "#fb9f3a"
             ],
             [
              0.8888888888888888,
              "#fdca26"
             ],
             [
              1,
              "#f0f921"
             ]
            ],
            "type": "heatmap"
           }
          ],
          "heatmapgl": [
           {
            "colorbar": {
             "outlinewidth": 0,
             "ticks": ""
            },
            "colorscale": [
             [
              0,
              "#0d0887"
             ],
             [
              0.1111111111111111,
              "#46039f"
             ],
             [
              0.2222222222222222,
              "#7201a8"
             ],
             [
              0.3333333333333333,
              "#9c179e"
             ],
             [
              0.4444444444444444,
              "#bd3786"
             ],
             [
              0.5555555555555556,
              "#d8576b"
             ],
             [
              0.6666666666666666,
              "#ed7953"
             ],
             [
              0.7777777777777778,
              "#fb9f3a"
             ],
             [
              0.8888888888888888,
              "#fdca26"
             ],
             [
              1,
              "#f0f921"
             ]
            ],
            "type": "heatmapgl"
           }
          ],
          "histogram": [
           {
            "marker": {
             "pattern": {
              "fillmode": "overlay",
              "size": 10,
              "solidity": 0.2
             }
            },
            "type": "histogram"
           }
          ],
          "histogram2d": [
           {
            "colorbar": {
             "outlinewidth": 0,
             "ticks": ""
            },
            "colorscale": [
             [
              0,
              "#0d0887"
             ],
             [
              0.1111111111111111,
              "#46039f"
             ],
             [
              0.2222222222222222,
              "#7201a8"
             ],
             [
              0.3333333333333333,
              "#9c179e"
             ],
             [
              0.4444444444444444,
              "#bd3786"
             ],
             [
              0.5555555555555556,
              "#d8576b"
             ],
             [
              0.6666666666666666,
              "#ed7953"
             ],
             [
              0.7777777777777778,
              "#fb9f3a"
             ],
             [
              0.8888888888888888,
              "#fdca26"
             ],
             [
              1,
              "#f0f921"
             ]
            ],
            "type": "histogram2d"
           }
          ],
          "histogram2dcontour": [
           {
            "colorbar": {
             "outlinewidth": 0,
             "ticks": ""
            },
            "colorscale": [
             [
              0,
              "#0d0887"
             ],
             [
              0.1111111111111111,
              "#46039f"
             ],
             [
              0.2222222222222222,
              "#7201a8"
             ],
             [
              0.3333333333333333,
              "#9c179e"
             ],
             [
              0.4444444444444444,
              "#bd3786"
             ],
             [
              0.5555555555555556,
              "#d8576b"
             ],
             [
              0.6666666666666666,
              "#ed7953"
             ],
             [
              0.7777777777777778,
              "#fb9f3a"
             ],
             [
              0.8888888888888888,
              "#fdca26"
             ],
             [
              1,
              "#f0f921"
             ]
            ],
            "type": "histogram2dcontour"
           }
          ],
          "mesh3d": [
           {
            "colorbar": {
             "outlinewidth": 0,
             "ticks": ""
            },
            "type": "mesh3d"
           }
          ],
          "parcoords": [
           {
            "line": {
             "colorbar": {
              "outlinewidth": 0,
              "ticks": ""
             }
            },
            "type": "parcoords"
           }
          ],
          "pie": [
           {
            "automargin": true,
            "type": "pie"
           }
          ],
          "scatter": [
           {
            "fillpattern": {
             "fillmode": "overlay",
             "size": 10,
             "solidity": 0.2
            },
            "type": "scatter"
           }
          ],
          "scatter3d": [
           {
            "line": {
             "colorbar": {
              "outlinewidth": 0,
              "ticks": ""
             }
            },
            "marker": {
             "colorbar": {
              "outlinewidth": 0,
              "ticks": ""
             }
            },
            "type": "scatter3d"
           }
          ],
          "scattercarpet": [
           {
            "marker": {
             "colorbar": {
              "outlinewidth": 0,
              "ticks": ""
             }
            },
            "type": "scattercarpet"
           }
          ],
          "scattergeo": [
           {
            "marker": {
             "colorbar": {
              "outlinewidth": 0,
              "ticks": ""
             }
            },
            "type": "scattergeo"
           }
          ],
          "scattergl": [
           {
            "marker": {
             "colorbar": {
              "outlinewidth": 0,
              "ticks": ""
             }
            },
            "type": "scattergl"
           }
          ],
          "scattermapbox": [
           {
            "marker": {
             "colorbar": {
              "outlinewidth": 0,
              "ticks": ""
             }
            },
            "type": "scattermapbox"
           }
          ],
          "scatterpolar": [
           {
            "marker": {
             "colorbar": {
              "outlinewidth": 0,
              "ticks": ""
             }
            },
            "type": "scatterpolar"
           }
          ],
          "scatterpolargl": [
           {
            "marker": {
             "colorbar": {
              "outlinewidth": 0,
              "ticks": ""
             }
            },
            "type": "scatterpolargl"
           }
          ],
          "scatterternary": [
           {
            "marker": {
             "colorbar": {
              "outlinewidth": 0,
              "ticks": ""
             }
            },
            "type": "scatterternary"
           }
          ],
          "surface": [
           {
            "colorbar": {
             "outlinewidth": 0,
             "ticks": ""
            },
            "colorscale": [
             [
              0,
              "#0d0887"
             ],
             [
              0.1111111111111111,
              "#46039f"
             ],
             [
              0.2222222222222222,
              "#7201a8"
             ],
             [
              0.3333333333333333,
              "#9c179e"
             ],
             [
              0.4444444444444444,
              "#bd3786"
             ],
             [
              0.5555555555555556,
              "#d8576b"
             ],
             [
              0.6666666666666666,
              "#ed7953"
             ],
             [
              0.7777777777777778,
              "#fb9f3a"
             ],
             [
              0.8888888888888888,
              "#fdca26"
             ],
             [
              1,
              "#f0f921"
             ]
            ],
            "type": "surface"
           }
          ],
          "table": [
           {
            "cells": {
             "fill": {
              "color": "#EBF0F8"
             },
             "line": {
              "color": "white"
             }
            },
            "header": {
             "fill": {
              "color": "#C8D4E3"
             },
             "line": {
              "color": "white"
             }
            },
            "type": "table"
           }
          ]
         },
         "layout": {
          "annotationdefaults": {
           "arrowcolor": "#2a3f5f",
           "arrowhead": 0,
           "arrowwidth": 1
          },
          "autotypenumbers": "strict",
          "coloraxis": {
           "colorbar": {
            "outlinewidth": 0,
            "ticks": ""
           }
          },
          "colorscale": {
           "diverging": [
            [
             0,
             "#8e0152"
            ],
            [
             0.1,
             "#c51b7d"
            ],
            [
             0.2,
             "#de77ae"
            ],
            [
             0.3,
             "#f1b6da"
            ],
            [
             0.4,
             "#fde0ef"
            ],
            [
             0.5,
             "#f7f7f7"
            ],
            [
             0.6,
             "#e6f5d0"
            ],
            [
             0.7,
             "#b8e186"
            ],
            [
             0.8,
             "#7fbc41"
            ],
            [
             0.9,
             "#4d9221"
            ],
            [
             1,
             "#276419"
            ]
           ],
           "sequential": [
            [
             0,
             "#0d0887"
            ],
            [
             0.1111111111111111,
             "#46039f"
            ],
            [
             0.2222222222222222,
             "#7201a8"
            ],
            [
             0.3333333333333333,
             "#9c179e"
            ],
            [
             0.4444444444444444,
             "#bd3786"
            ],
            [
             0.5555555555555556,
             "#d8576b"
            ],
            [
             0.6666666666666666,
             "#ed7953"
            ],
            [
             0.7777777777777778,
             "#fb9f3a"
            ],
            [
             0.8888888888888888,
             "#fdca26"
            ],
            [
             1,
             "#f0f921"
            ]
           ],
           "sequentialminus": [
            [
             0,
             "#0d0887"
            ],
            [
             0.1111111111111111,
             "#46039f"
            ],
            [
             0.2222222222222222,
             "#7201a8"
            ],
            [
             0.3333333333333333,
             "#9c179e"
            ],
            [
             0.4444444444444444,
             "#bd3786"
            ],
            [
             0.5555555555555556,
             "#d8576b"
            ],
            [
             0.6666666666666666,
             "#ed7953"
            ],
            [
             0.7777777777777778,
             "#fb9f3a"
            ],
            [
             0.8888888888888888,
             "#fdca26"
            ],
            [
             1,
             "#f0f921"
            ]
           ]
          },
          "colorway": [
           "#636efa",
           "#EF553B",
           "#00cc96",
           "#ab63fa",
           "#FFA15A",
           "#19d3f3",
           "#FF6692",
           "#B6E880",
           "#FF97FF",
           "#FECB52"
          ],
          "font": {
           "color": "#2a3f5f"
          },
          "geo": {
           "bgcolor": "white",
           "lakecolor": "white",
           "landcolor": "#E5ECF6",
           "showlakes": true,
           "showland": true,
           "subunitcolor": "white"
          },
          "hoverlabel": {
           "align": "left"
          },
          "hovermode": "closest",
          "mapbox": {
           "style": "light"
          },
          "paper_bgcolor": "white",
          "plot_bgcolor": "#E5ECF6",
          "polar": {
           "angularaxis": {
            "gridcolor": "white",
            "linecolor": "white",
            "ticks": ""
           },
           "bgcolor": "#E5ECF6",
           "radialaxis": {
            "gridcolor": "white",
            "linecolor": "white",
            "ticks": ""
           }
          },
          "scene": {
           "xaxis": {
            "backgroundcolor": "#E5ECF6",
            "gridcolor": "white",
            "gridwidth": 2,
            "linecolor": "white",
            "showbackground": true,
            "ticks": "",
            "zerolinecolor": "white"
           },
           "yaxis": {
            "backgroundcolor": "#E5ECF6",
            "gridcolor": "white",
            "gridwidth": 2,
            "linecolor": "white",
            "showbackground": true,
            "ticks": "",
            "zerolinecolor": "white"
           },
           "zaxis": {
            "backgroundcolor": "#E5ECF6",
            "gridcolor": "white",
            "gridwidth": 2,
            "linecolor": "white",
            "showbackground": true,
            "ticks": "",
            "zerolinecolor": "white"
           }
          },
          "shapedefaults": {
           "line": {
            "color": "#2a3f5f"
           }
          },
          "ternary": {
           "aaxis": {
            "gridcolor": "white",
            "linecolor": "white",
            "ticks": ""
           },
           "baxis": {
            "gridcolor": "white",
            "linecolor": "white",
            "ticks": ""
           },
           "bgcolor": "#E5ECF6",
           "caxis": {
            "gridcolor": "white",
            "linecolor": "white",
            "ticks": ""
           }
          },
          "title": {
           "x": 0.05
          },
          "xaxis": {
           "automargin": true,
           "gridcolor": "white",
           "linecolor": "white",
           "ticks": "",
           "title": {
            "standoff": 15
           },
           "zerolinecolor": "white",
           "zerolinewidth": 2
          },
          "yaxis": {
           "automargin": true,
           "gridcolor": "white",
           "linecolor": "white",
           "ticks": "",
           "title": {
            "standoff": 15
           },
           "zerolinecolor": "white",
           "zerolinewidth": 2
          }
         }
        },
        "title": {
         "text": "User Actions Funnel",
         "x": 0.5
        }
       }
      },
      "text/html": [
       "<div>                            <div id=\"7d9da173-7d3f-4d00-9203-7085cf07137e\" class=\"plotly-graph-div\" style=\"height:525px; width:100%;\"></div>            <script type=\"text/javascript\">                require([\"plotly\"], function(Plotly) {                    window.PLOTLYENV=window.PLOTLYENV || {};                                    if (document.getElementById(\"7d9da173-7d3f-4d00-9203-7085cf07137e\")) {                    Plotly.newPlot(                        \"7d9da173-7d3f-4d00-9203-7085cf07137e\",                        [{\"textinfo\":\"value+percent previous\",\"x\":[7419,4593,3734,3539],\"y\":[\"MainScreenAppear\",\"OffersScreenAppear\",\"CartScreenAppear\",\"PaymentScreenSuccessful\"],\"type\":\"funnel\"}],                        {\"template\":{\"data\":{\"histogram2dcontour\":[{\"type\":\"histogram2dcontour\",\"colorbar\":{\"outlinewidth\":0,\"ticks\":\"\"},\"colorscale\":[[0.0,\"#0d0887\"],[0.1111111111111111,\"#46039f\"],[0.2222222222222222,\"#7201a8\"],[0.3333333333333333,\"#9c179e\"],[0.4444444444444444,\"#bd3786\"],[0.5555555555555556,\"#d8576b\"],[0.6666666666666666,\"#ed7953\"],[0.7777777777777778,\"#fb9f3a\"],[0.8888888888888888,\"#fdca26\"],[1.0,\"#f0f921\"]]}],\"choropleth\":[{\"type\":\"choropleth\",\"colorbar\":{\"outlinewidth\":0,\"ticks\":\"\"}}],\"histogram2d\":[{\"type\":\"histogram2d\",\"colorbar\":{\"outlinewidth\":0,\"ticks\":\"\"},\"colorscale\":[[0.0,\"#0d0887\"],[0.1111111111111111,\"#46039f\"],[0.2222222222222222,\"#7201a8\"],[0.3333333333333333,\"#9c179e\"],[0.4444444444444444,\"#bd3786\"],[0.5555555555555556,\"#d8576b\"],[0.6666666666666666,\"#ed7953\"],[0.7777777777777778,\"#fb9f3a\"],[0.8888888888888888,\"#fdca26\"],[1.0,\"#f0f921\"]]}],\"heatmap\":[{\"type\":\"heatmap\",\"colorbar\":{\"outlinewidth\":0,\"ticks\":\"\"},\"colorscale\":[[0.0,\"#0d0887\"],[0.1111111111111111,\"#46039f\"],[0.2222222222222222,\"#7201a8\"],[0.3333333333333333,\"#9c179e\"],[0.4444444444444444,\"#bd3786\"],[0.5555555555555556,\"#d8576b\"],[0.6666666666666666,\"#ed7953\"],[0.7777777777777778,\"#fb9f3a\"],[0.8888888888888888,\"#fdca26\"],[1.0,\"#f0f921\"]]}],\"heatmapgl\":[{\"type\":\"heatmapgl\",\"colorbar\":{\"outlinewidth\":0,\"ticks\":\"\"},\"colorscale\":[[0.0,\"#0d0887\"],[0.1111111111111111,\"#46039f\"],[0.2222222222222222,\"#7201a8\"],[0.3333333333333333,\"#9c179e\"],[0.4444444444444444,\"#bd3786\"],[0.5555555555555556,\"#d8576b\"],[0.6666666666666666,\"#ed7953\"],[0.7777777777777778,\"#fb9f3a\"],[0.8888888888888888,\"#fdca26\"],[1.0,\"#f0f921\"]]}],\"contourcarpet\":[{\"type\":\"contourcarpet\",\"colorbar\":{\"outlinewidth\":0,\"ticks\":\"\"}}],\"contour\":[{\"type\":\"contour\",\"colorbar\":{\"outlinewidth\":0,\"ticks\":\"\"},\"colorscale\":[[0.0,\"#0d0887\"],[0.1111111111111111,\"#46039f\"],[0.2222222222222222,\"#7201a8\"],[0.3333333333333333,\"#9c179e\"],[0.4444444444444444,\"#bd3786\"],[0.5555555555555556,\"#d8576b\"],[0.6666666666666666,\"#ed7953\"],[0.7777777777777778,\"#fb9f3a\"],[0.8888888888888888,\"#fdca26\"],[1.0,\"#f0f921\"]]}],\"surface\":[{\"type\":\"surface\",\"colorbar\":{\"outlinewidth\":0,\"ticks\":\"\"},\"colorscale\":[[0.0,\"#0d0887\"],[0.1111111111111111,\"#46039f\"],[0.2222222222222222,\"#7201a8\"],[0.3333333333333333,\"#9c179e\"],[0.4444444444444444,\"#bd3786\"],[0.5555555555555556,\"#d8576b\"],[0.6666666666666666,\"#ed7953\"],[0.7777777777777778,\"#fb9f3a\"],[0.8888888888888888,\"#fdca26\"],[1.0,\"#f0f921\"]]}],\"mesh3d\":[{\"type\":\"mesh3d\",\"colorbar\":{\"outlinewidth\":0,\"ticks\":\"\"}}],\"scatter\":[{\"fillpattern\":{\"fillmode\":\"overlay\",\"size\":10,\"solidity\":0.2},\"type\":\"scatter\"}],\"parcoords\":[{\"type\":\"parcoords\",\"line\":{\"colorbar\":{\"outlinewidth\":0,\"ticks\":\"\"}}}],\"scatterpolargl\":[{\"type\":\"scatterpolargl\",\"marker\":{\"colorbar\":{\"outlinewidth\":0,\"ticks\":\"\"}}}],\"bar\":[{\"error_x\":{\"color\":\"#2a3f5f\"},\"error_y\":{\"color\":\"#2a3f5f\"},\"marker\":{\"line\":{\"color\":\"#E5ECF6\",\"width\":0.5},\"pattern\":{\"fillmode\":\"overlay\",\"size\":10,\"solidity\":0.2}},\"type\":\"bar\"}],\"scattergeo\":[{\"type\":\"scattergeo\",\"marker\":{\"colorbar\":{\"outlinewidth\":0,\"ticks\":\"\"}}}],\"scatterpolar\":[{\"type\":\"scatterpolar\",\"marker\":{\"colorbar\":{\"outlinewidth\":0,\"ticks\":\"\"}}}],\"histogram\":[{\"marker\":{\"pattern\":{\"fillmode\":\"overlay\",\"size\":10,\"solidity\":0.2}},\"type\":\"histogram\"}],\"scattergl\":[{\"type\":\"scattergl\",\"marker\":{\"colorbar\":{\"outlinewidth\":0,\"ticks\":\"\"}}}],\"scatter3d\":[{\"type\":\"scatter3d\",\"line\":{\"colorbar\":{\"outlinewidth\":0,\"ticks\":\"\"}},\"marker\":{\"colorbar\":{\"outlinewidth\":0,\"ticks\":\"\"}}}],\"scattermapbox\":[{\"type\":\"scattermapbox\",\"marker\":{\"colorbar\":{\"outlinewidth\":0,\"ticks\":\"\"}}}],\"scatterternary\":[{\"type\":\"scatterternary\",\"marker\":{\"colorbar\":{\"outlinewidth\":0,\"ticks\":\"\"}}}],\"scattercarpet\":[{\"type\":\"scattercarpet\",\"marker\":{\"colorbar\":{\"outlinewidth\":0,\"ticks\":\"\"}}}],\"carpet\":[{\"aaxis\":{\"endlinecolor\":\"#2a3f5f\",\"gridcolor\":\"white\",\"linecolor\":\"white\",\"minorgridcolor\":\"white\",\"startlinecolor\":\"#2a3f5f\"},\"baxis\":{\"endlinecolor\":\"#2a3f5f\",\"gridcolor\":\"white\",\"linecolor\":\"white\",\"minorgridcolor\":\"white\",\"startlinecolor\":\"#2a3f5f\"},\"type\":\"carpet\"}],\"table\":[{\"cells\":{\"fill\":{\"color\":\"#EBF0F8\"},\"line\":{\"color\":\"white\"}},\"header\":{\"fill\":{\"color\":\"#C8D4E3\"},\"line\":{\"color\":\"white\"}},\"type\":\"table\"}],\"barpolar\":[{\"marker\":{\"line\":{\"color\":\"#E5ECF6\",\"width\":0.5},\"pattern\":{\"fillmode\":\"overlay\",\"size\":10,\"solidity\":0.2}},\"type\":\"barpolar\"}],\"pie\":[{\"automargin\":true,\"type\":\"pie\"}]},\"layout\":{\"autotypenumbers\":\"strict\",\"colorway\":[\"#636efa\",\"#EF553B\",\"#00cc96\",\"#ab63fa\",\"#FFA15A\",\"#19d3f3\",\"#FF6692\",\"#B6E880\",\"#FF97FF\",\"#FECB52\"],\"font\":{\"color\":\"#2a3f5f\"},\"hovermode\":\"closest\",\"hoverlabel\":{\"align\":\"left\"},\"paper_bgcolor\":\"white\",\"plot_bgcolor\":\"#E5ECF6\",\"polar\":{\"bgcolor\":\"#E5ECF6\",\"angularaxis\":{\"gridcolor\":\"white\",\"linecolor\":\"white\",\"ticks\":\"\"},\"radialaxis\":{\"gridcolor\":\"white\",\"linecolor\":\"white\",\"ticks\":\"\"}},\"ternary\":{\"bgcolor\":\"#E5ECF6\",\"aaxis\":{\"gridcolor\":\"white\",\"linecolor\":\"white\",\"ticks\":\"\"},\"baxis\":{\"gridcolor\":\"white\",\"linecolor\":\"white\",\"ticks\":\"\"},\"caxis\":{\"gridcolor\":\"white\",\"linecolor\":\"white\",\"ticks\":\"\"}},\"coloraxis\":{\"colorbar\":{\"outlinewidth\":0,\"ticks\":\"\"}},\"colorscale\":{\"sequential\":[[0.0,\"#0d0887\"],[0.1111111111111111,\"#46039f\"],[0.2222222222222222,\"#7201a8\"],[0.3333333333333333,\"#9c179e\"],[0.4444444444444444,\"#bd3786\"],[0.5555555555555556,\"#d8576b\"],[0.6666666666666666,\"#ed7953\"],[0.7777777777777778,\"#fb9f3a\"],[0.8888888888888888,\"#fdca26\"],[1.0,\"#f0f921\"]],\"sequentialminus\":[[0.0,\"#0d0887\"],[0.1111111111111111,\"#46039f\"],[0.2222222222222222,\"#7201a8\"],[0.3333333333333333,\"#9c179e\"],[0.4444444444444444,\"#bd3786\"],[0.5555555555555556,\"#d8576b\"],[0.6666666666666666,\"#ed7953\"],[0.7777777777777778,\"#fb9f3a\"],[0.8888888888888888,\"#fdca26\"],[1.0,\"#f0f921\"]],\"diverging\":[[0,\"#8e0152\"],[0.1,\"#c51b7d\"],[0.2,\"#de77ae\"],[0.3,\"#f1b6da\"],[0.4,\"#fde0ef\"],[0.5,\"#f7f7f7\"],[0.6,\"#e6f5d0\"],[0.7,\"#b8e186\"],[0.8,\"#7fbc41\"],[0.9,\"#4d9221\"],[1,\"#276419\"]]},\"xaxis\":{\"gridcolor\":\"white\",\"linecolor\":\"white\",\"ticks\":\"\",\"title\":{\"standoff\":15},\"zerolinecolor\":\"white\",\"automargin\":true,\"zerolinewidth\":2},\"yaxis\":{\"gridcolor\":\"white\",\"linecolor\":\"white\",\"ticks\":\"\",\"title\":{\"standoff\":15},\"zerolinecolor\":\"white\",\"automargin\":true,\"zerolinewidth\":2},\"scene\":{\"xaxis\":{\"backgroundcolor\":\"#E5ECF6\",\"gridcolor\":\"white\",\"linecolor\":\"white\",\"showbackground\":true,\"ticks\":\"\",\"zerolinecolor\":\"white\",\"gridwidth\":2},\"yaxis\":{\"backgroundcolor\":\"#E5ECF6\",\"gridcolor\":\"white\",\"linecolor\":\"white\",\"showbackground\":true,\"ticks\":\"\",\"zerolinecolor\":\"white\",\"gridwidth\":2},\"zaxis\":{\"backgroundcolor\":\"#E5ECF6\",\"gridcolor\":\"white\",\"linecolor\":\"white\",\"showbackground\":true,\"ticks\":\"\",\"zerolinecolor\":\"white\",\"gridwidth\":2}},\"shapedefaults\":{\"line\":{\"color\":\"#2a3f5f\"}},\"annotationdefaults\":{\"arrowcolor\":\"#2a3f5f\",\"arrowhead\":0,\"arrowwidth\":1},\"geo\":{\"bgcolor\":\"white\",\"landcolor\":\"#E5ECF6\",\"subunitcolor\":\"white\",\"showland\":true,\"showlakes\":true,\"lakecolor\":\"white\"},\"title\":{\"x\":0.05},\"mapbox\":{\"style\":\"light\"}}},\"title\":{\"text\":\"User Actions Funnel\",\"x\":0.5}},                        {\"responsive\": true}                    ).then(function(){\n",
       "                            \n",
       "var gd = document.getElementById('7d9da173-7d3f-4d00-9203-7085cf07137e');\n",
       "var x = new MutationObserver(function (mutations, observer) {{\n",
       "        var display = window.getComputedStyle(gd).display;\n",
       "        if (!display || display === 'none') {{\n",
       "            console.log([gd, 'removed!']);\n",
       "            Plotly.purge(gd);\n",
       "            observer.disconnect();\n",
       "        }}\n",
       "}});\n",
       "\n",
       "// Listen for the removal of the full notebook cells\n",
       "var notebookContainer = gd.closest('#notebook-container');\n",
       "if (notebookContainer) {{\n",
       "    x.observe(notebookContainer, {childList: true});\n",
       "}}\n",
       "\n",
       "// Listen for the clearing of the current output cell\n",
       "var outputEl = gd.closest('.output');\n",
       "if (outputEl) {{\n",
       "    x.observe(outputEl, {childList: true});\n",
       "}}\n",
       "\n",
       "                        })                };                });            </script>        </div>"
      ]
     },
     "metadata": {},
     "output_type": "display_data"
    }
   ],
   "source": [
    "#Visualizing the data in a funnel chart\n",
    "figi = go.Figure(go.Funnel(\n",
    "    x = clean_events['users_num'],\n",
    "    y = clean_events['event'],textinfo = \"value+percent previous\")\n",
    "    )\n",
    "\n",
    "figi.update_layout(\n",
    "    title=\"User Actions Funnel\",title_x=0.5)\n",
    "\n",
    "figi.show() "
   ]
  },
  {
   "cell_type": "markdown",
   "metadata": {},
   "source": [
    "we can see the stage where we lost most users was the second stage, OffersScreenApear, with 61.9 % of the users from the previous stage.\n",
    "The number of users who made the entire journey from their first event to payment is 3539, 47.7 of initial users and 94.8% of users from the previous stage\n",
    "\n",
    "Next, i want to get a funnel that shows the difference between the groups of the test"
   ]
  },
  {
   "cell_type": "code",
   "execution_count": 101,
   "metadata": {},
   "outputs": [
    {
     "data": {
      "text/html": [
       "<div>\n",
       "<style scoped>\n",
       "    .dataframe tbody tr th:only-of-type {\n",
       "        vertical-align: middle;\n",
       "    }\n",
       "\n",
       "    .dataframe tbody tr th {\n",
       "        vertical-align: top;\n",
       "    }\n",
       "\n",
       "    .dataframe thead th {\n",
       "        text-align: right;\n",
       "    }\n",
       "</style>\n",
       "<table border=\"1\" class=\"dataframe\">\n",
       "  <thead>\n",
       "    <tr style=\"text-align: right;\">\n",
       "      <th></th>\n",
       "      <th>event_name</th>\n",
       "      <th>expid</th>\n",
       "      <th>device_id</th>\n",
       "    </tr>\n",
       "  </thead>\n",
       "  <tbody>\n",
       "    <tr>\n",
       "      <th>1</th>\n",
       "      <td>MainScreenAppear</td>\n",
       "      <td>246</td>\n",
       "      <td>2450</td>\n",
       "    </tr>\n",
       "    <tr>\n",
       "      <th>2</th>\n",
       "      <td>OffersScreenAppear</td>\n",
       "      <td>246</td>\n",
       "      <td>1542</td>\n",
       "    </tr>\n",
       "    <tr>\n",
       "      <th>0</th>\n",
       "      <td>CartScreenAppear</td>\n",
       "      <td>246</td>\n",
       "      <td>1266</td>\n",
       "    </tr>\n",
       "    <tr>\n",
       "      <th>3</th>\n",
       "      <td>PaymentScreenSuccessful</td>\n",
       "      <td>246</td>\n",
       "      <td>1200</td>\n",
       "    </tr>\n",
       "  </tbody>\n",
       "</table>\n",
       "</div>"
      ],
      "text/plain": [
       "                event_name  expid  device_id\n",
       "1         MainScreenAppear    246       2450\n",
       "2       OffersScreenAppear    246       1542\n",
       "0         CartScreenAppear    246       1266\n",
       "3  PaymentScreenSuccessful    246       1200"
      ]
     },
     "metadata": {},
     "output_type": "display_data"
    },
    {
     "data": {
      "text/html": [
       "<div>\n",
       "<style scoped>\n",
       "    .dataframe tbody tr th:only-of-type {\n",
       "        vertical-align: middle;\n",
       "    }\n",
       "\n",
       "    .dataframe tbody tr th {\n",
       "        vertical-align: top;\n",
       "    }\n",
       "\n",
       "    .dataframe thead th {\n",
       "        text-align: right;\n",
       "    }\n",
       "</style>\n",
       "<table border=\"1\" class=\"dataframe\">\n",
       "  <thead>\n",
       "    <tr style=\"text-align: right;\">\n",
       "      <th></th>\n",
       "      <th>event_name</th>\n",
       "      <th>expid</th>\n",
       "      <th>device_id</th>\n",
       "    </tr>\n",
       "  </thead>\n",
       "  <tbody>\n",
       "    <tr>\n",
       "      <th>1</th>\n",
       "      <td>MainScreenAppear</td>\n",
       "      <td>247</td>\n",
       "      <td>2476</td>\n",
       "    </tr>\n",
       "    <tr>\n",
       "      <th>2</th>\n",
       "      <td>OffersScreenAppear</td>\n",
       "      <td>247</td>\n",
       "      <td>1520</td>\n",
       "    </tr>\n",
       "    <tr>\n",
       "      <th>0</th>\n",
       "      <td>CartScreenAppear</td>\n",
       "      <td>247</td>\n",
       "      <td>1238</td>\n",
       "    </tr>\n",
       "    <tr>\n",
       "      <th>3</th>\n",
       "      <td>PaymentScreenSuccessful</td>\n",
       "      <td>247</td>\n",
       "      <td>1158</td>\n",
       "    </tr>\n",
       "  </tbody>\n",
       "</table>\n",
       "</div>"
      ],
      "text/plain": [
       "                event_name  expid  device_id\n",
       "1         MainScreenAppear    247       2476\n",
       "2       OffersScreenAppear    247       1520\n",
       "0         CartScreenAppear    247       1238\n",
       "3  PaymentScreenSuccessful    247       1158"
      ]
     },
     "metadata": {},
     "output_type": "display_data"
    },
    {
     "data": {
      "text/html": [
       "<div>\n",
       "<style scoped>\n",
       "    .dataframe tbody tr th:only-of-type {\n",
       "        vertical-align: middle;\n",
       "    }\n",
       "\n",
       "    .dataframe tbody tr th {\n",
       "        vertical-align: top;\n",
       "    }\n",
       "\n",
       "    .dataframe thead th {\n",
       "        text-align: right;\n",
       "    }\n",
       "</style>\n",
       "<table border=\"1\" class=\"dataframe\">\n",
       "  <thead>\n",
       "    <tr style=\"text-align: right;\">\n",
       "      <th></th>\n",
       "      <th>event_name</th>\n",
       "      <th>expid</th>\n",
       "      <th>device_id</th>\n",
       "    </tr>\n",
       "  </thead>\n",
       "  <tbody>\n",
       "    <tr>\n",
       "      <th>1</th>\n",
       "      <td>MainScreenAppear</td>\n",
       "      <td>248</td>\n",
       "      <td>2493</td>\n",
       "    </tr>\n",
       "    <tr>\n",
       "      <th>2</th>\n",
       "      <td>OffersScreenAppear</td>\n",
       "      <td>248</td>\n",
       "      <td>1531</td>\n",
       "    </tr>\n",
       "    <tr>\n",
       "      <th>0</th>\n",
       "      <td>CartScreenAppear</td>\n",
       "      <td>248</td>\n",
       "      <td>1230</td>\n",
       "    </tr>\n",
       "    <tr>\n",
       "      <th>3</th>\n",
       "      <td>PaymentScreenSuccessful</td>\n",
       "      <td>248</td>\n",
       "      <td>1181</td>\n",
       "    </tr>\n",
       "  </tbody>\n",
       "</table>\n",
       "</div>"
      ],
      "text/plain": [
       "                event_name  expid  device_id\n",
       "1         MainScreenAppear    248       2493\n",
       "2       OffersScreenAppear    248       1531\n",
       "0         CartScreenAppear    248       1230\n",
       "3  PaymentScreenSuccessful    248       1181"
      ]
     },
     "metadata": {},
     "output_type": "display_data"
    }
   ],
   "source": [
    "#Creating a list with groups with the number of unique users who perforemd every action in every group\n",
    "funnel_groups = []\n",
    "for i in food.expid.unique():\n",
    "    group = food[(food.expid == i) & (food.event_name != 'Tutorial')].groupby(['event_name','expid'])['device_id'].nunique().reset_index().sort_values(by = 'device_id',ascending = False)\n",
    "    display(group)\n",
    "    funnel_groups.append(group)"
   ]
  },
  {
   "cell_type": "code",
   "execution_count": 102,
   "metadata": {},
   "outputs": [
    {
     "data": {
      "text/html": [
       "<div>\n",
       "<style scoped>\n",
       "    .dataframe tbody tr th:only-of-type {\n",
       "        vertical-align: middle;\n",
       "    }\n",
       "\n",
       "    .dataframe tbody tr th {\n",
       "        vertical-align: top;\n",
       "    }\n",
       "\n",
       "    .dataframe thead th {\n",
       "        text-align: right;\n",
       "    }\n",
       "</style>\n",
       "<table border=\"1\" class=\"dataframe\">\n",
       "  <thead>\n",
       "    <tr style=\"text-align: right;\">\n",
       "      <th></th>\n",
       "      <th>event_name</th>\n",
       "      <th>expid</th>\n",
       "      <th>device_id</th>\n",
       "    </tr>\n",
       "  </thead>\n",
       "  <tbody>\n",
       "    <tr>\n",
       "      <th>1</th>\n",
       "      <td>MainScreenAppear</td>\n",
       "      <td>246</td>\n",
       "      <td>2450</td>\n",
       "    </tr>\n",
       "    <tr>\n",
       "      <th>2</th>\n",
       "      <td>OffersScreenAppear</td>\n",
       "      <td>246</td>\n",
       "      <td>1542</td>\n",
       "    </tr>\n",
       "    <tr>\n",
       "      <th>0</th>\n",
       "      <td>CartScreenAppear</td>\n",
       "      <td>246</td>\n",
       "      <td>1266</td>\n",
       "    </tr>\n",
       "    <tr>\n",
       "      <th>3</th>\n",
       "      <td>PaymentScreenSuccessful</td>\n",
       "      <td>246</td>\n",
       "      <td>1200</td>\n",
       "    </tr>\n",
       "    <tr>\n",
       "      <th>1</th>\n",
       "      <td>MainScreenAppear</td>\n",
       "      <td>247</td>\n",
       "      <td>2476</td>\n",
       "    </tr>\n",
       "    <tr>\n",
       "      <th>2</th>\n",
       "      <td>OffersScreenAppear</td>\n",
       "      <td>247</td>\n",
       "      <td>1520</td>\n",
       "    </tr>\n",
       "    <tr>\n",
       "      <th>0</th>\n",
       "      <td>CartScreenAppear</td>\n",
       "      <td>247</td>\n",
       "      <td>1238</td>\n",
       "    </tr>\n",
       "    <tr>\n",
       "      <th>3</th>\n",
       "      <td>PaymentScreenSuccessful</td>\n",
       "      <td>247</td>\n",
       "      <td>1158</td>\n",
       "    </tr>\n",
       "    <tr>\n",
       "      <th>1</th>\n",
       "      <td>MainScreenAppear</td>\n",
       "      <td>248</td>\n",
       "      <td>2493</td>\n",
       "    </tr>\n",
       "    <tr>\n",
       "      <th>2</th>\n",
       "      <td>OffersScreenAppear</td>\n",
       "      <td>248</td>\n",
       "      <td>1531</td>\n",
       "    </tr>\n",
       "    <tr>\n",
       "      <th>0</th>\n",
       "      <td>CartScreenAppear</td>\n",
       "      <td>248</td>\n",
       "      <td>1230</td>\n",
       "    </tr>\n",
       "    <tr>\n",
       "      <th>3</th>\n",
       "      <td>PaymentScreenSuccessful</td>\n",
       "      <td>248</td>\n",
       "      <td>1181</td>\n",
       "    </tr>\n",
       "  </tbody>\n",
       "</table>\n",
       "</div>"
      ],
      "text/plain": [
       "                event_name  expid  device_id\n",
       "1         MainScreenAppear    246       2450\n",
       "2       OffersScreenAppear    246       1542\n",
       "0         CartScreenAppear    246       1266\n",
       "3  PaymentScreenSuccessful    246       1200\n",
       "1         MainScreenAppear    247       2476\n",
       "2       OffersScreenAppear    247       1520\n",
       "0         CartScreenAppear    247       1238\n",
       "3  PaymentScreenSuccessful    247       1158\n",
       "1         MainScreenAppear    248       2493\n",
       "2       OffersScreenAppear    248       1531\n",
       "0         CartScreenAppear    248       1230\n",
       "3  PaymentScreenSuccessful    248       1181"
      ]
     },
     "execution_count": 102,
     "metadata": {},
     "output_type": "execute_result"
    }
   ],
   "source": [
    "#concating the grops into one \n",
    "funnel_groups = pd.concat(funnel_groups)\n",
    "funnel_groups"
   ]
  },
  {
   "cell_type": "code",
   "execution_count": 103,
   "metadata": {},
   "outputs": [
    {
     "data": {
      "application/vnd.plotly.v1+json": {
       "config": {
        "plotlyServerURL": "https://plot.ly"
       },
       "data": [
        {
         "name": "246",
         "textinfo": "value+percent initial",
         "type": "funnel",
         "x": [
          2450,
          1542,
          1266,
          1200
         ],
         "y": [
          "MainScreenAppear",
          "OffersScreenAppear",
          "CartScreenAppear",
          "PaymentScreenSuccessful"
         ]
        },
        {
         "name": "247",
         "textinfo": "value+percent initial",
         "type": "funnel",
         "x": [
          2476,
          1520,
          1238,
          1158
         ],
         "y": [
          "MainScreenAppear",
          "OffersScreenAppear",
          "CartScreenAppear",
          "PaymentScreenSuccessful"
         ]
        },
        {
         "name": "248",
         "textinfo": "value+percent initial",
         "type": "funnel",
         "x": [
          2493,
          1531,
          1230,
          1181
         ],
         "y": [
          "MainScreenAppear",
          "OffersScreenAppear",
          "CartScreenAppear",
          "PaymentScreenSuccessful"
         ]
        }
       ],
       "layout": {
        "template": {
         "data": {
          "bar": [
           {
            "error_x": {
             "color": "#2a3f5f"
            },
            "error_y": {
             "color": "#2a3f5f"
            },
            "marker": {
             "line": {
              "color": "#E5ECF6",
              "width": 0.5
             },
             "pattern": {
              "fillmode": "overlay",
              "size": 10,
              "solidity": 0.2
             }
            },
            "type": "bar"
           }
          ],
          "barpolar": [
           {
            "marker": {
             "line": {
              "color": "#E5ECF6",
              "width": 0.5
             },
             "pattern": {
              "fillmode": "overlay",
              "size": 10,
              "solidity": 0.2
             }
            },
            "type": "barpolar"
           }
          ],
          "carpet": [
           {
            "aaxis": {
             "endlinecolor": "#2a3f5f",
             "gridcolor": "white",
             "linecolor": "white",
             "minorgridcolor": "white",
             "startlinecolor": "#2a3f5f"
            },
            "baxis": {
             "endlinecolor": "#2a3f5f",
             "gridcolor": "white",
             "linecolor": "white",
             "minorgridcolor": "white",
             "startlinecolor": "#2a3f5f"
            },
            "type": "carpet"
           }
          ],
          "choropleth": [
           {
            "colorbar": {
             "outlinewidth": 0,
             "ticks": ""
            },
            "type": "choropleth"
           }
          ],
          "contour": [
           {
            "colorbar": {
             "outlinewidth": 0,
             "ticks": ""
            },
            "colorscale": [
             [
              0,
              "#0d0887"
             ],
             [
              0.1111111111111111,
              "#46039f"
             ],
             [
              0.2222222222222222,
              "#7201a8"
             ],
             [
              0.3333333333333333,
              "#9c179e"
             ],
             [
              0.4444444444444444,
              "#bd3786"
             ],
             [
              0.5555555555555556,
              "#d8576b"
             ],
             [
              0.6666666666666666,
              "#ed7953"
             ],
             [
              0.7777777777777778,
              "#fb9f3a"
             ],
             [
              0.8888888888888888,
              "#fdca26"
             ],
             [
              1,
              "#f0f921"
             ]
            ],
            "type": "contour"
           }
          ],
          "contourcarpet": [
           {
            "colorbar": {
             "outlinewidth": 0,
             "ticks": ""
            },
            "type": "contourcarpet"
           }
          ],
          "heatmap": [
           {
            "colorbar": {
             "outlinewidth": 0,
             "ticks": ""
            },
            "colorscale": [
             [
              0,
              "#0d0887"
             ],
             [
              0.1111111111111111,
              "#46039f"
             ],
             [
              0.2222222222222222,
              "#7201a8"
             ],
             [
              0.3333333333333333,
              "#9c179e"
             ],
             [
              0.4444444444444444,
              "#bd3786"
             ],
             [
              0.5555555555555556,
              "#d8576b"
             ],
             [
              0.6666666666666666,
              "#ed7953"
             ],
             [
              0.7777777777777778,
              "#fb9f3a"
             ],
             [
              0.8888888888888888,
              "#fdca26"
             ],
             [
              1,
              "#f0f921"
             ]
            ],
            "type": "heatmap"
           }
          ],
          "heatmapgl": [
           {
            "colorbar": {
             "outlinewidth": 0,
             "ticks": ""
            },
            "colorscale": [
             [
              0,
              "#0d0887"
             ],
             [
              0.1111111111111111,
              "#46039f"
             ],
             [
              0.2222222222222222,
              "#7201a8"
             ],
             [
              0.3333333333333333,
              "#9c179e"
             ],
             [
              0.4444444444444444,
              "#bd3786"
             ],
             [
              0.5555555555555556,
              "#d8576b"
             ],
             [
              0.6666666666666666,
              "#ed7953"
             ],
             [
              0.7777777777777778,
              "#fb9f3a"
             ],
             [
              0.8888888888888888,
              "#fdca26"
             ],
             [
              1,
              "#f0f921"
             ]
            ],
            "type": "heatmapgl"
           }
          ],
          "histogram": [
           {
            "marker": {
             "pattern": {
              "fillmode": "overlay",
              "size": 10,
              "solidity": 0.2
             }
            },
            "type": "histogram"
           }
          ],
          "histogram2d": [
           {
            "colorbar": {
             "outlinewidth": 0,
             "ticks": ""
            },
            "colorscale": [
             [
              0,
              "#0d0887"
             ],
             [
              0.1111111111111111,
              "#46039f"
             ],
             [
              0.2222222222222222,
              "#7201a8"
             ],
             [
              0.3333333333333333,
              "#9c179e"
             ],
             [
              0.4444444444444444,
              "#bd3786"
             ],
             [
              0.5555555555555556,
              "#d8576b"
             ],
             [
              0.6666666666666666,
              "#ed7953"
             ],
             [
              0.7777777777777778,
              "#fb9f3a"
             ],
             [
              0.8888888888888888,
              "#fdca26"
             ],
             [
              1,
              "#f0f921"
             ]
            ],
            "type": "histogram2d"
           }
          ],
          "histogram2dcontour": [
           {
            "colorbar": {
             "outlinewidth": 0,
             "ticks": ""
            },
            "colorscale": [
             [
              0,
              "#0d0887"
             ],
             [
              0.1111111111111111,
              "#46039f"
             ],
             [
              0.2222222222222222,
              "#7201a8"
             ],
             [
              0.3333333333333333,
              "#9c179e"
             ],
             [
              0.4444444444444444,
              "#bd3786"
             ],
             [
              0.5555555555555556,
              "#d8576b"
             ],
             [
              0.6666666666666666,
              "#ed7953"
             ],
             [
              0.7777777777777778,
              "#fb9f3a"
             ],
             [
              0.8888888888888888,
              "#fdca26"
             ],
             [
              1,
              "#f0f921"
             ]
            ],
            "type": "histogram2dcontour"
           }
          ],
          "mesh3d": [
           {
            "colorbar": {
             "outlinewidth": 0,
             "ticks": ""
            },
            "type": "mesh3d"
           }
          ],
          "parcoords": [
           {
            "line": {
             "colorbar": {
              "outlinewidth": 0,
              "ticks": ""
             }
            },
            "type": "parcoords"
           }
          ],
          "pie": [
           {
            "automargin": true,
            "type": "pie"
           }
          ],
          "scatter": [
           {
            "fillpattern": {
             "fillmode": "overlay",
             "size": 10,
             "solidity": 0.2
            },
            "type": "scatter"
           }
          ],
          "scatter3d": [
           {
            "line": {
             "colorbar": {
              "outlinewidth": 0,
              "ticks": ""
             }
            },
            "marker": {
             "colorbar": {
              "outlinewidth": 0,
              "ticks": ""
             }
            },
            "type": "scatter3d"
           }
          ],
          "scattercarpet": [
           {
            "marker": {
             "colorbar": {
              "outlinewidth": 0,
              "ticks": ""
             }
            },
            "type": "scattercarpet"
           }
          ],
          "scattergeo": [
           {
            "marker": {
             "colorbar": {
              "outlinewidth": 0,
              "ticks": ""
             }
            },
            "type": "scattergeo"
           }
          ],
          "scattergl": [
           {
            "marker": {
             "colorbar": {
              "outlinewidth": 0,
              "ticks": ""
             }
            },
            "type": "scattergl"
           }
          ],
          "scattermapbox": [
           {
            "marker": {
             "colorbar": {
              "outlinewidth": 0,
              "ticks": ""
             }
            },
            "type": "scattermapbox"
           }
          ],
          "scatterpolar": [
           {
            "marker": {
             "colorbar": {
              "outlinewidth": 0,
              "ticks": ""
             }
            },
            "type": "scatterpolar"
           }
          ],
          "scatterpolargl": [
           {
            "marker": {
             "colorbar": {
              "outlinewidth": 0,
              "ticks": ""
             }
            },
            "type": "scatterpolargl"
           }
          ],
          "scatterternary": [
           {
            "marker": {
             "colorbar": {
              "outlinewidth": 0,
              "ticks": ""
             }
            },
            "type": "scatterternary"
           }
          ],
          "surface": [
           {
            "colorbar": {
             "outlinewidth": 0,
             "ticks": ""
            },
            "colorscale": [
             [
              0,
              "#0d0887"
             ],
             [
              0.1111111111111111,
              "#46039f"
             ],
             [
              0.2222222222222222,
              "#7201a8"
             ],
             [
              0.3333333333333333,
              "#9c179e"
             ],
             [
              0.4444444444444444,
              "#bd3786"
             ],
             [
              0.5555555555555556,
              "#d8576b"
             ],
             [
              0.6666666666666666,
              "#ed7953"
             ],
             [
              0.7777777777777778,
              "#fb9f3a"
             ],
             [
              0.8888888888888888,
              "#fdca26"
             ],
             [
              1,
              "#f0f921"
             ]
            ],
            "type": "surface"
           }
          ],
          "table": [
           {
            "cells": {
             "fill": {
              "color": "#EBF0F8"
             },
             "line": {
              "color": "white"
             }
            },
            "header": {
             "fill": {
              "color": "#C8D4E3"
             },
             "line": {
              "color": "white"
             }
            },
            "type": "table"
           }
          ]
         },
         "layout": {
          "annotationdefaults": {
           "arrowcolor": "#2a3f5f",
           "arrowhead": 0,
           "arrowwidth": 1
          },
          "autotypenumbers": "strict",
          "coloraxis": {
           "colorbar": {
            "outlinewidth": 0,
            "ticks": ""
           }
          },
          "colorscale": {
           "diverging": [
            [
             0,
             "#8e0152"
            ],
            [
             0.1,
             "#c51b7d"
            ],
            [
             0.2,
             "#de77ae"
            ],
            [
             0.3,
             "#f1b6da"
            ],
            [
             0.4,
             "#fde0ef"
            ],
            [
             0.5,
             "#f7f7f7"
            ],
            [
             0.6,
             "#e6f5d0"
            ],
            [
             0.7,
             "#b8e186"
            ],
            [
             0.8,
             "#7fbc41"
            ],
            [
             0.9,
             "#4d9221"
            ],
            [
             1,
             "#276419"
            ]
           ],
           "sequential": [
            [
             0,
             "#0d0887"
            ],
            [
             0.1111111111111111,
             "#46039f"
            ],
            [
             0.2222222222222222,
             "#7201a8"
            ],
            [
             0.3333333333333333,
             "#9c179e"
            ],
            [
             0.4444444444444444,
             "#bd3786"
            ],
            [
             0.5555555555555556,
             "#d8576b"
            ],
            [
             0.6666666666666666,
             "#ed7953"
            ],
            [
             0.7777777777777778,
             "#fb9f3a"
            ],
            [
             0.8888888888888888,
             "#fdca26"
            ],
            [
             1,
             "#f0f921"
            ]
           ],
           "sequentialminus": [
            [
             0,
             "#0d0887"
            ],
            [
             0.1111111111111111,
             "#46039f"
            ],
            [
             0.2222222222222222,
             "#7201a8"
            ],
            [
             0.3333333333333333,
             "#9c179e"
            ],
            [
             0.4444444444444444,
             "#bd3786"
            ],
            [
             0.5555555555555556,
             "#d8576b"
            ],
            [
             0.6666666666666666,
             "#ed7953"
            ],
            [
             0.7777777777777778,
             "#fb9f3a"
            ],
            [
             0.8888888888888888,
             "#fdca26"
            ],
            [
             1,
             "#f0f921"
            ]
           ]
          },
          "colorway": [
           "#636efa",
           "#EF553B",
           "#00cc96",
           "#ab63fa",
           "#FFA15A",
           "#19d3f3",
           "#FF6692",
           "#B6E880",
           "#FF97FF",
           "#FECB52"
          ],
          "font": {
           "color": "#2a3f5f"
          },
          "geo": {
           "bgcolor": "white",
           "lakecolor": "white",
           "landcolor": "#E5ECF6",
           "showlakes": true,
           "showland": true,
           "subunitcolor": "white"
          },
          "hoverlabel": {
           "align": "left"
          },
          "hovermode": "closest",
          "mapbox": {
           "style": "light"
          },
          "paper_bgcolor": "white",
          "plot_bgcolor": "#E5ECF6",
          "polar": {
           "angularaxis": {
            "gridcolor": "white",
            "linecolor": "white",
            "ticks": ""
           },
           "bgcolor": "#E5ECF6",
           "radialaxis": {
            "gridcolor": "white",
            "linecolor": "white",
            "ticks": ""
           }
          },
          "scene": {
           "xaxis": {
            "backgroundcolor": "#E5ECF6",
            "gridcolor": "white",
            "gridwidth": 2,
            "linecolor": "white",
            "showbackground": true,
            "ticks": "",
            "zerolinecolor": "white"
           },
           "yaxis": {
            "backgroundcolor": "#E5ECF6",
            "gridcolor": "white",
            "gridwidth": 2,
            "linecolor": "white",
            "showbackground": true,
            "ticks": "",
            "zerolinecolor": "white"
           },
           "zaxis": {
            "backgroundcolor": "#E5ECF6",
            "gridcolor": "white",
            "gridwidth": 2,
            "linecolor": "white",
            "showbackground": true,
            "ticks": "",
            "zerolinecolor": "white"
           }
          },
          "shapedefaults": {
           "line": {
            "color": "#2a3f5f"
           }
          },
          "ternary": {
           "aaxis": {
            "gridcolor": "white",
            "linecolor": "white",
            "ticks": ""
           },
           "baxis": {
            "gridcolor": "white",
            "linecolor": "white",
            "ticks": ""
           },
           "bgcolor": "#E5ECF6",
           "caxis": {
            "gridcolor": "white",
            "linecolor": "white",
            "ticks": ""
           }
          },
          "title": {
           "x": 0.05
          },
          "xaxis": {
           "automargin": true,
           "gridcolor": "white",
           "linecolor": "white",
           "ticks": "",
           "title": {
            "standoff": 15
           },
           "zerolinecolor": "white",
           "zerolinewidth": 2
          },
          "yaxis": {
           "automargin": true,
           "gridcolor": "white",
           "linecolor": "white",
           "ticks": "",
           "title": {
            "standoff": 15
           },
           "zerolinecolor": "white",
           "zerolinewidth": 2
          }
         }
        },
        "title": {
         "text": "User Actions Funnel by Experiment ",
         "x": 0.5
        }
       }
      },
      "text/html": [
       "<div>                            <div id=\"392760a8-be2a-404a-8251-5f174de568f1\" class=\"plotly-graph-div\" style=\"height:525px; width:100%;\"></div>            <script type=\"text/javascript\">                require([\"plotly\"], function(Plotly) {                    window.PLOTLYENV=window.PLOTLYENV || {};                                    if (document.getElementById(\"392760a8-be2a-404a-8251-5f174de568f1\")) {                    Plotly.newPlot(                        \"392760a8-be2a-404a-8251-5f174de568f1\",                        [{\"name\":\"246\",\"textinfo\":\"value+percent initial\",\"x\":[2450,1542,1266,1200],\"y\":[\"MainScreenAppear\",\"OffersScreenAppear\",\"CartScreenAppear\",\"PaymentScreenSuccessful\"],\"type\":\"funnel\"},{\"name\":\"247\",\"textinfo\":\"value+percent initial\",\"x\":[2476,1520,1238,1158],\"y\":[\"MainScreenAppear\",\"OffersScreenAppear\",\"CartScreenAppear\",\"PaymentScreenSuccessful\"],\"type\":\"funnel\"},{\"name\":\"248\",\"textinfo\":\"value+percent initial\",\"x\":[2493,1531,1230,1181],\"y\":[\"MainScreenAppear\",\"OffersScreenAppear\",\"CartScreenAppear\",\"PaymentScreenSuccessful\"],\"type\":\"funnel\"}],                        {\"template\":{\"data\":{\"histogram2dcontour\":[{\"type\":\"histogram2dcontour\",\"colorbar\":{\"outlinewidth\":0,\"ticks\":\"\"},\"colorscale\":[[0.0,\"#0d0887\"],[0.1111111111111111,\"#46039f\"],[0.2222222222222222,\"#7201a8\"],[0.3333333333333333,\"#9c179e\"],[0.4444444444444444,\"#bd3786\"],[0.5555555555555556,\"#d8576b\"],[0.6666666666666666,\"#ed7953\"],[0.7777777777777778,\"#fb9f3a\"],[0.8888888888888888,\"#fdca26\"],[1.0,\"#f0f921\"]]}],\"choropleth\":[{\"type\":\"choropleth\",\"colorbar\":{\"outlinewidth\":0,\"ticks\":\"\"}}],\"histogram2d\":[{\"type\":\"histogram2d\",\"colorbar\":{\"outlinewidth\":0,\"ticks\":\"\"},\"colorscale\":[[0.0,\"#0d0887\"],[0.1111111111111111,\"#46039f\"],[0.2222222222222222,\"#7201a8\"],[0.3333333333333333,\"#9c179e\"],[0.4444444444444444,\"#bd3786\"],[0.5555555555555556,\"#d8576b\"],[0.6666666666666666,\"#ed7953\"],[0.7777777777777778,\"#fb9f3a\"],[0.8888888888888888,\"#fdca26\"],[1.0,\"#f0f921\"]]}],\"heatmap\":[{\"type\":\"heatmap\",\"colorbar\":{\"outlinewidth\":0,\"ticks\":\"\"},\"colorscale\":[[0.0,\"#0d0887\"],[0.1111111111111111,\"#46039f\"],[0.2222222222222222,\"#7201a8\"],[0.3333333333333333,\"#9c179e\"],[0.4444444444444444,\"#bd3786\"],[0.5555555555555556,\"#d8576b\"],[0.6666666666666666,\"#ed7953\"],[0.7777777777777778,\"#fb9f3a\"],[0.8888888888888888,\"#fdca26\"],[1.0,\"#f0f921\"]]}],\"heatmapgl\":[{\"type\":\"heatmapgl\",\"colorbar\":{\"outlinewidth\":0,\"ticks\":\"\"},\"colorscale\":[[0.0,\"#0d0887\"],[0.1111111111111111,\"#46039f\"],[0.2222222222222222,\"#7201a8\"],[0.3333333333333333,\"#9c179e\"],[0.4444444444444444,\"#bd3786\"],[0.5555555555555556,\"#d8576b\"],[0.6666666666666666,\"#ed7953\"],[0.7777777777777778,\"#fb9f3a\"],[0.8888888888888888,\"#fdca26\"],[1.0,\"#f0f921\"]]}],\"contourcarpet\":[{\"type\":\"contourcarpet\",\"colorbar\":{\"outlinewidth\":0,\"ticks\":\"\"}}],\"contour\":[{\"type\":\"contour\",\"colorbar\":{\"outlinewidth\":0,\"ticks\":\"\"},\"colorscale\":[[0.0,\"#0d0887\"],[0.1111111111111111,\"#46039f\"],[0.2222222222222222,\"#7201a8\"],[0.3333333333333333,\"#9c179e\"],[0.4444444444444444,\"#bd3786\"],[0.5555555555555556,\"#d8576b\"],[0.6666666666666666,\"#ed7953\"],[0.7777777777777778,\"#fb9f3a\"],[0.8888888888888888,\"#fdca26\"],[1.0,\"#f0f921\"]]}],\"surface\":[{\"type\":\"surface\",\"colorbar\":{\"outlinewidth\":0,\"ticks\":\"\"},\"colorscale\":[[0.0,\"#0d0887\"],[0.1111111111111111,\"#46039f\"],[0.2222222222222222,\"#7201a8\"],[0.3333333333333333,\"#9c179e\"],[0.4444444444444444,\"#bd3786\"],[0.5555555555555556,\"#d8576b\"],[0.6666666666666666,\"#ed7953\"],[0.7777777777777778,\"#fb9f3a\"],[0.8888888888888888,\"#fdca26\"],[1.0,\"#f0f921\"]]}],\"mesh3d\":[{\"type\":\"mesh3d\",\"colorbar\":{\"outlinewidth\":0,\"ticks\":\"\"}}],\"scatter\":[{\"fillpattern\":{\"fillmode\":\"overlay\",\"size\":10,\"solidity\":0.2},\"type\":\"scatter\"}],\"parcoords\":[{\"type\":\"parcoords\",\"line\":{\"colorbar\":{\"outlinewidth\":0,\"ticks\":\"\"}}}],\"scatterpolargl\":[{\"type\":\"scatterpolargl\",\"marker\":{\"colorbar\":{\"outlinewidth\":0,\"ticks\":\"\"}}}],\"bar\":[{\"error_x\":{\"color\":\"#2a3f5f\"},\"error_y\":{\"color\":\"#2a3f5f\"},\"marker\":{\"line\":{\"color\":\"#E5ECF6\",\"width\":0.5},\"pattern\":{\"fillmode\":\"overlay\",\"size\":10,\"solidity\":0.2}},\"type\":\"bar\"}],\"scattergeo\":[{\"type\":\"scattergeo\",\"marker\":{\"colorbar\":{\"outlinewidth\":0,\"ticks\":\"\"}}}],\"scatterpolar\":[{\"type\":\"scatterpolar\",\"marker\":{\"colorbar\":{\"outlinewidth\":0,\"ticks\":\"\"}}}],\"histogram\":[{\"marker\":{\"pattern\":{\"fillmode\":\"overlay\",\"size\":10,\"solidity\":0.2}},\"type\":\"histogram\"}],\"scattergl\":[{\"type\":\"scattergl\",\"marker\":{\"colorbar\":{\"outlinewidth\":0,\"ticks\":\"\"}}}],\"scatter3d\":[{\"type\":\"scatter3d\",\"line\":{\"colorbar\":{\"outlinewidth\":0,\"ticks\":\"\"}},\"marker\":{\"colorbar\":{\"outlinewidth\":0,\"ticks\":\"\"}}}],\"scattermapbox\":[{\"type\":\"scattermapbox\",\"marker\":{\"colorbar\":{\"outlinewidth\":0,\"ticks\":\"\"}}}],\"scatterternary\":[{\"type\":\"scatterternary\",\"marker\":{\"colorbar\":{\"outlinewidth\":0,\"ticks\":\"\"}}}],\"scattercarpet\":[{\"type\":\"scattercarpet\",\"marker\":{\"colorbar\":{\"outlinewidth\":0,\"ticks\":\"\"}}}],\"carpet\":[{\"aaxis\":{\"endlinecolor\":\"#2a3f5f\",\"gridcolor\":\"white\",\"linecolor\":\"white\",\"minorgridcolor\":\"white\",\"startlinecolor\":\"#2a3f5f\"},\"baxis\":{\"endlinecolor\":\"#2a3f5f\",\"gridcolor\":\"white\",\"linecolor\":\"white\",\"minorgridcolor\":\"white\",\"startlinecolor\":\"#2a3f5f\"},\"type\":\"carpet\"}],\"table\":[{\"cells\":{\"fill\":{\"color\":\"#EBF0F8\"},\"line\":{\"color\":\"white\"}},\"header\":{\"fill\":{\"color\":\"#C8D4E3\"},\"line\":{\"color\":\"white\"}},\"type\":\"table\"}],\"barpolar\":[{\"marker\":{\"line\":{\"color\":\"#E5ECF6\",\"width\":0.5},\"pattern\":{\"fillmode\":\"overlay\",\"size\":10,\"solidity\":0.2}},\"type\":\"barpolar\"}],\"pie\":[{\"automargin\":true,\"type\":\"pie\"}]},\"layout\":{\"autotypenumbers\":\"strict\",\"colorway\":[\"#636efa\",\"#EF553B\",\"#00cc96\",\"#ab63fa\",\"#FFA15A\",\"#19d3f3\",\"#FF6692\",\"#B6E880\",\"#FF97FF\",\"#FECB52\"],\"font\":{\"color\":\"#2a3f5f\"},\"hovermode\":\"closest\",\"hoverlabel\":{\"align\":\"left\"},\"paper_bgcolor\":\"white\",\"plot_bgcolor\":\"#E5ECF6\",\"polar\":{\"bgcolor\":\"#E5ECF6\",\"angularaxis\":{\"gridcolor\":\"white\",\"linecolor\":\"white\",\"ticks\":\"\"},\"radialaxis\":{\"gridcolor\":\"white\",\"linecolor\":\"white\",\"ticks\":\"\"}},\"ternary\":{\"bgcolor\":\"#E5ECF6\",\"aaxis\":{\"gridcolor\":\"white\",\"linecolor\":\"white\",\"ticks\":\"\"},\"baxis\":{\"gridcolor\":\"white\",\"linecolor\":\"white\",\"ticks\":\"\"},\"caxis\":{\"gridcolor\":\"white\",\"linecolor\":\"white\",\"ticks\":\"\"}},\"coloraxis\":{\"colorbar\":{\"outlinewidth\":0,\"ticks\":\"\"}},\"colorscale\":{\"sequential\":[[0.0,\"#0d0887\"],[0.1111111111111111,\"#46039f\"],[0.2222222222222222,\"#7201a8\"],[0.3333333333333333,\"#9c179e\"],[0.4444444444444444,\"#bd3786\"],[0.5555555555555556,\"#d8576b\"],[0.6666666666666666,\"#ed7953\"],[0.7777777777777778,\"#fb9f3a\"],[0.8888888888888888,\"#fdca26\"],[1.0,\"#f0f921\"]],\"sequentialminus\":[[0.0,\"#0d0887\"],[0.1111111111111111,\"#46039f\"],[0.2222222222222222,\"#7201a8\"],[0.3333333333333333,\"#9c179e\"],[0.4444444444444444,\"#bd3786\"],[0.5555555555555556,\"#d8576b\"],[0.6666666666666666,\"#ed7953\"],[0.7777777777777778,\"#fb9f3a\"],[0.8888888888888888,\"#fdca26\"],[1.0,\"#f0f921\"]],\"diverging\":[[0,\"#8e0152\"],[0.1,\"#c51b7d\"],[0.2,\"#de77ae\"],[0.3,\"#f1b6da\"],[0.4,\"#fde0ef\"],[0.5,\"#f7f7f7\"],[0.6,\"#e6f5d0\"],[0.7,\"#b8e186\"],[0.8,\"#7fbc41\"],[0.9,\"#4d9221\"],[1,\"#276419\"]]},\"xaxis\":{\"gridcolor\":\"white\",\"linecolor\":\"white\",\"ticks\":\"\",\"title\":{\"standoff\":15},\"zerolinecolor\":\"white\",\"automargin\":true,\"zerolinewidth\":2},\"yaxis\":{\"gridcolor\":\"white\",\"linecolor\":\"white\",\"ticks\":\"\",\"title\":{\"standoff\":15},\"zerolinecolor\":\"white\",\"automargin\":true,\"zerolinewidth\":2},\"scene\":{\"xaxis\":{\"backgroundcolor\":\"#E5ECF6\",\"gridcolor\":\"white\",\"linecolor\":\"white\",\"showbackground\":true,\"ticks\":\"\",\"zerolinecolor\":\"white\",\"gridwidth\":2},\"yaxis\":{\"backgroundcolor\":\"#E5ECF6\",\"gridcolor\":\"white\",\"linecolor\":\"white\",\"showbackground\":true,\"ticks\":\"\",\"zerolinecolor\":\"white\",\"gridwidth\":2},\"zaxis\":{\"backgroundcolor\":\"#E5ECF6\",\"gridcolor\":\"white\",\"linecolor\":\"white\",\"showbackground\":true,\"ticks\":\"\",\"zerolinecolor\":\"white\",\"gridwidth\":2}},\"shapedefaults\":{\"line\":{\"color\":\"#2a3f5f\"}},\"annotationdefaults\":{\"arrowcolor\":\"#2a3f5f\",\"arrowhead\":0,\"arrowwidth\":1},\"geo\":{\"bgcolor\":\"white\",\"landcolor\":\"#E5ECF6\",\"subunitcolor\":\"white\",\"showland\":true,\"showlakes\":true,\"lakecolor\":\"white\"},\"title\":{\"x\":0.05},\"mapbox\":{\"style\":\"light\"}}},\"title\":{\"text\":\"User Actions Funnel by Experiment \",\"x\":0.5}},                        {\"responsive\": true}                    ).then(function(){\n",
       "                            \n",
       "var gd = document.getElementById('392760a8-be2a-404a-8251-5f174de568f1');\n",
       "var x = new MutationObserver(function (mutations, observer) {{\n",
       "        var display = window.getComputedStyle(gd).display;\n",
       "        if (!display || display === 'none') {{\n",
       "            console.log([gd, 'removed!']);\n",
       "            Plotly.purge(gd);\n",
       "            observer.disconnect();\n",
       "        }}\n",
       "}});\n",
       "\n",
       "// Listen for the removal of the full notebook cells\n",
       "var notebookContainer = gd.closest('#notebook-container');\n",
       "if (notebookContainer) {{\n",
       "    x.observe(notebookContainer, {childList: true});\n",
       "}}\n",
       "\n",
       "// Listen for the clearing of the current output cell\n",
       "var outputEl = gd.closest('.output');\n",
       "if (outputEl) {{\n",
       "    x.observe(outputEl, {childList: true});\n",
       "}}\n",
       "\n",
       "                        })                };                });            </script>        </div>"
      ]
     },
     "metadata": {},
     "output_type": "display_data"
    }
   ],
   "source": [
    "\n",
    "figes =  go.Figure(go.Funnel(\n",
    "    name = '246',\n",
    "     y = funnel_groups[funnel_groups['expid']==246]['event_name'],\n",
    "    x = funnel_groups[funnel_groups['expid']==246]['device_id'],\n",
    "    textinfo = \"value+percent initial\"))\n",
    "\n",
    "figes.add_trace(go.Funnel(\n",
    "    name = '247',\n",
    "     y = funnel_groups[funnel_groups['expid']==247]['event_name'],\n",
    "    x = funnel_groups[funnel_groups['expid']==247]['device_id'],\n",
    "    textinfo = \"value+percent initial\"))\n",
    "figes.add_trace(go.Funnel(\n",
    "    name = '248',\n",
    "     y = funnel_groups[funnel_groups['expid']==248]['event_name'],\n",
    "    x = funnel_groups[funnel_groups['expid']==248]['device_id'],\n",
    "    textinfo = \"value+percent initial\"))\n",
    "figes.update_layout(\n",
    "    title=\"User Actions Funnel by Experiment \",title_x=0.5)\n",
    "\n",
    "figes.show()"
   ]
  },
  {
   "cell_type": "markdown",
   "metadata": {},
   "source": [
    "From a first look, it seems that the groups have pretty similar results, bit i will check that with statistical tools later."
   ]
  },
  {
   "cell_type": "markdown",
   "metadata": {},
   "source": [
    "# # The results of the experiment"
   ]
  },
  {
   "cell_type": "code",
   "execution_count": 104,
   "metadata": {},
   "outputs": [
    {
     "data": {
      "text/plain": [
       "expid\n",
       "246    2484\n",
       "247    2513\n",
       "248    2537\n",
       "Name: device_id, dtype: int64"
      ]
     },
     "execution_count": 104,
     "metadata": {},
     "output_type": "execute_result"
    }
   ],
   "source": [
    "#Checking the number of users in each group\n",
    "food.groupby(['expid'])['device_id'].nunique()"
   ]
  },
  {
   "cell_type": "markdown",
   "metadata": {},
   "source": [
    "We have two control groups in the A/A test, where we check our mechanisms and calculations.I want to See if there is a statistically significant difference between samples 246 and 247.\n"
   ]
  },
  {
   "cell_type": "code",
   "execution_count": 105,
   "metadata": {},
   "outputs": [
    {
     "data": {
      "text/html": [
       "<div>\n",
       "<style scoped>\n",
       "    .dataframe tbody tr th:only-of-type {\n",
       "        vertical-align: middle;\n",
       "    }\n",
       "\n",
       "    .dataframe tbody tr th {\n",
       "        vertical-align: top;\n",
       "    }\n",
       "\n",
       "    .dataframe thead th {\n",
       "        text-align: right;\n",
       "    }\n",
       "</style>\n",
       "<table border=\"1\" class=\"dataframe\">\n",
       "  <thead>\n",
       "    <tr style=\"text-align: right;\">\n",
       "      <th></th>\n",
       "      <th>device_id</th>\n",
       "      <th>expid</th>\n",
       "    </tr>\n",
       "  </thead>\n",
       "  <tbody>\n",
       "  </tbody>\n",
       "</table>\n",
       "</div>"
      ],
      "text/plain": [
       "Empty DataFrame\n",
       "Columns: [device_id, expid]\n",
       "Index: []"
      ]
     },
     "execution_count": 105,
     "metadata": {},
     "output_type": "execute_result"
    }
   ],
   "source": [
    "#checking that every user was assigned to only one group\n",
    "food.groupby(['device_id'])['expid'].nunique().reset_index().query('expid > 1') "
   ]
  },
  {
   "cell_type": "markdown",
   "metadata": {},
   "source": [
    "Next, i eant to check that the groups in the A/A test are not statistically significant difference. in order to do that i will perform a z score test of proportions. \n",
    "\n",
    "In order to do that will formulate two hypotheses - A null hypitheses H0, and the alternative hypothesis- H1, and will perform a z scoretest. \n",
    "\n",
    "\n",
    "In order to determine whether to reject the null hypothesis or not\n",
    "We set a threshold for statistical significance - critical statistical significance level alpha, wich will be 0.05.\n",
    "if the p-value is less than alpha, we reject the null hypothesis -H0\n",
    "\n",
    "The hypotheses:\n",
    "\n",
    "H0: The difference between group A and group B is statistically significant.\n",
    "\n",
    "H1: We cant say that the difference between group A and group B is statistically significant\n",
    "\n"
   ]
  },
  {
   "cell_type": "code",
   "execution_count": 106,
   "metadata": {},
   "outputs": [
    {
     "data": {
      "text/html": [
       "<div>\n",
       "<style scoped>\n",
       "    .dataframe tbody tr th:only-of-type {\n",
       "        vertical-align: middle;\n",
       "    }\n",
       "\n",
       "    .dataframe tbody tr th {\n",
       "        vertical-align: top;\n",
       "    }\n",
       "\n",
       "    .dataframe thead th {\n",
       "        text-align: right;\n",
       "    }\n",
       "</style>\n",
       "<table border=\"1\" class=\"dataframe\">\n",
       "  <thead>\n",
       "    <tr style=\"text-align: right;\">\n",
       "      <th>expid</th>\n",
       "      <th>event_name</th>\n",
       "      <th>246</th>\n",
       "      <th>247</th>\n",
       "      <th>248</th>\n",
       "    </tr>\n",
       "  </thead>\n",
       "  <tbody>\n",
       "    <tr>\n",
       "      <th>0</th>\n",
       "      <td>CartScreenAppear</td>\n",
       "      <td>1266</td>\n",
       "      <td>1238</td>\n",
       "      <td>1230</td>\n",
       "    </tr>\n",
       "    <tr>\n",
       "      <th>1</th>\n",
       "      <td>MainScreenAppear</td>\n",
       "      <td>2450</td>\n",
       "      <td>2476</td>\n",
       "      <td>2493</td>\n",
       "    </tr>\n",
       "    <tr>\n",
       "      <th>2</th>\n",
       "      <td>OffersScreenAppear</td>\n",
       "      <td>1542</td>\n",
       "      <td>1520</td>\n",
       "      <td>1531</td>\n",
       "    </tr>\n",
       "    <tr>\n",
       "      <th>3</th>\n",
       "      <td>PaymentScreenSuccessful</td>\n",
       "      <td>1200</td>\n",
       "      <td>1158</td>\n",
       "      <td>1181</td>\n",
       "    </tr>\n",
       "    <tr>\n",
       "      <th>4</th>\n",
       "      <td>Tutorial</td>\n",
       "      <td>278</td>\n",
       "      <td>283</td>\n",
       "      <td>279</td>\n",
       "    </tr>\n",
       "  </tbody>\n",
       "</table>\n",
       "</div>"
      ],
      "text/plain": [
       "expid               event_name   246   247   248\n",
       "0             CartScreenAppear  1266  1238  1230\n",
       "1             MainScreenAppear  2450  2476  2493\n",
       "2           OffersScreenAppear  1542  1520  1531\n",
       "3      PaymentScreenSuccessful  1200  1158  1181\n",
       "4                     Tutorial   278   283   279"
      ]
     },
     "execution_count": 106,
     "metadata": {},
     "output_type": "execute_result"
    }
   ],
   "source": [
    "#creating a pivot table that i waill write a function that will use its data to conduct a z score test\n",
    "pivot = food.pivot_table(index = 'event_name',columns = 'expid',values = 'device_id',aggfunc = 'nunique').reset_index()\n",
    "pivot"
   ]
  },
  {
   "cell_type": "code",
   "execution_count": 107,
   "metadata": {},
   "outputs": [],
   "source": [
    "#creating a function that perforems z score test of proportions for the two groups \n",
    "def check_hyppothesis(group1,group2,event,alpha = 0.05):\n",
    "    \n",
    "    succ1 = pivot[pivot.event_name == event][group1].iloc[0] \n",
    "    succ2 = pivot[pivot.event_name == event][group2].iloc[0]\n",
    "    \n",
    "    trials1 = food[food.expid == group1]['device_id'].nunique() \n",
    "    trials2 = food[food.expid == group2]['device_id'].nunique()\n",
    "    \n",
    "\n",
    "    #proportions to success in the first group\n",
    "    p1 = succ1 / trials1\n",
    "    #proportions to success in the second group\n",
    "    p2 = succ2 / trials2\n",
    "    \n",
    "    p_combined = (succ1 + succ2) / (trials1 + trials2)\n",
    "    \n",
    "    difference = p1 - p2\n",
    "    \n",
    "    z_value = difference / math.sqrt(p_combined * (1 - p_combined) *(1 / trials1 + 1/trials2))\n",
    "                                     \n",
    "    distr =  st.norm(0,1)           \n",
    "    \n",
    "    p_value = (1 - distr.cdf(abs(z_value))) * 2\n",
    "    \n",
    "    print('p_value :', p_value)\n",
    "    \n",
    "    if (p_value < alpha):\n",
    "        \n",
    "    \n",
    "        print(\"Rejecting the null hypothesis for\",event,\"and groups\",group1,group2)\n",
    "    else:\n",
    "        print(\"Failed to reject the null hypothesis for\",event,\"and groups\",group1,group2)"
   ]
  },
  {
   "cell_type": "code",
   "execution_count": 108,
   "metadata": {
    "scrolled": false
   },
   "outputs": [
    {
     "name": "stdout",
     "output_type": "stream",
     "text": [
      "p_value : 0.22883372237997213\n",
      "Failed to reject the null hypothesis for CartScreenAppear and groups 246 247\n"
     ]
    }
   ],
   "source": [
    "#checking the function \n",
    "check_hyppothesis(246,247,'CartScreenAppear',alpha = 0.05)"
   ]
  },
  {
   "cell_type": "code",
   "execution_count": 109,
   "metadata": {},
   "outputs": [
    {
     "name": "stdout",
     "output_type": "stream",
     "text": [
      "p_value : 0.22883372237997213\n",
      "Failed to reject the null hypothesis for CartScreenAppear and groups 246 247\n",
      "---------\n",
      "p_value : 0.7570597232046099\n",
      "Failed to reject the null hypothesis for MainScreenAppear and groups 246 247\n",
      "---------\n",
      "p_value : 0.2480954578522181\n",
      "Failed to reject the null hypothesis for OffersScreenAppear and groups 246 247\n",
      "---------\n",
      "p_value : 0.11456679313141849\n",
      "Failed to reject the null hypothesis for PaymentScreenSuccessful and groups 246 247\n",
      "---------\n",
      "p_value : 0.9376996189257114\n",
      "Failed to reject the null hypothesis for Tutorial and groups 246 247\n",
      "---------\n"
     ]
    }
   ],
   "source": [
    "#Applying the function \n",
    "\n",
    "for i in pivot.event_name.unique():\n",
    "        check_hyppothesis(246,247,i,alpha = 0.05)\n",
    "        print('---------')"
   ]
  },
  {
   "cell_type": "markdown",
   "metadata": {},
   "source": [
    "It seems the A/A test went well. there is not a statistically significant difference between the groups. we are good to go."
   ]
  },
  {
   "cell_type": "markdown",
   "metadata": {},
   "source": [
    "Next, i want to do the same with the test group 248, against each of the groups and combined,"
   ]
  },
  {
   "cell_type": "code",
   "execution_count": 110,
   "metadata": {},
   "outputs": [
    {
     "name": "stdout",
     "output_type": "stream",
     "text": [
      "p_value : 0.5786197879539783\n",
      "Failed to reject the null hypothesis for CartScreenAppear and groups 247 248\n",
      "---------\n",
      "p_value : 0.4587053616621515\n",
      "Failed to reject the null hypothesis for MainScreenAppear and groups 247 248\n",
      "---------\n",
      "p_value : 0.9197817830592261\n",
      "Failed to reject the null hypothesis for OffersScreenAppear and groups 247 248\n",
      "---------\n",
      "p_value : 0.7373415053803964\n",
      "Failed to reject the null hypothesis for PaymentScreenSuccessful and groups 247 248\n",
      "---------\n",
      "p_value : 0.765323922474501\n",
      "Failed to reject the null hypothesis for Tutorial and groups 247 248\n",
      "---------\n"
     ]
    }
   ],
   "source": [
    "for i in pivot.event_name.unique():\n",
    "        check_hyppothesis(247,248,i,alpha = 0.05)\n",
    "        print('---------')"
   ]
  },
  {
   "cell_type": "code",
   "execution_count": 111,
   "metadata": {},
   "outputs": [
    {
     "name": "stdout",
     "output_type": "stream",
     "text": [
      "p_value : 0.07842923237520116\n",
      "Failed to reject the null hypothesis for CartScreenAppear and groups 246 248\n",
      "---------\n",
      "p_value : 0.2949721933554552\n",
      "Failed to reject the null hypothesis for MainScreenAppear and groups 246 248\n",
      "---------\n",
      "p_value : 0.20836205402738917\n",
      "Failed to reject the null hypothesis for OffersScreenAppear and groups 246 248\n",
      "---------\n",
      "p_value : 0.2122553275697796\n",
      "Failed to reject the null hypothesis for PaymentScreenSuccessful and groups 246 248\n",
      "---------\n",
      "p_value : 0.8264294010087645\n",
      "Failed to reject the null hypothesis for Tutorial and groups 246 248\n",
      "---------\n"
     ]
    }
   ],
   "source": [
    " for i in pivot.event_name.unique():\n",
    "        check_hyppothesis(246,248,i,alpha = 0.05)\n",
    "        print('---------')"
   ]
  },
  {
   "cell_type": "code",
   "execution_count": 112,
   "metadata": {},
   "outputs": [],
   "source": [
    "#Modifieng the function so i could also check the combined result of 246 and 247\n",
    "def check_hyppothesis_com(group1,group2,group3,event,alpha = 0.05):\n",
    "    \n",
    "    succ1 = pivot[pivot.event_name ==event][group1].iloc[0] +pivot[pivot.event_name == event][group2].iloc[0]\n",
    "    succ2 = pivot[pivot.event_name == event][group3].iloc[0]\n",
    "    \n",
    "    trials1 = food[food.expid == group1]['device_id'].nunique() + food[food.expid == group2]['device_id'].nunique()\n",
    "    trials2 = food[food.expid == group3]['device_id'].nunique()\n",
    "    \n",
    "\n",
    "    #proportions to success in the first group\n",
    "    p1 = succ1 / trials1\n",
    "    #proportions to success in the second group\n",
    "    p2 = succ2 / trials2\n",
    "    \n",
    "    p_combined = (succ1 + succ2) / (trials1 + trials2)\n",
    "    \n",
    "    difference = p1 - p2\n",
    "    \n",
    "    z_value = difference / math.sqrt(p_combined * (1 - p_combined) *(1 / trials1 + 1/trials2))\n",
    "                                     \n",
    "    distr =  st.norm(0,1)           \n",
    "    \n",
    "    p_value = (1 - distr.cdf(abs(z_value))) * 2\n",
    "    \n",
    "    print('p_value :', p_value)\n",
    "    \n",
    "    if (p_value < alpha):\n",
    "        \n",
    "    \n",
    "        print(\"Rejecting the null hypothesis for\",event,\"and groups\",group1,group2)\n",
    "    else:\n",
    "        print(\"Failed to reject the null hypothesis for\",event,\"and groups\",group1,group2)"
   ]
  },
  {
   "cell_type": "code",
   "execution_count": 113,
   "metadata": {
    "scrolled": true
   },
   "outputs": [
    {
     "name": "stdout",
     "output_type": "stream",
     "text": [
      "p_value : 0.18175875284404386\n",
      "Failed to reject the null hypothesis for CartScreenAppear and groups 246 247\n",
      "---------\n",
      "p_value : 0.29424526837179577\n",
      "Failed to reject the null hypothesis for MainScreenAppear and groups 246 247\n",
      "---------\n",
      "p_value : 0.43425549655188256\n",
      "Failed to reject the null hypothesis for OffersScreenAppear and groups 246 247\n",
      "---------\n",
      "p_value : 0.6004294282308704\n",
      "Failed to reject the null hypothesis for PaymentScreenSuccessful and groups 246 247\n",
      "---------\n",
      "p_value : 0.764862472531507\n",
      "Failed to reject the null hypothesis for Tutorial and groups 246 247\n",
      "---------\n"
     ]
    }
   ],
   "source": [
    " for i in pivot.event_name.unique():\n",
    "        check_hyppothesis_com(246,247,248,i,alpha = 0.05)\n",
    "        print('---------')"
   ]
  },
  {
   "cell_type": "markdown",
   "metadata": {},
   "source": [
    "It seems that there is not a statistically significant difference between the groups, but i want to be sure that is not because i set the threshhold too high. I will use the Bonferroni correction to adjust alpha and conduct the tests again. "
   ]
  },
  {
   "cell_type": "code",
   "execution_count": 114,
   "metadata": {},
   "outputs": [
    {
     "data": {
      "text/plain": [
       "0.003125"
      ]
     },
     "execution_count": 114,
     "metadata": {},
     "output_type": "execute_result"
    }
   ],
   "source": [
    "\n",
    "#dividing alpha by the number of tests i will conduct - 16 \n",
    "alpha = 0.05/16\n",
    "alpha    "
   ]
  },
  {
   "cell_type": "code",
   "execution_count": 115,
   "metadata": {},
   "outputs": [
    {
     "name": "stdout",
     "output_type": "stream",
     "text": [
      "p_value : 0.5786197879539783\n",
      "Failed to reject the null hypothesis for CartScreenAppear and groups 247 248\n",
      "---------\n",
      "p_value : 0.4587053616621515\n",
      "Failed to reject the null hypothesis for MainScreenAppear and groups 247 248\n",
      "---------\n",
      "p_value : 0.9197817830592261\n",
      "Failed to reject the null hypothesis for OffersScreenAppear and groups 247 248\n",
      "---------\n",
      "p_value : 0.7373415053803964\n",
      "Failed to reject the null hypothesis for PaymentScreenSuccessful and groups 247 248\n",
      "---------\n",
      "p_value : 0.765323922474501\n",
      "Failed to reject the null hypothesis for Tutorial and groups 247 248\n",
      "---------\n"
     ]
    }
   ],
   "source": [
    " for i in pivot.event_name.unique():\n",
    "        check_hyppothesis(247,248,i,alpha = 0.05)\n",
    "        print('---------')"
   ]
  },
  {
   "cell_type": "code",
   "execution_count": null,
   "metadata": {},
   "outputs": [],
   "source": []
  },
  {
   "cell_type": "code",
   "execution_count": 116,
   "metadata": {},
   "outputs": [
    {
     "name": "stdout",
     "output_type": "stream",
     "text": [
      "p_value : 0.07842923237520116\n",
      "Failed to reject the null hypothesis for CartScreenAppear and groups 246 248\n",
      "---------\n",
      "p_value : 0.2949721933554552\n",
      "Failed to reject the null hypothesis for MainScreenAppear and groups 246 248\n",
      "---------\n",
      "p_value : 0.20836205402738917\n",
      "Failed to reject the null hypothesis for OffersScreenAppear and groups 246 248\n",
      "---------\n",
      "p_value : 0.2122553275697796\n",
      "Failed to reject the null hypothesis for PaymentScreenSuccessful and groups 246 248\n",
      "---------\n",
      "p_value : 0.8264294010087645\n",
      "Failed to reject the null hypothesis for Tutorial and groups 246 248\n",
      "---------\n"
     ]
    }
   ],
   "source": [
    " for i in pivot.event_name.unique():\n",
    "        check_hyppothesis(246,248,i,alpha = 0.05)\n",
    "        print('---------')"
   ]
  },
  {
   "cell_type": "code",
   "execution_count": 117,
   "metadata": {},
   "outputs": [
    {
     "name": "stdout",
     "output_type": "stream",
     "text": [
      "p_value : 0.18175875284404386\n",
      "Failed to reject the null hypothesis for CartScreenAppear and groups 246 247\n",
      "---------\n",
      "p_value : 0.29424526837179577\n",
      "Failed to reject the null hypothesis for MainScreenAppear and groups 246 247\n",
      "---------\n",
      "p_value : 0.43425549655188256\n",
      "Failed to reject the null hypothesis for OffersScreenAppear and groups 246 247\n",
      "---------\n",
      "p_value : 0.6004294282308704\n",
      "Failed to reject the null hypothesis for PaymentScreenSuccessful and groups 246 247\n",
      "---------\n",
      "p_value : 0.764862472531507\n",
      "Failed to reject the null hypothesis for Tutorial and groups 246 247\n",
      "---------\n"
     ]
    }
   ],
   "source": [
    " for i in pivot.event_name.unique():\n",
    "        check_hyppothesis_com(246,247,248,i,alpha = 0.05)\n",
    "        print('---------')"
   ]
  },
  {
   "cell_type": "markdown",
   "metadata": {},
   "source": [
    "## Conclusion"
   ]
  },
  {
   "cell_type": "markdown",
   "metadata": {},
   "source": [
    "In this project about a food company app's users behaviour , I have exmined the data and reached the next conclusions:\n",
    "\n",
    "1. The stage where we loose most users is stage 2 - OffersScreenAppear with 38.9% of the users not Proceding to the next stage.\n",
    "- I would reccomend to check what can be improved on the previous stage, wich is the MainScreenApear, in order to get more users to get to the next stage. \n",
    "2. 3539 users, wich are 47.7% of the initial users and 94.8% of the previous stage users get to the PaymentScreenSuccessful stage.\n",
    "\n",
    "\n",
    "3. There is not a statistically significant difference between the groups of the tests. The designers can change the fonts in the app without being afraid  it will affect the users actions (based on the A/A/B test we just conducted and analysed)."
   ]
  }
 ],
 "metadata": {
  "ExecuteTimeLog": [
   {
    "duration": 10387,
    "start_time": "2022-05-04T08:58:41.720Z"
   },
   {
    "duration": 341,
    "start_time": "2022-05-04T08:58:52.111Z"
   },
   {
    "duration": 363,
    "start_time": "2022-05-04T08:58:58.356Z"
   },
   {
    "duration": 105,
    "start_time": "2022-05-04T08:59:14.061Z"
   },
   {
    "duration": 358,
    "start_time": "2022-05-04T09:00:30.625Z"
   },
   {
    "duration": 100,
    "start_time": "2022-05-04T09:00:35.895Z"
   },
   {
    "duration": 349,
    "start_time": "2022-05-04T09:00:50.317Z"
   },
   {
    "duration": 109,
    "start_time": "2022-05-04T09:00:58.795Z"
   },
   {
    "duration": 359,
    "start_time": "2022-05-04T09:01:05.927Z"
   },
   {
    "duration": 99,
    "start_time": "2022-05-04T09:01:10.907Z"
   },
   {
    "duration": 166,
    "start_time": "2022-05-04T09:01:14.496Z"
   },
   {
    "duration": 875,
    "start_time": "2022-05-04T09:01:37.303Z"
   },
   {
    "duration": 931,
    "start_time": "2022-05-04T09:03:13.557Z"
   },
   {
    "duration": 988,
    "start_time": "2022-05-04T09:03:17.475Z"
   },
   {
    "duration": 877,
    "start_time": "2022-05-04T09:03:27.667Z"
   },
   {
    "duration": 201,
    "start_time": "2022-05-04T09:03:38.625Z"
   },
   {
    "duration": 27,
    "start_time": "2022-05-04T09:03:47.107Z"
   },
   {
    "duration": 4,
    "start_time": "2022-05-04T09:04:41.200Z"
   },
   {
    "duration": 13,
    "start_time": "2022-05-04T09:04:44.678Z"
   },
   {
    "duration": 4,
    "start_time": "2022-05-04T09:06:06.767Z"
   },
   {
    "duration": 11,
    "start_time": "2022-05-04T09:06:11.931Z"
   },
   {
    "duration": 223,
    "start_time": "2022-05-04T09:08:28.841Z"
   },
   {
    "duration": 11,
    "start_time": "2022-05-04T09:10:58.161Z"
   },
   {
    "duration": 23,
    "start_time": "2022-05-04T09:11:03.968Z"
   },
   {
    "duration": 45,
    "start_time": "2022-05-04T09:13:37.394Z"
   },
   {
    "duration": 43,
    "start_time": "2022-05-04T09:14:05.363Z"
   },
   {
    "duration": 39,
    "start_time": "2022-05-04T09:14:12.964Z"
   },
   {
    "duration": 68,
    "start_time": "2022-05-04T09:14:46.427Z"
   },
   {
    "duration": 79,
    "start_time": "2022-05-04T09:14:55.047Z"
   },
   {
    "duration": 52,
    "start_time": "2022-05-04T09:15:02.925Z"
   },
   {
    "duration": 47,
    "start_time": "2022-05-04T09:15:05.497Z"
   },
   {
    "duration": 38,
    "start_time": "2022-05-04T09:15:41.726Z"
   },
   {
    "duration": 185,
    "start_time": "2022-05-04T09:15:47.813Z"
   },
   {
    "duration": 27243,
    "start_time": "2022-05-04T23:21:28.102Z"
   },
   {
    "duration": 156,
    "start_time": "2022-05-04T23:21:55.347Z"
   },
   {
    "duration": 21,
    "start_time": "2022-05-04T23:21:55.504Z"
   },
   {
    "duration": 65,
    "start_time": "2022-05-04T23:21:55.528Z"
   },
   {
    "duration": 0,
    "start_time": "2022-05-04T23:21:55.595Z"
   },
   {
    "duration": 0,
    "start_time": "2022-05-04T23:21:55.596Z"
   },
   {
    "duration": 3,
    "start_time": "2022-05-04T23:22:11.106Z"
   },
   {
    "duration": 8,
    "start_time": "2022-05-04T23:22:11.864Z"
   },
   {
    "duration": 8,
    "start_time": "2022-05-04T23:22:12.221Z"
   },
   {
    "duration": 18,
    "start_time": "2022-05-04T23:22:14.609Z"
   },
   {
    "duration": 22,
    "start_time": "2022-05-04T23:22:24.643Z"
   },
   {
    "duration": 8028,
    "start_time": "2022-05-06T09:05:35.659Z"
   },
   {
    "duration": 170,
    "start_time": "2022-05-06T09:05:43.691Z"
   },
   {
    "duration": 21,
    "start_time": "2022-05-06T09:05:43.864Z"
   },
   {
    "duration": 8,
    "start_time": "2022-05-06T09:05:43.887Z"
   },
   {
    "duration": 33,
    "start_time": "2022-05-06T09:05:43.897Z"
   },
   {
    "duration": 32,
    "start_time": "2022-05-06T09:05:43.932Z"
   },
   {
    "duration": 38,
    "start_time": "2022-05-06T09:05:43.966Z"
   },
   {
    "duration": 160,
    "start_time": "2022-05-06T09:07:26.302Z"
   },
   {
    "duration": 12,
    "start_time": "2022-05-06T09:07:30.849Z"
   },
   {
    "duration": 13,
    "start_time": "2022-05-06T09:07:36.746Z"
   },
   {
    "duration": 14,
    "start_time": "2022-05-06T09:07:43.701Z"
   },
   {
    "duration": 11,
    "start_time": "2022-05-06T09:07:46.959Z"
   },
   {
    "duration": 88,
    "start_time": "2022-05-06T09:08:30.004Z"
   },
   {
    "duration": 10,
    "start_time": "2022-05-06T09:08:38.894Z"
   },
   {
    "duration": 159,
    "start_time": "2022-05-06T09:10:01.394Z"
   },
   {
    "duration": 91,
    "start_time": "2022-05-06T09:11:41.712Z"
   },
   {
    "duration": 100,
    "start_time": "2022-05-06T09:12:06.516Z"
   },
   {
    "duration": 61,
    "start_time": "2022-05-06T09:14:03.510Z"
   },
   {
    "duration": 12,
    "start_time": "2022-05-06T09:14:44.446Z"
   },
   {
    "duration": 87,
    "start_time": "2022-05-06T09:16:28.818Z"
   },
   {
    "duration": 10,
    "start_time": "2022-05-06T09:19:53.646Z"
   },
   {
    "duration": 55,
    "start_time": "2022-05-06T09:20:05.260Z"
   },
   {
    "duration": 73,
    "start_time": "2022-05-06T09:24:20.195Z"
   },
   {
    "duration": 85,
    "start_time": "2022-05-06T09:25:59.230Z"
   },
   {
    "duration": 4,
    "start_time": "2022-05-06T09:26:37.629Z"
   },
   {
    "duration": 182,
    "start_time": "2022-05-06T09:27:16.530Z"
   },
   {
    "duration": 3,
    "start_time": "2022-05-06T09:27:21.114Z"
   },
   {
    "duration": 10,
    "start_time": "2022-05-06T09:27:52.115Z"
   },
   {
    "duration": 10,
    "start_time": "2022-05-06T09:28:54.632Z"
   },
   {
    "duration": 16,
    "start_time": "2022-05-06T09:43:02.733Z"
   },
   {
    "duration": 17,
    "start_time": "2022-05-06T09:43:08.350Z"
   },
   {
    "duration": 122,
    "start_time": "2022-05-06T09:43:35.787Z"
   },
   {
    "duration": 43,
    "start_time": "2022-05-06T09:48:04.644Z"
   },
   {
    "duration": 43,
    "start_time": "2022-05-06T09:48:42.672Z"
   },
   {
    "duration": 45,
    "start_time": "2022-05-06T09:48:52.379Z"
   },
   {
    "duration": 42,
    "start_time": "2022-05-06T09:49:15.646Z"
   },
   {
    "duration": 491,
    "start_time": "2022-05-06T09:56:04.974Z"
   },
   {
    "duration": 4686,
    "start_time": "2022-05-06T09:56:24.253Z"
   },
   {
    "duration": 188,
    "start_time": "2022-05-06T09:56:28.942Z"
   },
   {
    "duration": 33,
    "start_time": "2022-05-06T09:56:29.132Z"
   },
   {
    "duration": 4,
    "start_time": "2022-05-06T09:56:29.166Z"
   },
   {
    "duration": 14,
    "start_time": "2022-05-06T09:56:29.173Z"
   },
   {
    "duration": 56,
    "start_time": "2022-05-06T09:56:29.188Z"
   },
   {
    "duration": 76,
    "start_time": "2022-05-06T09:56:29.246Z"
   },
   {
    "duration": 114,
    "start_time": "2022-05-06T09:56:29.325Z"
   },
   {
    "duration": 363,
    "start_time": "2022-05-06T09:56:29.441Z"
   },
   {
    "duration": 3,
    "start_time": "2022-05-06T09:56:29.806Z"
   },
   {
    "duration": 47,
    "start_time": "2022-05-06T09:56:29.811Z"
   },
   {
    "duration": 104,
    "start_time": "2022-05-06T09:56:29.860Z"
   },
   {
    "duration": 10,
    "start_time": "2022-05-06T09:56:29.966Z"
   },
   {
    "duration": 5,
    "start_time": "2022-05-06T09:56:29.979Z"
   },
   {
    "duration": 49,
    "start_time": "2022-05-06T09:56:29.986Z"
   },
   {
    "duration": 20,
    "start_time": "2022-05-06T09:56:30.040Z"
   },
   {
    "duration": 136,
    "start_time": "2022-05-06T09:56:30.063Z"
   },
   {
    "duration": 59,
    "start_time": "2022-05-06T09:56:30.201Z"
   },
   {
    "duration": 188,
    "start_time": "2022-05-06T09:58:22.413Z"
   },
   {
    "duration": 33,
    "start_time": "2022-05-06T09:58:26.222Z"
   },
   {
    "duration": 93,
    "start_time": "2022-05-06T09:58:43.095Z"
   },
   {
    "duration": 107,
    "start_time": "2022-05-06T09:59:16.399Z"
   },
   {
    "duration": 96,
    "start_time": "2022-05-06T10:00:53.251Z"
   },
   {
    "duration": 25,
    "start_time": "2022-05-06T10:00:57.201Z"
   },
   {
    "duration": 83,
    "start_time": "2022-05-06T10:00:57.429Z"
   },
   {
    "duration": 10,
    "start_time": "2022-05-06T10:00:57.602Z"
   },
   {
    "duration": 3,
    "start_time": "2022-05-06T10:00:57.779Z"
   },
   {
    "duration": 9,
    "start_time": "2022-05-06T10:00:57.940Z"
   },
   {
    "duration": 7,
    "start_time": "2022-05-06T10:00:58.103Z"
   },
   {
    "duration": 149,
    "start_time": "2022-05-06T10:00:58.434Z"
   },
   {
    "duration": 52,
    "start_time": "2022-05-06T10:00:58.597Z"
   },
   {
    "duration": 36,
    "start_time": "2022-05-06T10:04:52.758Z"
   },
   {
    "duration": 42,
    "start_time": "2022-05-06T10:05:04.134Z"
   },
   {
    "duration": 84,
    "start_time": "2022-05-06T10:08:20.513Z"
   },
   {
    "duration": 63,
    "start_time": "2022-05-06T10:08:42.787Z"
   },
   {
    "duration": 3439,
    "start_time": "2022-05-06T10:22:53.123Z"
   },
   {
    "duration": 6907,
    "start_time": "2022-05-06T10:23:00.414Z"
   },
   {
    "duration": 186,
    "start_time": "2022-05-06T10:25:22.047Z"
   },
   {
    "duration": 115,
    "start_time": "2022-05-06T10:25:30.570Z"
   },
   {
    "duration": 101,
    "start_time": "2022-05-06T10:26:26.394Z"
   },
   {
    "duration": 87,
    "start_time": "2022-05-06T10:26:33.830Z"
   },
   {
    "duration": 102,
    "start_time": "2022-05-06T10:26:38.348Z"
   },
   {
    "duration": 4,
    "start_time": "2022-05-06T10:27:57.510Z"
   },
   {
    "duration": 42,
    "start_time": "2022-05-06T10:28:09.820Z"
   },
   {
    "duration": 39,
    "start_time": "2022-05-06T10:28:40.959Z"
   },
   {
    "duration": 23,
    "start_time": "2022-05-06T10:28:46.260Z"
   },
   {
    "duration": 173,
    "start_time": "2022-05-06T10:29:15.438Z"
   },
   {
    "duration": 33,
    "start_time": "2022-05-06T10:29:23.018Z"
   },
   {
    "duration": 10,
    "start_time": "2022-05-06T10:29:30.063Z"
   },
   {
    "duration": 7496,
    "start_time": "2022-05-06T10:29:37.982Z"
   },
   {
    "duration": 82,
    "start_time": "2022-05-06T11:12:10.713Z"
   },
   {
    "duration": 27,
    "start_time": "2022-05-06T11:12:51.123Z"
   },
   {
    "duration": 28,
    "start_time": "2022-05-06T11:13:00.884Z"
   },
   {
    "duration": 57,
    "start_time": "2022-05-06T11:15:03.943Z"
   },
   {
    "duration": 27,
    "start_time": "2022-05-06T11:17:30.926Z"
   },
   {
    "duration": 57,
    "start_time": "2022-05-06T11:18:20.408Z"
   },
   {
    "duration": 67,
    "start_time": "2022-05-06T11:18:28.382Z"
   },
   {
    "duration": 55,
    "start_time": "2022-05-06T11:18:33.184Z"
   },
   {
    "duration": 120,
    "start_time": "2022-05-06T11:24:51.091Z"
   },
   {
    "duration": 127,
    "start_time": "2022-05-06T11:24:59.934Z"
   },
   {
    "duration": 13,
    "start_time": "2022-05-06T11:25:46.102Z"
   },
   {
    "duration": 11,
    "start_time": "2022-05-06T11:26:13.527Z"
   },
   {
    "duration": 12,
    "start_time": "2022-05-06T11:26:19.070Z"
   },
   {
    "duration": 115,
    "start_time": "2022-05-06T11:26:21.527Z"
   },
   {
    "duration": 14,
    "start_time": "2022-05-06T11:26:26.538Z"
   },
   {
    "duration": 118,
    "start_time": "2022-05-06T11:26:41.036Z"
   },
   {
    "duration": 15,
    "start_time": "2022-05-06T11:26:41.567Z"
   },
   {
    "duration": 11,
    "start_time": "2022-05-06T11:26:47.326Z"
   },
   {
    "duration": 114,
    "start_time": "2022-05-06T11:26:54.520Z"
   },
   {
    "duration": 16,
    "start_time": "2022-05-06T11:26:58.214Z"
   },
   {
    "duration": 3,
    "start_time": "2022-05-06T11:29:52.841Z"
   },
   {
    "duration": 21,
    "start_time": "2022-05-06T11:30:04.854Z"
   },
   {
    "duration": 4,
    "start_time": "2022-05-06T11:30:11.054Z"
   },
   {
    "duration": 10,
    "start_time": "2022-05-06T11:30:12.754Z"
   },
   {
    "duration": 7,
    "start_time": "2022-05-06T11:30:24.896Z"
   },
   {
    "duration": 8,
    "start_time": "2022-05-06T11:30:33.507Z"
   },
   {
    "duration": 122,
    "start_time": "2022-05-06T11:30:37.390Z"
   },
   {
    "duration": 13,
    "start_time": "2022-05-06T11:30:41.629Z"
   },
   {
    "duration": 8,
    "start_time": "2022-05-06T11:30:45.145Z"
   },
   {
    "duration": 65,
    "start_time": "2022-05-06T11:33:51.889Z"
   },
   {
    "duration": 62,
    "start_time": "2022-05-06T11:34:03.868Z"
   },
   {
    "duration": 72,
    "start_time": "2022-05-06T11:34:27.499Z"
   },
   {
    "duration": 59,
    "start_time": "2022-05-06T11:35:09.169Z"
   },
   {
    "duration": 13,
    "start_time": "2022-05-06T11:36:49.782Z"
   },
   {
    "duration": 9,
    "start_time": "2022-05-06T11:37:07.475Z"
   },
   {
    "duration": 70,
    "start_time": "2022-05-06T11:37:48.348Z"
   },
   {
    "duration": 52,
    "start_time": "2022-05-06T11:37:58.002Z"
   },
   {
    "duration": 56,
    "start_time": "2022-05-06T11:38:07.819Z"
   },
   {
    "duration": 2734,
    "start_time": "2022-05-06T11:38:13.877Z"
   },
   {
    "duration": 57,
    "start_time": "2022-05-06T11:38:32.973Z"
   },
   {
    "duration": 9,
    "start_time": "2022-05-06T11:38:36.819Z"
   },
   {
    "duration": 11,
    "start_time": "2022-05-06T11:40:00.747Z"
   },
   {
    "duration": 14,
    "start_time": "2022-05-06T11:43:44.779Z"
   },
   {
    "duration": 16117,
    "start_time": "2022-05-06T11:43:49.347Z"
   },
   {
    "duration": 15,
    "start_time": "2022-05-06T11:44:56.005Z"
   },
   {
    "duration": 975,
    "start_time": "2022-05-06T11:45:32.318Z"
   },
   {
    "duration": 176,
    "start_time": "2022-05-06T11:54:46.021Z"
   },
   {
    "duration": 37,
    "start_time": "2022-05-06T11:54:50.914Z"
   },
   {
    "duration": 43,
    "start_time": "2022-05-06T11:55:15.906Z"
   },
   {
    "duration": 86,
    "start_time": "2022-05-06T11:55:49.253Z"
   },
   {
    "duration": 85,
    "start_time": "2022-05-06T11:56:33.148Z"
   },
   {
    "duration": 13,
    "start_time": "2022-05-06T11:57:35.824Z"
   },
   {
    "duration": 8,
    "start_time": "2022-05-06T11:57:41.237Z"
   },
   {
    "duration": 66,
    "start_time": "2022-05-06T11:59:25.382Z"
   },
   {
    "duration": 22,
    "start_time": "2022-05-06T12:01:45.949Z"
   },
   {
    "duration": 9,
    "start_time": "2022-05-06T12:02:42.520Z"
   },
   {
    "duration": 18,
    "start_time": "2022-05-06T12:03:14.360Z"
   },
   {
    "duration": 12846,
    "start_time": "2022-05-06T15:00:30.250Z"
   },
   {
    "duration": 408,
    "start_time": "2022-05-06T15:00:43.099Z"
   },
   {
    "duration": 32,
    "start_time": "2022-05-06T15:00:43.509Z"
   },
   {
    "duration": 5,
    "start_time": "2022-05-06T15:00:43.544Z"
   },
   {
    "duration": 33,
    "start_time": "2022-05-06T15:00:43.551Z"
   },
   {
    "duration": 18,
    "start_time": "2022-05-06T15:00:43.586Z"
   },
   {
    "duration": 146,
    "start_time": "2022-05-06T15:00:43.606Z"
   },
   {
    "duration": 143,
    "start_time": "2022-05-06T15:00:43.754Z"
   },
   {
    "duration": 474,
    "start_time": "2022-05-06T15:00:43.900Z"
   },
   {
    "duration": 319,
    "start_time": "2022-05-06T15:00:44.379Z"
   },
   {
    "duration": 0,
    "start_time": "2022-05-06T15:00:44.701Z"
   },
   {
    "duration": 0,
    "start_time": "2022-05-06T15:00:44.703Z"
   },
   {
    "duration": 0,
    "start_time": "2022-05-06T15:00:44.706Z"
   },
   {
    "duration": 0,
    "start_time": "2022-05-06T15:00:44.708Z"
   },
   {
    "duration": 0,
    "start_time": "2022-05-06T15:00:44.710Z"
   },
   {
    "duration": 0,
    "start_time": "2022-05-06T15:00:44.724Z"
   },
   {
    "duration": 1,
    "start_time": "2022-05-06T15:00:44.726Z"
   },
   {
    "duration": 0,
    "start_time": "2022-05-06T15:00:44.731Z"
   },
   {
    "duration": 0,
    "start_time": "2022-05-06T15:00:44.732Z"
   },
   {
    "duration": 0,
    "start_time": "2022-05-06T15:00:44.736Z"
   },
   {
    "duration": 0,
    "start_time": "2022-05-06T15:00:44.738Z"
   },
   {
    "duration": 0,
    "start_time": "2022-05-06T15:00:44.741Z"
   },
   {
    "duration": 0,
    "start_time": "2022-05-06T15:00:44.743Z"
   },
   {
    "duration": 0,
    "start_time": "2022-05-06T15:00:44.745Z"
   },
   {
    "duration": 0,
    "start_time": "2022-05-06T15:00:44.747Z"
   },
   {
    "duration": 0,
    "start_time": "2022-05-06T15:00:44.749Z"
   },
   {
    "duration": 0,
    "start_time": "2022-05-06T15:00:44.752Z"
   },
   {
    "duration": 0,
    "start_time": "2022-05-06T15:00:44.754Z"
   },
   {
    "duration": 0,
    "start_time": "2022-05-06T15:00:44.756Z"
   },
   {
    "duration": 0,
    "start_time": "2022-05-06T15:00:44.758Z"
   },
   {
    "duration": 0,
    "start_time": "2022-05-06T15:00:44.760Z"
   },
   {
    "duration": 0,
    "start_time": "2022-05-06T15:00:44.762Z"
   },
   {
    "duration": 0,
    "start_time": "2022-05-06T15:00:44.765Z"
   },
   {
    "duration": 0,
    "start_time": "2022-05-06T15:00:44.825Z"
   },
   {
    "duration": 0,
    "start_time": "2022-05-06T15:00:44.827Z"
   },
   {
    "duration": 0,
    "start_time": "2022-05-06T15:00:44.831Z"
   },
   {
    "duration": 0,
    "start_time": "2022-05-06T15:00:44.832Z"
   },
   {
    "duration": 0,
    "start_time": "2022-05-06T15:00:44.833Z"
   },
   {
    "duration": 0,
    "start_time": "2022-05-06T15:00:44.834Z"
   },
   {
    "duration": 0,
    "start_time": "2022-05-06T15:00:44.841Z"
   },
   {
    "duration": 0,
    "start_time": "2022-05-06T15:00:44.843Z"
   },
   {
    "duration": 0,
    "start_time": "2022-05-06T15:00:44.844Z"
   },
   {
    "duration": 32,
    "start_time": "2022-05-06T15:02:36.501Z"
   },
   {
    "duration": 105,
    "start_time": "2022-05-06T15:02:38.874Z"
   },
   {
    "duration": 100,
    "start_time": "2022-05-06T15:02:41.150Z"
   },
   {
    "duration": 30,
    "start_time": "2022-05-06T15:02:41.398Z"
   },
   {
    "duration": 113,
    "start_time": "2022-05-06T15:02:41.575Z"
   },
   {
    "duration": 13,
    "start_time": "2022-05-06T15:02:41.745Z"
   },
   {
    "duration": 27,
    "start_time": "2022-05-06T15:02:41.931Z"
   },
   {
    "duration": 31,
    "start_time": "2022-05-06T15:02:42.123Z"
   },
   {
    "duration": 89,
    "start_time": "2022-05-06T15:02:42.247Z"
   },
   {
    "duration": 78,
    "start_time": "2022-05-06T15:02:42.437Z"
   },
   {
    "duration": 9,
    "start_time": "2022-05-06T15:02:42.624Z"
   },
   {
    "duration": 11,
    "start_time": "2022-05-06T15:02:42.787Z"
   },
   {
    "duration": 10,
    "start_time": "2022-05-06T15:02:42.970Z"
   },
   {
    "duration": 154,
    "start_time": "2022-05-06T15:02:43.335Z"
   },
   {
    "duration": 52,
    "start_time": "2022-05-06T15:02:43.531Z"
   },
   {
    "duration": 10834,
    "start_time": "2022-05-06T15:02:43.719Z"
   },
   {
    "duration": 77,
    "start_time": "2022-05-06T15:02:54.556Z"
   },
   {
    "duration": 22,
    "start_time": "2022-05-06T15:02:54.635Z"
   },
   {
    "duration": 12428,
    "start_time": "2022-05-06T15:02:54.662Z"
   },
   {
    "duration": 72,
    "start_time": "2022-05-06T15:03:07.092Z"
   },
   {
    "duration": 188,
    "start_time": "2022-05-06T15:03:07.166Z"
   },
   {
    "duration": 192,
    "start_time": "2022-05-06T15:03:07.356Z"
   },
   {
    "duration": 418,
    "start_time": "2022-05-06T15:03:07.550Z"
   },
   {
    "duration": 20,
    "start_time": "2022-05-06T15:03:07.971Z"
   },
   {
    "duration": 30,
    "start_time": "2022-05-06T15:03:07.995Z"
   },
   {
    "duration": 18,
    "start_time": "2022-05-06T15:03:08.028Z"
   },
   {
    "duration": 25335,
    "start_time": "2022-05-06T15:03:08.048Z"
   },
   {
    "duration": 25,
    "start_time": "2022-05-06T15:03:33.386Z"
   },
   {
    "duration": 680,
    "start_time": "2022-05-06T15:03:33.433Z"
   },
   {
    "duration": 17,
    "start_time": "2022-05-06T15:03:34.116Z"
   },
   {
    "duration": 140,
    "start_time": "2022-05-06T15:03:34.135Z"
   },
   {
    "duration": 13,
    "start_time": "2022-05-06T15:03:34.277Z"
   },
   {
    "duration": 52,
    "start_time": "2022-05-06T15:03:34.292Z"
   },
   {
    "duration": 104,
    "start_time": "2022-05-06T15:03:34.346Z"
   },
   {
    "duration": 39,
    "start_time": "2022-05-06T15:03:34.452Z"
   },
   {
    "duration": 53,
    "start_time": "2022-05-06T15:05:56.982Z"
   },
   {
    "duration": 35,
    "start_time": "2022-05-06T15:11:04.865Z"
   },
   {
    "duration": 103,
    "start_time": "2022-05-06T15:11:15.688Z"
   },
   {
    "duration": 106,
    "start_time": "2022-05-06T15:11:26.546Z"
   },
   {
    "duration": 128,
    "start_time": "2022-05-06T15:21:26.541Z"
   },
   {
    "duration": 125,
    "start_time": "2022-05-06T15:22:29.638Z"
   },
   {
    "duration": 9,
    "start_time": "2022-05-06T15:22:34.581Z"
   },
   {
    "duration": 24,
    "start_time": "2022-05-06T15:23:19.644Z"
   },
   {
    "duration": 101,
    "start_time": "2022-05-06T15:25:55.663Z"
   },
   {
    "duration": 10,
    "start_time": "2022-05-06T15:26:29.671Z"
   },
   {
    "duration": 10,
    "start_time": "2022-05-06T15:26:33.619Z"
   },
   {
    "duration": 25,
    "start_time": "2022-05-06T15:26:34.344Z"
   },
   {
    "duration": 133,
    "start_time": "2022-05-06T15:26:34.933Z"
   },
   {
    "duration": 103,
    "start_time": "2022-05-06T15:27:08.340Z"
   },
   {
    "duration": 106,
    "start_time": "2022-05-06T15:27:36.335Z"
   },
   {
    "duration": 105,
    "start_time": "2022-05-06T15:27:44.380Z"
   },
   {
    "duration": 144,
    "start_time": "2022-05-06T15:32:54.714Z"
   },
   {
    "duration": 127,
    "start_time": "2022-05-06T15:33:07.525Z"
   },
   {
    "duration": 13,
    "start_time": "2022-05-06T15:35:23.411Z"
   },
   {
    "duration": 146,
    "start_time": "2022-05-06T15:35:40.646Z"
   },
   {
    "duration": 4,
    "start_time": "2022-05-06T15:41:49.323Z"
   },
   {
    "duration": 5,
    "start_time": "2022-05-06T15:41:56.038Z"
   },
   {
    "duration": 9064,
    "start_time": "2022-05-07T12:28:29.331Z"
   },
   {
    "duration": 156,
    "start_time": "2022-05-07T12:28:38.397Z"
   },
   {
    "duration": 23,
    "start_time": "2022-05-07T12:28:38.555Z"
   },
   {
    "duration": 3,
    "start_time": "2022-05-07T12:28:38.580Z"
   },
   {
    "duration": 9,
    "start_time": "2022-05-07T12:28:38.584Z"
   },
   {
    "duration": 8,
    "start_time": "2022-05-07T12:28:38.594Z"
   },
   {
    "duration": 88,
    "start_time": "2022-05-07T12:28:38.604Z"
   },
   {
    "duration": 76,
    "start_time": "2022-05-07T12:28:38.694Z"
   },
   {
    "duration": 285,
    "start_time": "2022-05-07T12:28:38.772Z"
   },
   {
    "duration": 203,
    "start_time": "2022-05-07T12:28:39.060Z"
   },
   {
    "duration": 0,
    "start_time": "2022-05-07T12:28:39.264Z"
   },
   {
    "duration": 0,
    "start_time": "2022-05-07T12:28:39.265Z"
   },
   {
    "duration": 0,
    "start_time": "2022-05-07T12:28:39.266Z"
   },
   {
    "duration": 0,
    "start_time": "2022-05-07T12:28:39.268Z"
   },
   {
    "duration": 0,
    "start_time": "2022-05-07T12:28:39.268Z"
   },
   {
    "duration": 0,
    "start_time": "2022-05-07T12:28:39.269Z"
   },
   {
    "duration": 0,
    "start_time": "2022-05-07T12:28:39.270Z"
   },
   {
    "duration": 0,
    "start_time": "2022-05-07T12:28:39.271Z"
   },
   {
    "duration": 0,
    "start_time": "2022-05-07T12:28:39.272Z"
   },
   {
    "duration": 0,
    "start_time": "2022-05-07T12:28:39.273Z"
   },
   {
    "duration": 0,
    "start_time": "2022-05-07T12:28:39.275Z"
   },
   {
    "duration": 0,
    "start_time": "2022-05-07T12:28:39.276Z"
   },
   {
    "duration": 0,
    "start_time": "2022-05-07T12:28:39.277Z"
   },
   {
    "duration": 0,
    "start_time": "2022-05-07T12:28:39.278Z"
   },
   {
    "duration": 0,
    "start_time": "2022-05-07T12:28:39.279Z"
   },
   {
    "duration": 0,
    "start_time": "2022-05-07T12:28:39.280Z"
   },
   {
    "duration": 0,
    "start_time": "2022-05-07T12:28:39.280Z"
   },
   {
    "duration": 29,
    "start_time": "2022-05-07T12:28:39.790Z"
   },
   {
    "duration": 62,
    "start_time": "2022-05-07T12:28:41.033Z"
   },
   {
    "duration": 67,
    "start_time": "2022-05-07T12:28:41.659Z"
   },
   {
    "duration": 118,
    "start_time": "2022-05-07T12:28:43.292Z"
   },
   {
    "duration": 10,
    "start_time": "2022-05-07T12:28:43.534Z"
   },
   {
    "duration": 3,
    "start_time": "2022-05-07T12:28:43.671Z"
   },
   {
    "duration": 7,
    "start_time": "2022-05-07T12:28:43.914Z"
   },
   {
    "duration": 12800,
    "start_time": "2022-05-07T12:28:44.206Z"
   },
   {
    "duration": 14,
    "start_time": "2022-05-07T12:28:57.008Z"
   },
   {
    "duration": 565,
    "start_time": "2022-05-07T12:28:57.024Z"
   },
   {
    "duration": 8,
    "start_time": "2022-05-07T12:28:57.591Z"
   },
   {
    "duration": 86,
    "start_time": "2022-05-07T12:28:57.600Z"
   },
   {
    "duration": 8,
    "start_time": "2022-05-07T12:28:57.688Z"
   },
   {
    "duration": 19,
    "start_time": "2022-05-07T12:28:57.698Z"
   },
   {
    "duration": 13,
    "start_time": "2022-05-07T12:32:10.644Z"
   },
   {
    "duration": 8,
    "start_time": "2022-05-07T12:32:19.219Z"
   },
   {
    "duration": 9,
    "start_time": "2022-05-07T12:32:28.382Z"
   },
   {
    "duration": 203,
    "start_time": "2022-05-07T12:33:01.791Z"
   },
   {
    "duration": 9,
    "start_time": "2022-05-07T12:34:28.128Z"
   },
   {
    "duration": 9,
    "start_time": "2022-05-07T12:34:37.500Z"
   },
   {
    "duration": 8,
    "start_time": "2022-05-07T12:34:57.298Z"
   },
   {
    "duration": 7,
    "start_time": "2022-05-07T12:50:56.806Z"
   },
   {
    "duration": 20,
    "start_time": "2022-05-07T12:50:57.312Z"
   },
   {
    "duration": 19,
    "start_time": "2022-05-07T12:50:57.546Z"
   },
   {
    "duration": 59,
    "start_time": "2022-05-07T12:50:57.762Z"
   },
   {
    "duration": 59,
    "start_time": "2022-05-07T12:50:57.926Z"
   },
   {
    "duration": 3,
    "start_time": "2022-05-07T12:50:58.121Z"
   },
   {
    "duration": 9,
    "start_time": "2022-05-07T12:50:58.330Z"
   },
   {
    "duration": 7,
    "start_time": "2022-05-07T12:50:58.918Z"
   },
   {
    "duration": 53,
    "start_time": "2022-05-07T12:50:59.360Z"
   },
   {
    "duration": 36,
    "start_time": "2022-05-07T12:50:59.614Z"
   },
   {
    "duration": 1170,
    "start_time": "2022-05-07T12:51:00.326Z"
   },
   {
    "duration": 1736,
    "start_time": "2022-05-07T12:51:01.498Z"
   },
   {
    "duration": 0,
    "start_time": "2022-05-07T12:51:03.235Z"
   },
   {
    "duration": 1,
    "start_time": "2022-05-07T12:51:03.236Z"
   },
   {
    "duration": 0,
    "start_time": "2022-05-07T12:51:03.237Z"
   },
   {
    "duration": 1658,
    "start_time": "2022-05-07T12:51:10.485Z"
   },
   {
    "duration": 12,
    "start_time": "2022-05-07T12:51:29.567Z"
   },
   {
    "duration": 15,
    "start_time": "2022-05-07T12:51:36.241Z"
   },
   {
    "duration": 63,
    "start_time": "2022-05-07T12:51:36.921Z"
   },
   {
    "duration": 8,
    "start_time": "2022-05-07T12:51:37.588Z"
   },
   {
    "duration": 18,
    "start_time": "2022-05-07T12:51:37.858Z"
   },
   {
    "duration": 18,
    "start_time": "2022-05-07T12:51:38.055Z"
   },
   {
    "duration": 53,
    "start_time": "2022-05-07T12:51:38.228Z"
   },
   {
    "duration": 51,
    "start_time": "2022-05-07T12:51:38.415Z"
   },
   {
    "duration": 3,
    "start_time": "2022-05-07T12:51:38.585Z"
   },
   {
    "duration": 7,
    "start_time": "2022-05-07T12:51:39.062Z"
   },
   {
    "duration": 6,
    "start_time": "2022-05-07T12:51:39.256Z"
   },
   {
    "duration": 97,
    "start_time": "2022-05-07T12:51:39.644Z"
   },
   {
    "duration": 34,
    "start_time": "2022-05-07T12:51:40.115Z"
   },
   {
    "duration": 128,
    "start_time": "2022-05-07T17:17:39.972Z"
   },
   {
    "duration": 67,
    "start_time": "2022-05-07T17:17:40.463Z"
   },
   {
    "duration": 8,
    "start_time": "2022-05-07T17:17:40.547Z"
   },
   {
    "duration": 12,
    "start_time": "2022-05-07T17:17:40.631Z"
   },
   {
    "duration": 7,
    "start_time": "2022-05-07T17:17:40.713Z"
   },
   {
    "duration": 8,
    "start_time": "2022-05-07T17:17:40.797Z"
   },
   {
    "duration": 8,
    "start_time": "2022-05-07T17:17:40.966Z"
   },
   {
    "duration": 8,
    "start_time": "2022-05-07T17:17:41.048Z"
   },
   {
    "duration": 12,
    "start_time": "2022-05-07T17:17:41.134Z"
   },
   {
    "duration": 9,
    "start_time": "2022-05-07T17:17:41.213Z"
   },
   {
    "duration": 8,
    "start_time": "2022-05-07T17:17:41.298Z"
   },
   {
    "duration": 8,
    "start_time": "2022-05-07T17:17:41.382Z"
   },
   {
    "duration": 8,
    "start_time": "2022-05-07T17:17:41.466Z"
   },
   {
    "duration": 9,
    "start_time": "2022-05-07T17:17:41.558Z"
   },
   {
    "duration": 11,
    "start_time": "2022-05-07T17:17:41.634Z"
   },
   {
    "duration": 11,
    "start_time": "2022-05-07T17:17:41.724Z"
   },
   {
    "duration": 8,
    "start_time": "2022-05-07T17:17:41.808Z"
   },
   {
    "duration": 8,
    "start_time": "2022-05-07T17:17:41.886Z"
   },
   {
    "duration": 7,
    "start_time": "2022-05-07T17:17:41.974Z"
   },
   {
    "duration": 103,
    "start_time": "2022-05-07T17:17:44.038Z"
   },
   {
    "duration": 10880,
    "start_time": "2022-05-07T17:17:48.346Z"
   },
   {
    "duration": 230,
    "start_time": "2022-05-07T17:17:59.229Z"
   },
   {
    "duration": 28,
    "start_time": "2022-05-07T17:17:59.461Z"
   },
   {
    "duration": 4,
    "start_time": "2022-05-07T17:17:59.491Z"
   },
   {
    "duration": 38,
    "start_time": "2022-05-07T17:17:59.497Z"
   },
   {
    "duration": 25,
    "start_time": "2022-05-07T17:17:59.538Z"
   },
   {
    "duration": 108,
    "start_time": "2022-05-07T17:17:59.565Z"
   },
   {
    "duration": 111,
    "start_time": "2022-05-07T17:17:59.676Z"
   },
   {
    "duration": 490,
    "start_time": "2022-05-07T17:17:59.789Z"
   },
   {
    "duration": 120,
    "start_time": "2022-05-07T17:18:00.283Z"
   },
   {
    "duration": 38,
    "start_time": "2022-05-07T17:18:00.405Z"
   },
   {
    "duration": 121,
    "start_time": "2022-05-07T17:18:00.445Z"
   },
   {
    "duration": 21,
    "start_time": "2022-05-07T17:18:00.569Z"
   },
   {
    "duration": 55,
    "start_time": "2022-05-07T17:18:00.592Z"
   },
   {
    "duration": 27,
    "start_time": "2022-05-07T17:18:00.650Z"
   },
   {
    "duration": 118,
    "start_time": "2022-05-07T17:18:00.680Z"
   },
   {
    "duration": 108,
    "start_time": "2022-05-07T17:18:00.801Z"
   },
   {
    "duration": 15,
    "start_time": "2022-05-07T17:18:00.912Z"
   },
   {
    "duration": 38,
    "start_time": "2022-05-07T17:18:00.930Z"
   },
   {
    "duration": 28,
    "start_time": "2022-05-07T17:18:00.970Z"
   },
   {
    "duration": 185,
    "start_time": "2022-05-07T17:18:01.001Z"
   },
   {
    "duration": 67,
    "start_time": "2022-05-07T17:18:01.188Z"
   },
   {
    "duration": 10803,
    "start_time": "2022-05-07T17:18:01.257Z"
   },
   {
    "duration": 81,
    "start_time": "2022-05-07T17:18:12.078Z"
   },
   {
    "duration": 80,
    "start_time": "2022-05-07T17:18:12.162Z"
   },
   {
    "duration": 11299,
    "start_time": "2022-05-07T17:18:12.245Z"
   },
   {
    "duration": 97,
    "start_time": "2022-05-07T17:18:23.547Z"
   },
   {
    "duration": 192,
    "start_time": "2022-05-07T17:18:23.649Z"
   },
   {
    "duration": 202,
    "start_time": "2022-05-07T17:18:23.844Z"
   },
   {
    "duration": 367,
    "start_time": "2022-05-07T17:18:24.049Z"
   },
   {
    "duration": 26,
    "start_time": "2022-05-07T17:18:24.425Z"
   },
   {
    "duration": 5,
    "start_time": "2022-05-07T17:18:24.454Z"
   },
   {
    "duration": 12,
    "start_time": "2022-05-07T17:18:24.462Z"
   },
   {
    "duration": 26710,
    "start_time": "2022-05-07T17:18:24.477Z"
   },
   {
    "duration": 21,
    "start_time": "2022-05-07T17:18:51.189Z"
   },
   {
    "duration": 739,
    "start_time": "2022-05-07T17:18:51.212Z"
   },
   {
    "duration": 14,
    "start_time": "2022-05-07T17:18:51.954Z"
   },
   {
    "duration": 14,
    "start_time": "2022-05-07T17:18:51.970Z"
   },
   {
    "duration": 143,
    "start_time": "2022-05-07T17:18:51.986Z"
   },
   {
    "duration": 14,
    "start_time": "2022-05-07T17:18:52.133Z"
   },
   {
    "duration": 19,
    "start_time": "2022-05-07T17:18:52.150Z"
   },
   {
    "duration": 237,
    "start_time": "2022-05-07T17:18:52.171Z"
   },
   {
    "duration": 48,
    "start_time": "2022-05-07T17:18:52.410Z"
   },
   {
    "duration": 66,
    "start_time": "2022-05-07T17:18:52.460Z"
   },
   {
    "duration": 127,
    "start_time": "2022-05-07T17:18:52.531Z"
   },
   {
    "duration": 18,
    "start_time": "2022-05-07T17:18:52.661Z"
   },
   {
    "duration": 0,
    "start_time": "2022-05-07T17:18:52.681Z"
   },
   {
    "duration": 0,
    "start_time": "2022-05-07T17:18:52.683Z"
   },
   {
    "duration": 0,
    "start_time": "2022-05-07T17:18:52.684Z"
   },
   {
    "duration": 0,
    "start_time": "2022-05-07T17:18:52.686Z"
   },
   {
    "duration": 0,
    "start_time": "2022-05-07T17:18:52.688Z"
   },
   {
    "duration": 0,
    "start_time": "2022-05-07T17:18:52.690Z"
   },
   {
    "duration": 0,
    "start_time": "2022-05-07T17:18:52.725Z"
   },
   {
    "duration": 0,
    "start_time": "2022-05-07T17:18:52.729Z"
   },
   {
    "duration": 0,
    "start_time": "2022-05-07T17:18:52.730Z"
   },
   {
    "duration": 10,
    "start_time": "2022-05-07T17:22:01.531Z"
   },
   {
    "duration": 29,
    "start_time": "2022-05-07T17:22:02.228Z"
   },
   {
    "duration": 4,
    "start_time": "2022-05-07T17:34:36.383Z"
   },
   {
    "duration": 13,
    "start_time": "2022-05-07T17:34:36.675Z"
   },
   {
    "duration": 434,
    "start_time": "2022-05-07T17:34:37.059Z"
   },
   {
    "duration": 408,
    "start_time": "2022-05-07T17:34:42.055Z"
   },
   {
    "duration": 14,
    "start_time": "2022-05-07T17:34:53.916Z"
   },
   {
    "duration": 26,
    "start_time": "2022-05-07T17:38:32.535Z"
   },
   {
    "duration": 30,
    "start_time": "2022-05-07T17:38:35.514Z"
   },
   {
    "duration": 114,
    "start_time": "2022-05-07T17:38:52.412Z"
   },
   {
    "duration": 72,
    "start_time": "2022-05-07T17:38:52.716Z"
   },
   {
    "duration": 9,
    "start_time": "2022-05-07T17:38:53.055Z"
   },
   {
    "duration": 116,
    "start_time": "2022-05-07T17:38:56.315Z"
   },
   {
    "duration": 9557,
    "start_time": "2022-05-07T17:39:01.738Z"
   },
   {
    "duration": 227,
    "start_time": "2022-05-07T17:39:11.298Z"
   },
   {
    "duration": 33,
    "start_time": "2022-05-07T17:39:11.529Z"
   },
   {
    "duration": 4,
    "start_time": "2022-05-07T17:39:11.565Z"
   },
   {
    "duration": 12,
    "start_time": "2022-05-07T17:39:11.572Z"
   },
   {
    "duration": 50,
    "start_time": "2022-05-07T17:39:11.586Z"
   },
   {
    "duration": 108,
    "start_time": "2022-05-07T17:39:11.638Z"
   },
   {
    "duration": 116,
    "start_time": "2022-05-07T17:39:11.749Z"
   },
   {
    "duration": 484,
    "start_time": "2022-05-07T17:39:11.867Z"
   },
   {
    "duration": 121,
    "start_time": "2022-05-07T17:39:12.355Z"
   },
   {
    "duration": 26,
    "start_time": "2022-05-07T17:39:12.479Z"
   },
   {
    "duration": 140,
    "start_time": "2022-05-07T17:39:12.507Z"
   },
   {
    "duration": 12,
    "start_time": "2022-05-07T17:39:12.649Z"
   },
   {
    "duration": 37,
    "start_time": "2022-05-07T17:39:12.663Z"
   },
   {
    "duration": 112,
    "start_time": "2022-05-07T17:39:12.702Z"
   },
   {
    "duration": 120,
    "start_time": "2022-05-07T17:39:12.816Z"
   },
   {
    "duration": 5,
    "start_time": "2022-05-07T17:39:12.939Z"
   },
   {
    "duration": 19,
    "start_time": "2022-05-07T17:39:12.946Z"
   },
   {
    "duration": 10,
    "start_time": "2022-05-07T17:39:12.968Z"
   },
   {
    "duration": 70,
    "start_time": "2022-05-07T17:39:12.981Z"
   },
   {
    "duration": 164,
    "start_time": "2022-05-07T17:44:59.170Z"
   },
   {
    "duration": 52,
    "start_time": "2022-05-07T17:45:06.867Z"
   },
   {
    "duration": 10,
    "start_time": "2022-05-07T17:46:04.800Z"
   },
   {
    "duration": 10723,
    "start_time": "2022-05-07T17:46:29.642Z"
   },
   {
    "duration": 85,
    "start_time": "2022-05-07T17:46:40.368Z"
   },
   {
    "duration": 73,
    "start_time": "2022-05-07T17:46:40.455Z"
   },
   {
    "duration": 10675,
    "start_time": "2022-05-07T17:46:40.533Z"
   },
   {
    "duration": 23,
    "start_time": "2022-05-07T17:52:03.568Z"
   },
   {
    "duration": 44,
    "start_time": "2022-05-07T17:52:44.336Z"
   },
   {
    "duration": 85,
    "start_time": "2022-05-07T18:10:12.313Z"
   },
   {
    "duration": 89,
    "start_time": "2022-05-07T18:13:14.167Z"
   },
   {
    "duration": 3909,
    "start_time": "2022-05-07T18:45:54.660Z"
   },
   {
    "duration": 219,
    "start_time": "2022-05-07T18:45:58.572Z"
   },
   {
    "duration": 48,
    "start_time": "2022-05-07T18:45:58.794Z"
   },
   {
    "duration": 5,
    "start_time": "2022-05-07T18:45:58.844Z"
   },
   {
    "duration": 16,
    "start_time": "2022-05-07T18:45:58.851Z"
   },
   {
    "duration": 16,
    "start_time": "2022-05-07T18:45:58.870Z"
   },
   {
    "duration": 101,
    "start_time": "2022-05-07T18:45:58.927Z"
   },
   {
    "duration": 147,
    "start_time": "2022-05-07T18:45:59.034Z"
   },
   {
    "duration": 458,
    "start_time": "2022-05-07T18:45:59.184Z"
   },
   {
    "duration": 108,
    "start_time": "2022-05-07T18:45:59.645Z"
   },
   {
    "duration": 25,
    "start_time": "2022-05-07T18:45:59.756Z"
   },
   {
    "duration": 127,
    "start_time": "2022-05-07T18:45:59.784Z"
   },
   {
    "duration": 71,
    "start_time": "2022-05-07T18:45:59.914Z"
   },
   {
    "duration": 14,
    "start_time": "2022-05-07T18:45:59.987Z"
   },
   {
    "duration": 32,
    "start_time": "2022-05-07T18:46:00.026Z"
   },
   {
    "duration": 112,
    "start_time": "2022-05-07T18:46:00.060Z"
   },
   {
    "duration": 102,
    "start_time": "2022-05-07T18:46:00.174Z"
   },
   {
    "duration": 5,
    "start_time": "2022-05-07T18:46:00.279Z"
   },
   {
    "duration": 13,
    "start_time": "2022-05-07T18:46:00.287Z"
   },
   {
    "duration": 23,
    "start_time": "2022-05-07T18:46:00.324Z"
   },
   {
    "duration": 37,
    "start_time": "2022-05-07T18:46:00.350Z"
   },
   {
    "duration": 152,
    "start_time": "2022-05-07T18:46:00.390Z"
   },
   {
    "duration": 52,
    "start_time": "2022-05-07T18:46:00.546Z"
   },
   {
    "duration": 28,
    "start_time": "2022-05-07T18:46:00.600Z"
   },
   {
    "duration": 10610,
    "start_time": "2022-05-07T18:46:00.632Z"
   },
   {
    "duration": 82,
    "start_time": "2022-05-07T18:46:11.246Z"
   },
   {
    "duration": 11488,
    "start_time": "2022-05-07T18:46:11.332Z"
   },
   {
    "duration": 101,
    "start_time": "2022-05-07T18:46:22.827Z"
   },
   {
    "duration": 197,
    "start_time": "2022-05-07T18:46:22.930Z"
   },
   {
    "duration": 194,
    "start_time": "2022-05-07T18:46:23.135Z"
   },
   {
    "duration": 428,
    "start_time": "2022-05-07T18:46:23.333Z"
   },
   {
    "duration": 20,
    "start_time": "2022-05-07T18:46:23.763Z"
   },
   {
    "duration": 10,
    "start_time": "2022-05-07T18:46:23.785Z"
   },
   {
    "duration": 31,
    "start_time": "2022-05-07T18:46:23.798Z"
   },
   {
    "duration": 27780,
    "start_time": "2022-05-07T18:46:23.832Z"
   },
   {
    "duration": 36,
    "start_time": "2022-05-07T18:46:51.614Z"
   },
   {
    "duration": 547,
    "start_time": "2022-05-07T18:46:51.653Z"
   },
   {
    "duration": 16,
    "start_time": "2022-05-07T18:51:22.759Z"
   },
   {
    "duration": 6,
    "start_time": "2022-05-07T18:54:35.300Z"
   },
   {
    "duration": 16,
    "start_time": "2022-05-07T18:54:36.214Z"
   },
   {
    "duration": 13,
    "start_time": "2022-05-07T19:01:38.168Z"
   },
   {
    "duration": 184,
    "start_time": "2022-05-07T19:02:13.034Z"
   },
   {
    "duration": 13,
    "start_time": "2022-05-07T19:04:28.348Z"
   },
   {
    "duration": 87,
    "start_time": "2022-05-07T19:04:42.182Z"
   },
   {
    "duration": 45,
    "start_time": "2022-05-07T19:05:07.966Z"
   },
   {
    "duration": 55,
    "start_time": "2022-05-07T19:07:26.551Z"
   },
   {
    "duration": 107,
    "start_time": "2022-05-07T19:08:09.333Z"
   },
   {
    "duration": 54,
    "start_time": "2022-05-07T19:12:01.194Z"
   },
   {
    "duration": 103,
    "start_time": "2022-05-07T19:18:24.675Z"
   },
   {
    "duration": 9,
    "start_time": "2022-05-07T19:18:25.402Z"
   },
   {
    "duration": 25,
    "start_time": "2022-05-07T19:18:26.645Z"
   },
   {
    "duration": 144,
    "start_time": "2022-05-07T19:20:14.991Z"
   },
   {
    "duration": 103,
    "start_time": "2022-05-07T19:23:18.405Z"
   },
   {
    "duration": 112,
    "start_time": "2022-05-07T19:23:19.833Z"
   },
   {
    "duration": 12,
    "start_time": "2022-05-07T19:23:21.006Z"
   },
   {
    "duration": 178,
    "start_time": "2022-05-07T19:23:21.724Z"
   },
   {
    "duration": 6,
    "start_time": "2022-05-07T19:24:41.957Z"
   },
   {
    "duration": 7,
    "start_time": "2022-05-07T19:26:09.500Z"
   },
   {
    "duration": 114,
    "start_time": "2022-05-07T19:26:10.180Z"
   },
   {
    "duration": 118,
    "start_time": "2022-05-07T19:26:11.516Z"
   },
   {
    "duration": 159,
    "start_time": "2022-05-07T19:26:12.068Z"
   },
   {
    "duration": 7384,
    "start_time": "2022-05-07T20:44:20.486Z"
   },
   {
    "duration": 153,
    "start_time": "2022-05-07T20:44:27.872Z"
   },
   {
    "duration": 19,
    "start_time": "2022-05-07T20:44:28.027Z"
   },
   {
    "duration": 4,
    "start_time": "2022-05-07T20:44:28.048Z"
   },
   {
    "duration": 20,
    "start_time": "2022-05-07T20:44:28.054Z"
   },
   {
    "duration": 7,
    "start_time": "2022-05-07T20:44:28.076Z"
   },
   {
    "duration": 67,
    "start_time": "2022-05-07T20:44:28.085Z"
   },
   {
    "duration": 88,
    "start_time": "2022-05-07T20:44:28.153Z"
   },
   {
    "duration": 319,
    "start_time": "2022-05-07T20:44:28.243Z"
   },
   {
    "duration": 74,
    "start_time": "2022-05-07T20:44:28.564Z"
   },
   {
    "duration": 37,
    "start_time": "2022-05-07T20:44:28.640Z"
   },
   {
    "duration": 66,
    "start_time": "2022-05-07T20:44:28.679Z"
   },
   {
    "duration": 52,
    "start_time": "2022-05-07T20:44:28.747Z"
   },
   {
    "duration": 10,
    "start_time": "2022-05-07T20:44:28.802Z"
   },
   {
    "duration": 25,
    "start_time": "2022-05-07T20:44:28.813Z"
   },
   {
    "duration": 83,
    "start_time": "2022-05-07T20:44:28.840Z"
   },
   {
    "duration": 64,
    "start_time": "2022-05-07T20:44:28.924Z"
   },
   {
    "duration": 3,
    "start_time": "2022-05-07T20:44:28.990Z"
   },
   {
    "duration": 20,
    "start_time": "2022-05-07T20:44:28.994Z"
   },
   {
    "duration": 11,
    "start_time": "2022-05-07T20:44:29.016Z"
   },
   {
    "duration": 20,
    "start_time": "2022-05-07T20:44:29.028Z"
   },
   {
    "duration": 92,
    "start_time": "2022-05-07T20:44:29.050Z"
   },
   {
    "duration": 49,
    "start_time": "2022-05-07T20:44:29.143Z"
   },
   {
    "duration": 6,
    "start_time": "2022-05-07T20:44:29.194Z"
   },
   {
    "duration": 5660,
    "start_time": "2022-05-07T20:44:29.201Z"
   },
   {
    "duration": 22,
    "start_time": "2022-05-07T20:44:34.863Z"
   },
   {
    "duration": 5606,
    "start_time": "2022-05-07T20:44:34.887Z"
   },
   {
    "duration": 27,
    "start_time": "2022-05-07T20:44:40.494Z"
   },
   {
    "duration": 152,
    "start_time": "2022-05-07T20:44:40.522Z"
   },
   {
    "duration": 109,
    "start_time": "2022-05-07T20:44:40.676Z"
   },
   {
    "duration": 214,
    "start_time": "2022-05-07T20:44:40.787Z"
   },
   {
    "duration": 3,
    "start_time": "2022-05-07T20:44:41.003Z"
   },
   {
    "duration": 14558,
    "start_time": "2022-05-07T20:44:41.007Z"
   },
   {
    "duration": 14,
    "start_time": "2022-05-07T20:44:55.567Z"
   },
   {
    "duration": 713,
    "start_time": "2022-05-07T20:44:55.583Z"
   },
   {
    "duration": 4,
    "start_time": "2022-05-07T20:44:56.297Z"
   },
   {
    "duration": 26,
    "start_time": "2022-05-07T20:44:56.303Z"
   },
   {
    "duration": 128,
    "start_time": "2022-05-07T20:44:56.331Z"
   },
   {
    "duration": 8,
    "start_time": "2022-05-07T20:44:56.461Z"
   },
   {
    "duration": 184,
    "start_time": "2022-05-07T20:44:56.473Z"
   },
   {
    "duration": 34,
    "start_time": "2022-05-07T20:44:56.661Z"
   },
   {
    "duration": 37,
    "start_time": "2022-05-07T20:44:56.697Z"
   },
   {
    "duration": 88,
    "start_time": "2022-05-07T20:44:56.735Z"
   },
   {
    "duration": 5,
    "start_time": "2022-05-07T20:44:56.825Z"
   },
   {
    "duration": 24,
    "start_time": "2022-05-07T20:44:56.832Z"
   },
   {
    "duration": 77,
    "start_time": "2022-05-07T20:44:56.858Z"
   },
   {
    "duration": 82,
    "start_time": "2022-05-07T20:44:56.937Z"
   },
   {
    "duration": 83,
    "start_time": "2022-05-07T20:44:57.021Z"
   },
   {
    "duration": 6,
    "start_time": "2022-05-07T20:44:57.105Z"
   },
   {
    "duration": 110,
    "start_time": "2022-05-07T20:44:57.113Z"
   },
   {
    "duration": 4,
    "start_time": "2022-05-07T20:44:57.224Z"
   },
   {
    "duration": 83,
    "start_time": "2022-05-07T20:44:57.230Z"
   },
   {
    "duration": 88,
    "start_time": "2022-05-07T20:44:57.315Z"
   },
   {
    "duration": 123,
    "start_time": "2022-05-07T20:44:57.405Z"
   },
   {
    "duration": 8316,
    "start_time": "2022-05-10T14:26:57.765Z"
   },
   {
    "duration": 180,
    "start_time": "2022-05-10T14:27:06.083Z"
   },
   {
    "duration": 23,
    "start_time": "2022-05-10T14:27:06.265Z"
   },
   {
    "duration": 4,
    "start_time": "2022-05-10T14:27:06.291Z"
   },
   {
    "duration": 12,
    "start_time": "2022-05-10T14:27:06.297Z"
   },
   {
    "duration": 32,
    "start_time": "2022-05-10T14:27:06.311Z"
   },
   {
    "duration": 73,
    "start_time": "2022-05-10T14:27:06.345Z"
   },
   {
    "duration": 78,
    "start_time": "2022-05-10T14:27:06.420Z"
   },
   {
    "duration": 329,
    "start_time": "2022-05-10T14:27:06.500Z"
   },
   {
    "duration": 72,
    "start_time": "2022-05-10T14:27:06.831Z"
   },
   {
    "duration": 41,
    "start_time": "2022-05-10T14:27:06.904Z"
   },
   {
    "duration": 87,
    "start_time": "2022-05-10T14:27:06.947Z"
   },
   {
    "duration": 44,
    "start_time": "2022-05-10T14:27:07.036Z"
   },
   {
    "duration": 9,
    "start_time": "2022-05-10T14:27:07.082Z"
   },
   {
    "duration": 43,
    "start_time": "2022-05-10T14:27:07.093Z"
   },
   {
    "duration": 69,
    "start_time": "2022-05-10T14:27:07.137Z"
   },
   {
    "duration": 83,
    "start_time": "2022-05-10T14:27:07.208Z"
   },
   {
    "duration": 3,
    "start_time": "2022-05-10T14:27:07.293Z"
   },
   {
    "duration": 15,
    "start_time": "2022-05-10T14:27:07.298Z"
   },
   {
    "duration": 25,
    "start_time": "2022-05-10T14:27:07.314Z"
   },
   {
    "duration": 23,
    "start_time": "2022-05-10T14:27:07.340Z"
   },
   {
    "duration": 123,
    "start_time": "2022-05-10T14:27:07.365Z"
   },
   {
    "duration": 49,
    "start_time": "2022-05-10T14:27:07.490Z"
   },
   {
    "duration": 7,
    "start_time": "2022-05-10T14:27:07.541Z"
   },
   {
    "duration": 6468,
    "start_time": "2022-05-10T14:27:07.550Z"
   },
   {
    "duration": 19,
    "start_time": "2022-05-10T14:27:14.020Z"
   },
   {
    "duration": 6322,
    "start_time": "2022-05-10T14:27:14.041Z"
   },
   {
    "duration": 67,
    "start_time": "2022-05-10T14:27:20.369Z"
   },
   {
    "duration": 114,
    "start_time": "2022-05-10T14:27:20.438Z"
   },
   {
    "duration": 120,
    "start_time": "2022-05-10T14:27:20.554Z"
   },
   {
    "duration": 209,
    "start_time": "2022-05-10T14:27:20.675Z"
   },
   {
    "duration": 4,
    "start_time": "2022-05-10T14:27:20.886Z"
   },
   {
    "duration": 16450,
    "start_time": "2022-05-10T14:27:20.891Z"
   },
   {
    "duration": 15,
    "start_time": "2022-05-10T14:27:37.343Z"
   },
   {
    "duration": 1154,
    "start_time": "2022-05-10T14:27:37.360Z"
   },
   {
    "duration": 144,
    "start_time": "2022-05-10T14:27:38.517Z"
   },
   {
    "duration": 4389,
    "start_time": "2022-05-10T14:27:50.066Z"
   },
   {
    "duration": 164,
    "start_time": "2022-05-10T14:27:54.458Z"
   },
   {
    "duration": 23,
    "start_time": "2022-05-10T14:27:54.623Z"
   },
   {
    "duration": 3,
    "start_time": "2022-05-10T14:27:54.648Z"
   },
   {
    "duration": 13,
    "start_time": "2022-05-10T14:27:54.653Z"
   },
   {
    "duration": 11,
    "start_time": "2022-05-10T14:27:54.667Z"
   },
   {
    "duration": 90,
    "start_time": "2022-05-10T14:27:54.679Z"
   },
   {
    "duration": 79,
    "start_time": "2022-05-10T14:27:54.771Z"
   },
   {
    "duration": 320,
    "start_time": "2022-05-10T14:27:54.852Z"
   },
   {
    "duration": 81,
    "start_time": "2022-05-10T14:27:55.175Z"
   },
   {
    "duration": 19,
    "start_time": "2022-05-10T14:27:55.258Z"
   },
   {
    "duration": 86,
    "start_time": "2022-05-10T14:27:55.279Z"
   },
   {
    "duration": 48,
    "start_time": "2022-05-10T14:27:55.367Z"
   },
   {
    "duration": 23,
    "start_time": "2022-05-10T14:27:55.417Z"
   },
   {
    "duration": 24,
    "start_time": "2022-05-10T14:27:55.442Z"
   },
   {
    "duration": 85,
    "start_time": "2022-05-10T14:27:55.468Z"
   },
   {
    "duration": 67,
    "start_time": "2022-05-10T14:27:55.555Z"
   },
   {
    "duration": 12,
    "start_time": "2022-05-10T14:27:55.623Z"
   },
   {
    "duration": 16,
    "start_time": "2022-05-10T14:27:55.637Z"
   },
   {
    "duration": 7,
    "start_time": "2022-05-10T14:27:55.655Z"
   },
   {
    "duration": 24,
    "start_time": "2022-05-10T14:27:55.664Z"
   },
   {
    "duration": 112,
    "start_time": "2022-05-10T14:27:55.690Z"
   },
   {
    "duration": 50,
    "start_time": "2022-05-10T14:27:55.804Z"
   },
   {
    "duration": 7,
    "start_time": "2022-05-10T14:27:55.855Z"
   },
   {
    "duration": 6458,
    "start_time": "2022-05-10T14:27:55.864Z"
   },
   {
    "duration": 15,
    "start_time": "2022-05-10T14:28:02.339Z"
   },
   {
    "duration": 6418,
    "start_time": "2022-05-10T14:28:02.356Z"
   },
   {
    "duration": 65,
    "start_time": "2022-05-10T14:28:08.778Z"
   },
   {
    "duration": 112,
    "start_time": "2022-05-10T14:28:08.845Z"
   },
   {
    "duration": 120,
    "start_time": "2022-05-10T14:28:08.959Z"
   },
   {
    "duration": 167,
    "start_time": "2022-05-10T14:28:09.134Z"
   },
   {
    "duration": 30,
    "start_time": "2022-05-10T14:28:09.303Z"
   },
   {
    "duration": 17876,
    "start_time": "2022-05-10T14:28:09.335Z"
   },
   {
    "duration": 21,
    "start_time": "2022-05-10T14:28:27.212Z"
   },
   {
    "duration": 1174,
    "start_time": "2022-05-10T14:28:27.235Z"
   },
   {
    "duration": 4,
    "start_time": "2022-05-10T14:28:28.411Z"
   },
   {
    "duration": 13,
    "start_time": "2022-05-10T14:28:28.417Z"
   },
   {
    "duration": 139,
    "start_time": "2022-05-10T14:28:28.432Z"
   },
   {
    "duration": 9,
    "start_time": "2022-05-10T14:28:28.573Z"
   },
   {
    "duration": 181,
    "start_time": "2022-05-10T14:28:28.584Z"
   },
   {
    "duration": 34,
    "start_time": "2022-05-10T14:28:28.767Z"
   },
   {
    "duration": 64,
    "start_time": "2022-05-10T14:28:28.803Z"
   },
   {
    "duration": 87,
    "start_time": "2022-05-10T14:28:28.869Z"
   },
   {
    "duration": 6,
    "start_time": "2022-05-10T14:28:28.958Z"
   },
   {
    "duration": 23,
    "start_time": "2022-05-10T14:28:28.966Z"
   },
   {
    "duration": 97,
    "start_time": "2022-05-10T14:28:28.991Z"
   },
   {
    "duration": 84,
    "start_time": "2022-05-10T14:28:29.090Z"
   },
   {
    "duration": 94,
    "start_time": "2022-05-10T14:28:29.177Z"
   },
   {
    "duration": 7,
    "start_time": "2022-05-10T14:28:29.273Z"
   },
   {
    "duration": 122,
    "start_time": "2022-05-10T14:28:29.282Z"
   },
   {
    "duration": 4,
    "start_time": "2022-05-10T14:28:29.406Z"
   },
   {
    "duration": 90,
    "start_time": "2022-05-10T14:28:29.412Z"
   },
   {
    "duration": 90,
    "start_time": "2022-05-10T14:28:29.503Z"
   },
   {
    "duration": 122,
    "start_time": "2022-05-10T14:28:29.595Z"
   },
   {
    "duration": 166,
    "start_time": "2022-05-10T14:32:51.391Z"
   },
   {
    "duration": 181,
    "start_time": "2022-05-10T14:33:29.952Z"
   },
   {
    "duration": 158,
    "start_time": "2022-05-10T14:33:38.998Z"
   },
   {
    "duration": 169,
    "start_time": "2022-05-10T14:33:43.789Z"
   },
   {
    "duration": 16,
    "start_time": "2022-05-10T14:33:47.983Z"
   },
   {
    "duration": 12,
    "start_time": "2022-05-10T14:33:54.867Z"
   },
   {
    "duration": 22,
    "start_time": "2022-05-10T14:34:21.933Z"
   },
   {
    "duration": 11,
    "start_time": "2022-05-10T14:34:28.747Z"
   },
   {
    "duration": 242,
    "start_time": "2022-05-10T14:34:51.071Z"
   },
   {
    "duration": 9,
    "start_time": "2022-05-10T14:34:57.065Z"
   },
   {
    "duration": 12,
    "start_time": "2022-05-10T14:35:45.697Z"
   },
   {
    "duration": 14,
    "start_time": "2022-05-10T14:41:32.924Z"
   },
   {
    "duration": 27,
    "start_time": "2022-05-10T14:41:47.281Z"
   },
   {
    "duration": 23,
    "start_time": "2022-05-10T14:43:46.597Z"
   },
   {
    "duration": 18,
    "start_time": "2022-05-10T14:43:53.962Z"
   },
   {
    "duration": 18,
    "start_time": "2022-05-10T14:45:08.757Z"
   },
   {
    "duration": 25,
    "start_time": "2022-05-10T14:46:08.165Z"
   },
   {
    "duration": 19,
    "start_time": "2022-05-10T14:46:59.491Z"
   },
   {
    "duration": 17,
    "start_time": "2022-05-10T14:47:54.917Z"
   },
   {
    "duration": 29,
    "start_time": "2022-05-10T14:51:50.009Z"
   },
   {
    "duration": 8,
    "start_time": "2022-05-10T14:53:06.759Z"
   },
   {
    "duration": 68,
    "start_time": "2022-05-10T14:53:46.044Z"
   },
   {
    "duration": 16,
    "start_time": "2022-05-10T15:16:47.224Z"
   },
   {
    "duration": 55,
    "start_time": "2022-05-10T15:17:40.422Z"
   },
   {
    "duration": 25,
    "start_time": "2022-05-10T15:21:39.642Z"
   },
   {
    "duration": 23,
    "start_time": "2022-05-10T15:21:45.795Z"
   },
   {
    "duration": 10,
    "start_time": "2022-05-10T15:22:16.982Z"
   },
   {
    "duration": 8,
    "start_time": "2022-05-10T15:22:29.677Z"
   },
   {
    "duration": 197,
    "start_time": "2022-05-10T15:23:11.688Z"
   },
   {
    "duration": 12,
    "start_time": "2022-05-10T15:23:17.630Z"
   },
   {
    "duration": 10,
    "start_time": "2022-05-10T15:23:49.157Z"
   },
   {
    "duration": 11,
    "start_time": "2022-05-10T15:24:37.130Z"
   },
   {
    "duration": 15,
    "start_time": "2022-05-10T15:31:02.525Z"
   },
   {
    "duration": 16,
    "start_time": "2022-05-10T15:31:36.571Z"
   },
   {
    "duration": 20,
    "start_time": "2022-05-10T15:32:56.550Z"
   },
   {
    "duration": 13,
    "start_time": "2022-05-10T15:45:48.547Z"
   },
   {
    "duration": 18,
    "start_time": "2022-05-10T15:47:25.396Z"
   },
   {
    "duration": 9320,
    "start_time": "2022-05-11T18:42:38.145Z"
   },
   {
    "duration": 156,
    "start_time": "2022-05-11T18:42:47.467Z"
   },
   {
    "duration": 20,
    "start_time": "2022-05-11T18:42:47.625Z"
   },
   {
    "duration": 4,
    "start_time": "2022-05-11T18:42:47.647Z"
   },
   {
    "duration": 10,
    "start_time": "2022-05-11T18:42:47.671Z"
   },
   {
    "duration": 12,
    "start_time": "2022-05-11T18:42:47.683Z"
   },
   {
    "duration": 79,
    "start_time": "2022-05-11T18:42:47.697Z"
   },
   {
    "duration": 61,
    "start_time": "2022-05-11T18:42:47.778Z"
   },
   {
    "duration": 309,
    "start_time": "2022-05-11T18:42:47.841Z"
   },
   {
    "duration": 69,
    "start_time": "2022-05-11T18:42:48.153Z"
   },
   {
    "duration": 17,
    "start_time": "2022-05-11T18:42:48.224Z"
   },
   {
    "duration": 80,
    "start_time": "2022-05-11T18:42:48.244Z"
   },
   {
    "duration": 49,
    "start_time": "2022-05-11T18:42:48.326Z"
   },
   {
    "duration": 10,
    "start_time": "2022-05-11T18:42:48.377Z"
   },
   {
    "duration": 23,
    "start_time": "2022-05-11T18:42:48.389Z"
   },
   {
    "duration": 81,
    "start_time": "2022-05-11T18:42:48.414Z"
   },
   {
    "duration": 62,
    "start_time": "2022-05-11T18:42:48.496Z"
   },
   {
    "duration": 13,
    "start_time": "2022-05-11T18:42:48.560Z"
   },
   {
    "duration": 20,
    "start_time": "2022-05-11T18:42:48.575Z"
   },
   {
    "duration": 9,
    "start_time": "2022-05-11T18:42:48.597Z"
   },
   {
    "duration": 21,
    "start_time": "2022-05-11T18:42:48.608Z"
   },
   {
    "duration": 140,
    "start_time": "2022-05-11T18:42:48.631Z"
   },
   {
    "duration": 53,
    "start_time": "2022-05-11T18:42:48.773Z"
   },
   {
    "duration": 6,
    "start_time": "2022-05-11T18:42:48.828Z"
   },
   {
    "duration": 10431,
    "start_time": "2022-05-11T18:42:48.836Z"
   },
   {
    "duration": 14,
    "start_time": "2022-05-11T18:42:59.269Z"
   },
   {
    "duration": 9309,
    "start_time": "2022-05-11T18:42:59.286Z"
   },
   {
    "duration": 79,
    "start_time": "2022-05-11T18:43:08.600Z"
   },
   {
    "duration": 132,
    "start_time": "2022-05-11T18:43:08.681Z"
   },
   {
    "duration": 192,
    "start_time": "2022-05-11T18:43:08.815Z"
   },
   {
    "duration": 231,
    "start_time": "2022-05-11T18:43:09.009Z"
   },
   {
    "duration": 5,
    "start_time": "2022-05-11T18:43:09.270Z"
   },
   {
    "duration": 15731,
    "start_time": "2022-05-11T18:43:09.276Z"
   },
   {
    "duration": 22,
    "start_time": "2022-05-11T18:43:25.009Z"
   },
   {
    "duration": 810,
    "start_time": "2022-05-11T18:43:25.033Z"
   },
   {
    "duration": 4,
    "start_time": "2022-05-11T18:43:25.845Z"
   },
   {
    "duration": 18,
    "start_time": "2022-05-11T18:43:25.850Z"
   },
   {
    "duration": 126,
    "start_time": "2022-05-11T18:43:25.870Z"
   },
   {
    "duration": 12,
    "start_time": "2022-05-11T18:43:25.998Z"
   },
   {
    "duration": 162,
    "start_time": "2022-05-11T18:43:26.012Z"
   },
   {
    "duration": 32,
    "start_time": "2022-05-11T18:43:26.176Z"
   },
   {
    "duration": 61,
    "start_time": "2022-05-11T18:43:26.210Z"
   },
   {
    "duration": 70,
    "start_time": "2022-05-11T18:43:26.273Z"
   },
   {
    "duration": 10,
    "start_time": "2022-05-11T18:43:26.345Z"
   },
   {
    "duration": 36,
    "start_time": "2022-05-11T18:43:26.358Z"
   },
   {
    "duration": 110,
    "start_time": "2022-05-11T18:43:26.396Z"
   },
   {
    "duration": 105,
    "start_time": "2022-05-11T18:43:26.508Z"
   },
   {
    "duration": 103,
    "start_time": "2022-05-11T18:43:26.616Z"
   },
   {
    "duration": 9,
    "start_time": "2022-05-11T18:43:26.721Z"
   },
   {
    "duration": 165,
    "start_time": "2022-05-11T18:43:26.732Z"
   },
   {
    "duration": 7,
    "start_time": "2022-05-11T18:43:26.899Z"
   },
   {
    "duration": 107,
    "start_time": "2022-05-11T18:43:26.908Z"
   },
   {
    "duration": 111,
    "start_time": "2022-05-11T18:43:27.018Z"
   },
   {
    "duration": 157,
    "start_time": "2022-05-11T18:43:27.131Z"
   }
  ],
  "kernelspec": {
   "display_name": "Python 3",
   "language": "python",
   "name": "python3"
  },
  "language_info": {
   "codemirror_mode": {
    "name": "ipython",
    "version": 3
   },
   "file_extension": ".py",
   "mimetype": "text/x-python",
   "name": "python",
   "nbconvert_exporter": "python",
   "pygments_lexer": "ipython3",
   "version": "3.8.8"
  },
  "toc": {
   "base_numbering": 1,
   "nav_menu": {},
   "number_sections": true,
   "sideBar": true,
   "skip_h1_title": true,
   "title_cell": "Table of Contents",
   "title_sidebar": "Contents",
   "toc_cell": false,
   "toc_position": {
    "height": "calc(100% - 180px)",
    "left": "10px",
    "top": "150px",
    "width": "274.323px"
   },
   "toc_section_display": true,
   "toc_window_display": true
  }
 },
 "nbformat": 4,
 "nbformat_minor": 2
}
